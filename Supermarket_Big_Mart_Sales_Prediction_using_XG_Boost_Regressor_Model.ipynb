{
  "nbformat": 4,
  "nbformat_minor": 0,
  "metadata": {
    "colab": {
      "provenance": [],
      "authorship_tag": "ABX9TyNEV5ZiVrw4c7hranZu8Td1",
      "include_colab_link": true
    },
    "kernelspec": {
      "name": "python3",
      "display_name": "Python 3"
    },
    "language_info": {
      "name": "python"
    }
  },
  "cells": [
    {
      "cell_type": "markdown",
      "metadata": {
        "id": "view-in-github",
        "colab_type": "text"
      },
      "source": [
        "<a href=\"https://colab.research.google.com/github/jackysuenpython/Supermarket--Big-Mart-Sales-Prediction-using-XG-Boost-Regressor-Model/blob/main/Supermarket_Big_Mart_Sales_Prediction_using_XG_Boost_Regressor_Model.ipynb\" target=\"_parent\"><img src=\"https://colab.research.google.com/assets/colab-badge.svg\" alt=\"Open In Colab\"/></a>"
      ]
    },
    {
      "cell_type": "code",
      "execution_count": 1,
      "metadata": {
        "id": "SC6EGy3TEBaw"
      },
      "outputs": [],
      "source": [
        "import numpy as np\n",
        "import pandas as pd\n",
        "import matplotlib.pyplot as plt\n",
        "import seaborn as sns\n",
        "from sklearn.preprocessing import LabelEncoder\n",
        "from sklearn.model_selection import train_test_split\n",
        "from xgboost import XGBRegressor\n",
        "from sklearn import metrics"
      ]
    },
    {
      "cell_type": "markdown",
      "source": [
        "Project: Supermarket BigMart wants to understand their past sales data in order to predict the future sales so they can allocate budget and resource\n",
        "Solution: Build a XG Boost Regression Model to solve this prediction demand"
      ],
      "metadata": {
        "id": "5DuQNEJUM65y"
      }
    },
    {
      "cell_type": "markdown",
      "source": [
        "Import Dataset"
      ],
      "metadata": {
        "id": "penpuGFZM4dh"
      }
    },
    {
      "cell_type": "code",
      "source": [
        "from google.colab import drive\n",
        "drive.mount('/content/drive')"
      ],
      "metadata": {
        "colab": {
          "base_uri": "https://localhost:8080/"
        },
        "id": "n5btRoOZM0Wf",
        "outputId": "ecaa8e8b-c29b-4663-8624-b6d416f00ed2"
      },
      "execution_count": 2,
      "outputs": [
        {
          "output_type": "stream",
          "name": "stdout",
          "text": [
            "Mounted at /content/drive\n"
          ]
        }
      ]
    },
    {
      "cell_type": "code",
      "source": [
        "bmdata = pd.read_csv('/content/drive/My Drive/big_mart_sales.csv')"
      ],
      "metadata": {
        "id": "V4W-xkUsWdP1"
      },
      "execution_count": 20,
      "outputs": []
    },
    {
      "cell_type": "code",
      "source": [
        "bmdata.info()"
      ],
      "metadata": {
        "colab": {
          "base_uri": "https://localhost:8080/"
        },
        "id": "zv64yjLzWzX6",
        "outputId": "cf7fee81-ded7-4dad-b45b-30c8a90b6515"
      },
      "execution_count": 21,
      "outputs": [
        {
          "output_type": "stream",
          "name": "stdout",
          "text": [
            "<class 'pandas.core.frame.DataFrame'>\n",
            "RangeIndex: 8523 entries, 0 to 8522\n",
            "Data columns (total 12 columns):\n",
            " #   Column                     Non-Null Count  Dtype  \n",
            "---  ------                     --------------  -----  \n",
            " 0   Item_Identifier            8523 non-null   object \n",
            " 1   Item_Weight                7060 non-null   float64\n",
            " 2   Item_Fat_Content           8523 non-null   object \n",
            " 3   Item_Visibility            8523 non-null   float64\n",
            " 4   Item_Type                  8523 non-null   object \n",
            " 5   Item_MRP                   8523 non-null   float64\n",
            " 6   Outlet_Identifier          8523 non-null   object \n",
            " 7   Outlet_Establishment_Year  8523 non-null   int64  \n",
            " 8   Outlet_Size                6113 non-null   object \n",
            " 9   Outlet_Location_Type       8523 non-null   object \n",
            " 10  Outlet_Type                8523 non-null   object \n",
            " 11  Item_Outlet_Sales          8523 non-null   float64\n",
            "dtypes: float64(4), int64(1), object(7)\n",
            "memory usage: 799.2+ KB\n"
          ]
        }
      ]
    },
    {
      "cell_type": "markdown",
      "source": [
        "1.ItemIdentifier ---- Unique product ID\n",
        "\n",
        "2.ItemWeight ---- Weight of product\n",
        "\n",
        "3.ItemFatContent ---- Whether the product is low fat or not\n",
        "\n",
        "4.ItemVisibility ---- The % of the total display area of all products in a store allocated to the particular product\n",
        "\n",
        "5.ItemType ---- The category to which the product belongs\n",
        "\n",
        "6.ItemMRP ---- Maximum Retail Price (list price) of the product\n",
        "\n",
        "7.OutletIdentifier ---- Unique store ID\n",
        "\n",
        "8.OutletEstablishmentYear ---- The year in which the store was established\n",
        "\n",
        "9.OutletSize ---- The size of the store in terms of ground area covered\n",
        "\n",
        "10.OutletLocationType ---- The type of city in which the store is located\n",
        "\n",
        "11.OutletType ---- Whether the outlet is just a grocery store or some sort of supermarket\n",
        "\n",
        "12.ItemOutletSales ---- sales of the product in the particular store. This is the outcome variable to be predicted."
      ],
      "metadata": {
        "id": "YRv-7RjwW56a"
      }
    },
    {
      "cell_type": "code",
      "source": [
        "bmdata.head(5)"
      ],
      "metadata": {
        "colab": {
          "base_uri": "https://localhost:8080/",
          "height": 313
        },
        "id": "dVYpJ9SxW1IA",
        "outputId": "0c98a102-a5b9-46a8-9064-fe9f1657daf4"
      },
      "execution_count": 22,
      "outputs": [
        {
          "output_type": "execute_result",
          "data": {
            "text/plain": [
              "  Item_Identifier  Item_Weight Item_Fat_Content  Item_Visibility  \\\n",
              "0           FDA15         9.30          Low Fat         0.016047   \n",
              "1           DRC01         5.92          Regular         0.019278   \n",
              "2           FDN15        17.50          Low Fat         0.016760   \n",
              "3           FDX07        19.20          Regular         0.000000   \n",
              "4           NCD19         8.93          Low Fat         0.000000   \n",
              "\n",
              "               Item_Type  Item_MRP Outlet_Identifier  \\\n",
              "0                  Dairy  249.8092            OUT049   \n",
              "1            Soft Drinks   48.2692            OUT018   \n",
              "2                   Meat  141.6180            OUT049   \n",
              "3  Fruits and Vegetables  182.0950            OUT010   \n",
              "4              Household   53.8614            OUT013   \n",
              "\n",
              "   Outlet_Establishment_Year Outlet_Size Outlet_Location_Type  \\\n",
              "0                       1999      Medium               Tier 1   \n",
              "1                       2009      Medium               Tier 3   \n",
              "2                       1999      Medium               Tier 1   \n",
              "3                       1998         NaN               Tier 3   \n",
              "4                       1987        High               Tier 3   \n",
              "\n",
              "         Outlet_Type  Item_Outlet_Sales  \n",
              "0  Supermarket Type1          3735.1380  \n",
              "1  Supermarket Type2           443.4228  \n",
              "2  Supermarket Type1          2097.2700  \n",
              "3      Grocery Store           732.3800  \n",
              "4  Supermarket Type1           994.7052  "
            ],
            "text/html": [
              "\n",
              "  <div id=\"df-91854547-80e3-43d2-a242-c14671230740\" class=\"colab-df-container\">\n",
              "    <div>\n",
              "<style scoped>\n",
              "    .dataframe tbody tr th:only-of-type {\n",
              "        vertical-align: middle;\n",
              "    }\n",
              "\n",
              "    .dataframe tbody tr th {\n",
              "        vertical-align: top;\n",
              "    }\n",
              "\n",
              "    .dataframe thead th {\n",
              "        text-align: right;\n",
              "    }\n",
              "</style>\n",
              "<table border=\"1\" class=\"dataframe\">\n",
              "  <thead>\n",
              "    <tr style=\"text-align: right;\">\n",
              "      <th></th>\n",
              "      <th>Item_Identifier</th>\n",
              "      <th>Item_Weight</th>\n",
              "      <th>Item_Fat_Content</th>\n",
              "      <th>Item_Visibility</th>\n",
              "      <th>Item_Type</th>\n",
              "      <th>Item_MRP</th>\n",
              "      <th>Outlet_Identifier</th>\n",
              "      <th>Outlet_Establishment_Year</th>\n",
              "      <th>Outlet_Size</th>\n",
              "      <th>Outlet_Location_Type</th>\n",
              "      <th>Outlet_Type</th>\n",
              "      <th>Item_Outlet_Sales</th>\n",
              "    </tr>\n",
              "  </thead>\n",
              "  <tbody>\n",
              "    <tr>\n",
              "      <th>0</th>\n",
              "      <td>FDA15</td>\n",
              "      <td>9.30</td>\n",
              "      <td>Low Fat</td>\n",
              "      <td>0.016047</td>\n",
              "      <td>Dairy</td>\n",
              "      <td>249.8092</td>\n",
              "      <td>OUT049</td>\n",
              "      <td>1999</td>\n",
              "      <td>Medium</td>\n",
              "      <td>Tier 1</td>\n",
              "      <td>Supermarket Type1</td>\n",
              "      <td>3735.1380</td>\n",
              "    </tr>\n",
              "    <tr>\n",
              "      <th>1</th>\n",
              "      <td>DRC01</td>\n",
              "      <td>5.92</td>\n",
              "      <td>Regular</td>\n",
              "      <td>0.019278</td>\n",
              "      <td>Soft Drinks</td>\n",
              "      <td>48.2692</td>\n",
              "      <td>OUT018</td>\n",
              "      <td>2009</td>\n",
              "      <td>Medium</td>\n",
              "      <td>Tier 3</td>\n",
              "      <td>Supermarket Type2</td>\n",
              "      <td>443.4228</td>\n",
              "    </tr>\n",
              "    <tr>\n",
              "      <th>2</th>\n",
              "      <td>FDN15</td>\n",
              "      <td>17.50</td>\n",
              "      <td>Low Fat</td>\n",
              "      <td>0.016760</td>\n",
              "      <td>Meat</td>\n",
              "      <td>141.6180</td>\n",
              "      <td>OUT049</td>\n",
              "      <td>1999</td>\n",
              "      <td>Medium</td>\n",
              "      <td>Tier 1</td>\n",
              "      <td>Supermarket Type1</td>\n",
              "      <td>2097.2700</td>\n",
              "    </tr>\n",
              "    <tr>\n",
              "      <th>3</th>\n",
              "      <td>FDX07</td>\n",
              "      <td>19.20</td>\n",
              "      <td>Regular</td>\n",
              "      <td>0.000000</td>\n",
              "      <td>Fruits and Vegetables</td>\n",
              "      <td>182.0950</td>\n",
              "      <td>OUT010</td>\n",
              "      <td>1998</td>\n",
              "      <td>NaN</td>\n",
              "      <td>Tier 3</td>\n",
              "      <td>Grocery Store</td>\n",
              "      <td>732.3800</td>\n",
              "    </tr>\n",
              "    <tr>\n",
              "      <th>4</th>\n",
              "      <td>NCD19</td>\n",
              "      <td>8.93</td>\n",
              "      <td>Low Fat</td>\n",
              "      <td>0.000000</td>\n",
              "      <td>Household</td>\n",
              "      <td>53.8614</td>\n",
              "      <td>OUT013</td>\n",
              "      <td>1987</td>\n",
              "      <td>High</td>\n",
              "      <td>Tier 3</td>\n",
              "      <td>Supermarket Type1</td>\n",
              "      <td>994.7052</td>\n",
              "    </tr>\n",
              "  </tbody>\n",
              "</table>\n",
              "</div>\n",
              "    <div class=\"colab-df-buttons\">\n",
              "\n",
              "  <div class=\"colab-df-container\">\n",
              "    <button class=\"colab-df-convert\" onclick=\"convertToInteractive('df-91854547-80e3-43d2-a242-c14671230740')\"\n",
              "            title=\"Convert this dataframe to an interactive table.\"\n",
              "            style=\"display:none;\">\n",
              "\n",
              "  <svg xmlns=\"http://www.w3.org/2000/svg\" height=\"24px\" viewBox=\"0 -960 960 960\">\n",
              "    <path d=\"M120-120v-720h720v720H120Zm60-500h600v-160H180v160Zm220 220h160v-160H400v160Zm0 220h160v-160H400v160ZM180-400h160v-160H180v160Zm440 0h160v-160H620v160ZM180-180h160v-160H180v160Zm440 0h160v-160H620v160Z\"/>\n",
              "  </svg>\n",
              "    </button>\n",
              "\n",
              "  <style>\n",
              "    .colab-df-container {\n",
              "      display:flex;\n",
              "      gap: 12px;\n",
              "    }\n",
              "\n",
              "    .colab-df-convert {\n",
              "      background-color: #E8F0FE;\n",
              "      border: none;\n",
              "      border-radius: 50%;\n",
              "      cursor: pointer;\n",
              "      display: none;\n",
              "      fill: #1967D2;\n",
              "      height: 32px;\n",
              "      padding: 0 0 0 0;\n",
              "      width: 32px;\n",
              "    }\n",
              "\n",
              "    .colab-df-convert:hover {\n",
              "      background-color: #E2EBFA;\n",
              "      box-shadow: 0px 1px 2px rgba(60, 64, 67, 0.3), 0px 1px 3px 1px rgba(60, 64, 67, 0.15);\n",
              "      fill: #174EA6;\n",
              "    }\n",
              "\n",
              "    .colab-df-buttons div {\n",
              "      margin-bottom: 4px;\n",
              "    }\n",
              "\n",
              "    [theme=dark] .colab-df-convert {\n",
              "      background-color: #3B4455;\n",
              "      fill: #D2E3FC;\n",
              "    }\n",
              "\n",
              "    [theme=dark] .colab-df-convert:hover {\n",
              "      background-color: #434B5C;\n",
              "      box-shadow: 0px 1px 3px 1px rgba(0, 0, 0, 0.15);\n",
              "      filter: drop-shadow(0px 1px 2px rgba(0, 0, 0, 0.3));\n",
              "      fill: #FFFFFF;\n",
              "    }\n",
              "  </style>\n",
              "\n",
              "    <script>\n",
              "      const buttonEl =\n",
              "        document.querySelector('#df-91854547-80e3-43d2-a242-c14671230740 button.colab-df-convert');\n",
              "      buttonEl.style.display =\n",
              "        google.colab.kernel.accessAllowed ? 'block' : 'none';\n",
              "\n",
              "      async function convertToInteractive(key) {\n",
              "        const element = document.querySelector('#df-91854547-80e3-43d2-a242-c14671230740');\n",
              "        const dataTable =\n",
              "          await google.colab.kernel.invokeFunction('convertToInteractive',\n",
              "                                                    [key], {});\n",
              "        if (!dataTable) return;\n",
              "\n",
              "        const docLinkHtml = 'Like what you see? Visit the ' +\n",
              "          '<a target=\"_blank\" href=https://colab.research.google.com/notebooks/data_table.ipynb>data table notebook</a>'\n",
              "          + ' to learn more about interactive tables.';\n",
              "        element.innerHTML = '';\n",
              "        dataTable['output_type'] = 'display_data';\n",
              "        await google.colab.output.renderOutput(dataTable, element);\n",
              "        const docLink = document.createElement('div');\n",
              "        docLink.innerHTML = docLinkHtml;\n",
              "        element.appendChild(docLink);\n",
              "      }\n",
              "    </script>\n",
              "  </div>\n",
              "\n",
              "\n",
              "<div id=\"df-415d1ce7-9f25-4f64-8d39-8d0b6ed14b91\">\n",
              "  <button class=\"colab-df-quickchart\" onclick=\"quickchart('df-415d1ce7-9f25-4f64-8d39-8d0b6ed14b91')\"\n",
              "            title=\"Suggest charts\"\n",
              "            style=\"display:none;\">\n",
              "\n",
              "<svg xmlns=\"http://www.w3.org/2000/svg\" height=\"24px\"viewBox=\"0 0 24 24\"\n",
              "     width=\"24px\">\n",
              "    <g>\n",
              "        <path d=\"M19 3H5c-1.1 0-2 .9-2 2v14c0 1.1.9 2 2 2h14c1.1 0 2-.9 2-2V5c0-1.1-.9-2-2-2zM9 17H7v-7h2v7zm4 0h-2V7h2v10zm4 0h-2v-4h2v4z\"/>\n",
              "    </g>\n",
              "</svg>\n",
              "  </button>\n",
              "\n",
              "<style>\n",
              "  .colab-df-quickchart {\n",
              "      --bg-color: #E8F0FE;\n",
              "      --fill-color: #1967D2;\n",
              "      --hover-bg-color: #E2EBFA;\n",
              "      --hover-fill-color: #174EA6;\n",
              "      --disabled-fill-color: #AAA;\n",
              "      --disabled-bg-color: #DDD;\n",
              "  }\n",
              "\n",
              "  [theme=dark] .colab-df-quickchart {\n",
              "      --bg-color: #3B4455;\n",
              "      --fill-color: #D2E3FC;\n",
              "      --hover-bg-color: #434B5C;\n",
              "      --hover-fill-color: #FFFFFF;\n",
              "      --disabled-bg-color: #3B4455;\n",
              "      --disabled-fill-color: #666;\n",
              "  }\n",
              "\n",
              "  .colab-df-quickchart {\n",
              "    background-color: var(--bg-color);\n",
              "    border: none;\n",
              "    border-radius: 50%;\n",
              "    cursor: pointer;\n",
              "    display: none;\n",
              "    fill: var(--fill-color);\n",
              "    height: 32px;\n",
              "    padding: 0;\n",
              "    width: 32px;\n",
              "  }\n",
              "\n",
              "  .colab-df-quickchart:hover {\n",
              "    background-color: var(--hover-bg-color);\n",
              "    box-shadow: 0 1px 2px rgba(60, 64, 67, 0.3), 0 1px 3px 1px rgba(60, 64, 67, 0.15);\n",
              "    fill: var(--button-hover-fill-color);\n",
              "  }\n",
              "\n",
              "  .colab-df-quickchart-complete:disabled,\n",
              "  .colab-df-quickchart-complete:disabled:hover {\n",
              "    background-color: var(--disabled-bg-color);\n",
              "    fill: var(--disabled-fill-color);\n",
              "    box-shadow: none;\n",
              "  }\n",
              "\n",
              "  .colab-df-spinner {\n",
              "    border: 2px solid var(--fill-color);\n",
              "    border-color: transparent;\n",
              "    border-bottom-color: var(--fill-color);\n",
              "    animation:\n",
              "      spin 1s steps(1) infinite;\n",
              "  }\n",
              "\n",
              "  @keyframes spin {\n",
              "    0% {\n",
              "      border-color: transparent;\n",
              "      border-bottom-color: var(--fill-color);\n",
              "      border-left-color: var(--fill-color);\n",
              "    }\n",
              "    20% {\n",
              "      border-color: transparent;\n",
              "      border-left-color: var(--fill-color);\n",
              "      border-top-color: var(--fill-color);\n",
              "    }\n",
              "    30% {\n",
              "      border-color: transparent;\n",
              "      border-left-color: var(--fill-color);\n",
              "      border-top-color: var(--fill-color);\n",
              "      border-right-color: var(--fill-color);\n",
              "    }\n",
              "    40% {\n",
              "      border-color: transparent;\n",
              "      border-right-color: var(--fill-color);\n",
              "      border-top-color: var(--fill-color);\n",
              "    }\n",
              "    60% {\n",
              "      border-color: transparent;\n",
              "      border-right-color: var(--fill-color);\n",
              "    }\n",
              "    80% {\n",
              "      border-color: transparent;\n",
              "      border-right-color: var(--fill-color);\n",
              "      border-bottom-color: var(--fill-color);\n",
              "    }\n",
              "    90% {\n",
              "      border-color: transparent;\n",
              "      border-bottom-color: var(--fill-color);\n",
              "    }\n",
              "  }\n",
              "</style>\n",
              "\n",
              "  <script>\n",
              "    async function quickchart(key) {\n",
              "      const quickchartButtonEl =\n",
              "        document.querySelector('#' + key + ' button');\n",
              "      quickchartButtonEl.disabled = true;  // To prevent multiple clicks.\n",
              "      quickchartButtonEl.classList.add('colab-df-spinner');\n",
              "      try {\n",
              "        const charts = await google.colab.kernel.invokeFunction(\n",
              "            'suggestCharts', [key], {});\n",
              "      } catch (error) {\n",
              "        console.error('Error during call to suggestCharts:', error);\n",
              "      }\n",
              "      quickchartButtonEl.classList.remove('colab-df-spinner');\n",
              "      quickchartButtonEl.classList.add('colab-df-quickchart-complete');\n",
              "    }\n",
              "    (() => {\n",
              "      let quickchartButtonEl =\n",
              "        document.querySelector('#df-415d1ce7-9f25-4f64-8d39-8d0b6ed14b91 button');\n",
              "      quickchartButtonEl.style.display =\n",
              "        google.colab.kernel.accessAllowed ? 'block' : 'none';\n",
              "    })();\n",
              "  </script>\n",
              "</div>\n",
              "    </div>\n",
              "  </div>\n"
            ],
            "application/vnd.google.colaboratory.intrinsic+json": {
              "type": "dataframe",
              "variable_name": "bmdata",
              "summary": "{\n  \"name\": \"bmdata\",\n  \"rows\": 8523,\n  \"fields\": [\n    {\n      \"column\": \"Item_Identifier\",\n      \"properties\": {\n        \"dtype\": \"category\",\n        \"samples\": [\n          \"FDY01\",\n          \"FDG05\",\n          \"NCJ29\"\n        ],\n        \"num_unique_values\": 1559,\n        \"semantic_type\": \"\",\n        \"description\": \"\"\n      }\n    },\n    {\n      \"column\": \"Item_Weight\",\n      \"properties\": {\n        \"dtype\": \"number\",\n        \"std\": 4.643456499186415,\n        \"min\": 4.555,\n        \"max\": 21.35,\n        \"samples\": [\n          16.75,\n          8.695,\n          7.605\n        ],\n        \"num_unique_values\": 415,\n        \"semantic_type\": \"\",\n        \"description\": \"\"\n      }\n    },\n    {\n      \"column\": \"Item_Fat_Content\",\n      \"properties\": {\n        \"dtype\": \"category\",\n        \"samples\": [\n          \"Regular\",\n          \"reg\",\n          \"low fat\"\n        ],\n        \"num_unique_values\": 5,\n        \"semantic_type\": \"\",\n        \"description\": \"\"\n      }\n    },\n    {\n      \"column\": \"Item_Visibility\",\n      \"properties\": {\n        \"dtype\": \"number\",\n        \"std\": 0.05159782232113512,\n        \"min\": 0.0,\n        \"max\": 0.328390948,\n        \"samples\": [\n          0.224837308,\n          0.046088273,\n          0.0204702\n        ],\n        \"num_unique_values\": 7880,\n        \"semantic_type\": \"\",\n        \"description\": \"\"\n      }\n    },\n    {\n      \"column\": \"Item_Type\",\n      \"properties\": {\n        \"dtype\": \"category\",\n        \"samples\": [\n          \"Dairy\",\n          \"Soft Drinks\",\n          \"Baking Goods\"\n        ],\n        \"num_unique_values\": 16,\n        \"semantic_type\": \"\",\n        \"description\": \"\"\n      }\n    },\n    {\n      \"column\": \"Item_MRP\",\n      \"properties\": {\n        \"dtype\": \"number\",\n        \"std\": 62.27506651219046,\n        \"min\": 31.29,\n        \"max\": 266.8884,\n        \"samples\": [\n          255.9672,\n          93.512,\n          208.3954\n        ],\n        \"num_unique_values\": 5938,\n        \"semantic_type\": \"\",\n        \"description\": \"\"\n      }\n    },\n    {\n      \"column\": \"Outlet_Identifier\",\n      \"properties\": {\n        \"dtype\": \"category\",\n        \"samples\": [\n          \"OUT035\",\n          \"OUT018\",\n          \"OUT045\"\n        ],\n        \"num_unique_values\": 10,\n        \"semantic_type\": \"\",\n        \"description\": \"\"\n      }\n    },\n    {\n      \"column\": \"Outlet_Establishment_Year\",\n      \"properties\": {\n        \"dtype\": \"number\",\n        \"std\": 8,\n        \"min\": 1985,\n        \"max\": 2009,\n        \"samples\": [\n          1997,\n          2009,\n          2002\n        ],\n        \"num_unique_values\": 9,\n        \"semantic_type\": \"\",\n        \"description\": \"\"\n      }\n    },\n    {\n      \"column\": \"Outlet_Size\",\n      \"properties\": {\n        \"dtype\": \"category\",\n        \"samples\": [\n          \"Medium\",\n          \"High\",\n          \"Small\"\n        ],\n        \"num_unique_values\": 3,\n        \"semantic_type\": \"\",\n        \"description\": \"\"\n      }\n    },\n    {\n      \"column\": \"Outlet_Location_Type\",\n      \"properties\": {\n        \"dtype\": \"category\",\n        \"samples\": [\n          \"Tier 1\",\n          \"Tier 3\",\n          \"Tier 2\"\n        ],\n        \"num_unique_values\": 3,\n        \"semantic_type\": \"\",\n        \"description\": \"\"\n      }\n    },\n    {\n      \"column\": \"Outlet_Type\",\n      \"properties\": {\n        \"dtype\": \"category\",\n        \"samples\": [\n          \"Supermarket Type2\",\n          \"Supermarket Type3\",\n          \"Supermarket Type1\"\n        ],\n        \"num_unique_values\": 4,\n        \"semantic_type\": \"\",\n        \"description\": \"\"\n      }\n    },\n    {\n      \"column\": \"Item_Outlet_Sales\",\n      \"properties\": {\n        \"dtype\": \"number\",\n        \"std\": 1706.499615733833,\n        \"min\": 33.29,\n        \"max\": 13086.9648,\n        \"samples\": [\n          5466.8838,\n          8417.7094,\n          5888.3352\n        ],\n        \"num_unique_values\": 3493,\n        \"semantic_type\": \"\",\n        \"description\": \"\"\n      }\n    }\n  ]\n}"
            }
          },
          "metadata": {},
          "execution_count": 22
        }
      ]
    },
    {
      "cell_type": "markdown",
      "source": [
        "Data Analysis , Visualization"
      ],
      "metadata": {
        "id": "BayywFDuYO1U"
      }
    },
    {
      "source": [
        "# @title Outlet_Type vs Item_Weight\n",
        "\n",
        "from matplotlib import pyplot as plt\n",
        "import seaborn as sns\n",
        "figsize = (12, 1.2 * len(df['Outlet_Type'].unique()))\n",
        "plt.figure(figsize=figsize)\n",
        "sns.violinplot(df, x='Item_Weight', y='Outlet_Type', inner='box', palette='Dark2')\n",
        "sns.despine(top=True, right=True, bottom=True, left=True)"
      ],
      "cell_type": "code",
      "execution_count": 18,
      "outputs": [
        {
          "output_type": "stream",
          "name": "stderr",
          "text": [
            "<ipython-input-18-0a436e9cf98d>:7: FutureWarning: \n",
            "\n",
            "Passing `palette` without assigning `hue` is deprecated and will be removed in v0.14.0. Assign the `y` variable to `hue` and set `legend=False` for the same effect.\n",
            "\n",
            "  sns.violinplot(df, x='Item_Weight', y='Outlet_Type', inner='box', palette='Dark2')\n"
          ]
        },
        {
          "output_type": "display_data",
          "data": {
            "text/plain": [
              "<Figure size 1200x480 with 1 Axes>"
            ],
            "image/png": "[encoded data removed]"
          },
          "metadata": {}
        }
      ],
      "metadata": {
        "colab": {
          "base_uri": "https://localhost:8080/",
          "height": 537
        },
        "id": "KlR1adykYNVM",
        "outputId": "15ee4de0-55a7-4582-9b3d-333df3371613"
      }
    },
    {
      "source": [
        "# @title Outlet_Location_Type\n",
        "\n",
        "from matplotlib import pyplot as plt\n",
        "import seaborn as sns\n",
        "df.groupby('Outlet_Location_Type').size().plot(kind='barh', color=sns.palettes.mpl_palette('Dark2'))\n",
        "plt.gca().spines[['top', 'right',]].set_visible(False)"
      ],
      "cell_type": "code",
      "execution_count": 17,
      "outputs": [
        {
          "output_type": "display_data",
          "data": {
            "text/plain": [
              "<Figure size 640x480 with 1 Axes>"
            ],
            "image/png": "[encoded data removed]"
          },
          "metadata": {}
        }
      ],
      "metadata": {
        "colab": {
          "base_uri": "https://localhost:8080/",
          "height": 430
        },
        "id": "jIYrsoq9X9NT",
        "outputId": "4f077557-ab2d-4821-a23d-b8c3f4d24fa3"
      }
    },
    {
      "source": [
        "# @title Outlet_Establishment_Year vs Item_Outlet_Sales\n",
        "\n",
        "from matplotlib import pyplot as plt\n",
        "df.plot(kind='scatter', x='Outlet_Establishment_Year', y='Item_Outlet_Sales', s=32, alpha=.8)\n",
        "plt.gca().spines[['top', 'right',]].set_visible(False)"
      ],
      "cell_type": "code",
      "execution_count": 16,
      "outputs": [
        {
          "output_type": "display_data",
          "data": {
            "text/plain": [
              "<Figure size 640x480 with 1 Axes>"
            ],
            "image/png": "[encoded data removed]"
          },
          "metadata": {}
        }
      ],
      "metadata": {
        "colab": {
          "base_uri": "https://localhost:8080/",
          "height": 450
        },
        "id": "d00TpXxEXqaI",
        "outputId": "1f8dad1c-c528-495a-983a-fb145b4ae98a"
      }
    },
    {
      "source": [
        "# @title Outlet_Size\n",
        "\n",
        "from matplotlib import pyplot as plt\n",
        "import seaborn as sns\n",
        "df.groupby('Outlet_Size').size().plot(kind='barh', color=sns.palettes.mpl_palette('Dark2'))\n",
        "plt.gca().spines[['top', 'right',]].set_visible(False)"
      ],
      "cell_type": "code",
      "execution_count": 15,
      "outputs": [
        {
          "output_type": "display_data",
          "data": {
            "text/plain": [
              "<Figure size 640x480 with 1 Axes>"
            ],
            "image/png": "[encoded data removed]"
          },
          "metadata": {}
        }
      ],
      "metadata": {
        "colab": {
          "base_uri": "https://localhost:8080/",
          "height": 430
        },
        "id": "XoPBKWk7XgHu",
        "outputId": "d112ea8b-ecc6-477d-a18f-92ba81e7b28c"
      }
    },
    {
      "source": [
        "# @title Outlet_Establishment_Year\n",
        "\n",
        "from matplotlib import pyplot as plt\n",
        "df['Outlet_Establishment_Year'].plot(kind='hist', bins=20, title='Outlet_Establishment_Year')\n",
        "plt.gca().spines[['top', 'right',]].set_visible(False)"
      ],
      "cell_type": "code",
      "execution_count": 14,
      "outputs": [
        {
          "output_type": "display_data",
          "data": {
            "text/plain": [
              "<Figure size 640x480 with 1 Axes>"
            ],
            "image/png": "[encoded data removed]"
          },
          "metadata": {}
        }
      ],
      "metadata": {
        "colab": {
          "base_uri": "https://localhost:8080/",
          "height": 452
        },
        "id": "KJuphoWlXcWe",
        "outputId": "90b7d67a-4608-4994-e694-1deb0b4f7ec8"
      }
    },
    {
      "source": [
        "# @title Item_Fat_Content\n",
        "\n",
        "from matplotlib import pyplot as plt\n",
        "import seaborn as sns\n",
        "df.groupby('Item_Fat_Content').size().plot(kind='barh', color=sns.palettes.mpl_palette('Dark2'))\n",
        "plt.gca().spines[['top', 'right',]].set_visible(False)"
      ],
      "cell_type": "code",
      "execution_count": 13,
      "outputs": [
        {
          "output_type": "display_data",
          "data": {
            "text/plain": [
              "<Figure size 640x480 with 1 Axes>"
            ],
            "image/png": "[encoded data removed]"
          },
          "metadata": {}
        }
      ],
      "metadata": {
        "colab": {
          "base_uri": "https://localhost:8080/",
          "height": 430
        },
        "id": "vMxObQomXU2e",
        "outputId": "09b1a6c3-fbc0-4540-9cc8-b54acf24b7ef"
      }
    },
    {
      "source": [
        "# @title Item_Visibility\n",
        "\n",
        "from matplotlib import pyplot as plt\n",
        "df['Item_Visibility'].plot(kind='hist', bins=20, title='Item_Visibility')\n",
        "plt.gca().spines[['top', 'right',]].set_visible(False)"
      ],
      "cell_type": "code",
      "execution_count": 12,
      "outputs": [
        {
          "output_type": "display_data",
          "data": {
            "text/plain": [
              "<Figure size 640x480 with 1 Axes>"
            ],
            "image/png": "[encoded data removed]"
          },
          "metadata": {}
        }
      ],
      "metadata": {
        "colab": {
          "base_uri": "https://localhost:8080/",
          "height": 452
        },
        "id": "vT4rH8ZAXPE9",
        "outputId": "892e2b0f-f4b5-4343-dba9-7cd643698fd6"
      }
    },
    {
      "source": [
        "# @title Item_Weight\n",
        "\n",
        "from matplotlib import pyplot as plt\n",
        "df['Item_Weight'].plot(kind='hist', bins=20, title='Item_Weight')\n",
        "plt.gca().spines[['top', 'right',]].set_visible(False)"
      ],
      "cell_type": "code",
      "execution_count": 11,
      "outputs": [
        {
          "output_type": "display_data",
          "data": {
            "text/plain": [
              "<Figure size 640x480 with 1 Axes>"
            ],
            "image/png": "[encoded data removed]"
          },
          "metadata": {}
        }
      ],
      "metadata": {
        "colab": {
          "base_uri": "https://localhost:8080/",
          "height": 452
        },
        "id": "__BDz4btW-QL",
        "outputId": "8a254c2d-d827-4499-aa23-03bee6fa1658"
      }
    },
    {
      "cell_type": "code",
      "source": [
        "bmdata.shape"
      ],
      "metadata": {
        "colab": {
          "base_uri": "https://localhost:8080/"
        },
        "id": "zCQYPQqvYYfY",
        "outputId": "0c063ad9-90e7-499f-9faf-6b19abc0498f"
      },
      "execution_count": 23,
      "outputs": [
        {
          "output_type": "execute_result",
          "data": {
            "text/plain": [
              "(8523, 12)"
            ]
          },
          "metadata": {},
          "execution_count": 23
        }
      ]
    },
    {
      "cell_type": "markdown",
      "source": [
        "The data has 12 columns, 8523 rows"
      ],
      "metadata": {
        "id": "-mcrLaFbYouh"
      }
    },
    {
      "cell_type": "markdown",
      "source": [
        "Data Cleaning"
      ],
      "metadata": {
        "id": "VIMgiGdLYtgg"
      }
    },
    {
      "cell_type": "code",
      "source": [
        "#checking the missing values\n",
        "bmdata.isnull().sum()"
      ],
      "metadata": {
        "colab": {
          "base_uri": "https://localhost:8080/"
        },
        "id": "qK9mOc2_Yw89",
        "outputId": "e7f13efa-b05f-469d-8ac1-3cb6eb05bcc9"
      },
      "execution_count": 24,
      "outputs": [
        {
          "output_type": "execute_result",
          "data": {
            "text/plain": [
              "Item_Identifier                 0\n",
              "Item_Weight                  1463\n",
              "Item_Fat_Content                0\n",
              "Item_Visibility                 0\n",
              "Item_Type                       0\n",
              "Item_MRP                        0\n",
              "Outlet_Identifier               0\n",
              "Outlet_Establishment_Year       0\n",
              "Outlet_Size                  2410\n",
              "Outlet_Location_Type            0\n",
              "Outlet_Type                     0\n",
              "Item_Outlet_Sales               0\n",
              "dtype: int64"
            ]
          },
          "metadata": {},
          "execution_count": 24
        }
      ]
    },
    {
      "cell_type": "markdown",
      "source": [
        "Filling and handling missing data"
      ],
      "metadata": {
        "id": "H6_OQhVXYy0_"
      }
    },
    {
      "cell_type": "code",
      "source": [
        "#mean of 'Item_Weight' column\n",
        "bmdata['Item_Weight'].mean()"
      ],
      "metadata": {
        "colab": {
          "base_uri": "https://localhost:8080/"
        },
        "id": "HDLBy9NTY2NR",
        "outputId": "551efb70-4e03-43ac-8357-9ee8181cab1b"
      },
      "execution_count": 25,
      "outputs": [
        {
          "output_type": "execute_result",
          "data": {
            "text/plain": [
              "12.857645184135976"
            ]
          },
          "metadata": {},
          "execution_count": 25
        }
      ]
    },
    {
      "cell_type": "code",
      "source": [
        "#filling the missing values in Item_Weight column\n",
        "bmdata['Item_Weight'].fillna(bmdata['Item_Weight'].mean(),inplace=True)"
      ],
      "metadata": {
        "id": "BLhYWzhkY3mI"
      },
      "execution_count": 26,
      "outputs": []
    },
    {
      "cell_type": "code",
      "source": [
        "#mode of 'Outlet_Size' column\n",
        "bmdata['Outlet_Size'].mode()"
      ],
      "metadata": {
        "colab": {
          "base_uri": "https://localhost:8080/"
        },
        "id": "VNGFWdmiY6DW",
        "outputId": "5784156a-0984-47e0-cd72-c313a61108e8"
      },
      "execution_count": 28,
      "outputs": [
        {
          "output_type": "execute_result",
          "data": {
            "text/plain": [
              "0    Medium\n",
              "Name: Outlet_Size, dtype: object"
            ]
          },
          "metadata": {},
          "execution_count": 28
        }
      ]
    },
    {
      "cell_type": "code",
      "source": [
        "#filling the missing values in Outlet_Size column\n",
        "mode_of_Outlet_size=bmdata.pivot_table(values='Outlet_Size',columns='Outlet_Type',aggfunc=(lambda x:x.mode()[0]))\n"
      ],
      "metadata": {
        "id": "Na6sgtWMY8te"
      },
      "execution_count": 29,
      "outputs": []
    },
    {
      "cell_type": "code",
      "source": [
        "print(mode_of_Outlet_size)"
      ],
      "metadata": {
        "colab": {
          "base_uri": "https://localhost:8080/"
        },
        "id": "8QcTtsEtZFQp",
        "outputId": "d40758c8-ec31-403c-f009-3af4d13dc2d4"
      },
      "execution_count": 30,
      "outputs": [
        {
          "output_type": "stream",
          "name": "stdout",
          "text": [
            "Outlet_Type Grocery Store Supermarket Type1 Supermarket Type2  \\\n",
            "Outlet_Size         Small             Small            Medium   \n",
            "\n",
            "Outlet_Type Supermarket Type3  \n",
            "Outlet_Size            Medium  \n"
          ]
        }
      ]
    },
    {
      "cell_type": "code",
      "source": [
        "miss_values=bmdata['Outlet_Size'].isnull()"
      ],
      "metadata": {
        "id": "2Srv68BVZHNX"
      },
      "execution_count": 31,
      "outputs": []
    },
    {
      "cell_type": "code",
      "source": [
        "miss_values"
      ],
      "metadata": {
        "colab": {
          "base_uri": "https://localhost:8080/"
        },
        "id": "Gqt3xiObZLAw",
        "outputId": "9b41235c-53ae-45fe-f0ee-e45b2b4a9e04"
      },
      "execution_count": 32,
      "outputs": [
        {
          "output_type": "execute_result",
          "data": {
            "text/plain": [
              "0       False\n",
              "1       False\n",
              "2       False\n",
              "3        True\n",
              "4       False\n",
              "        ...  \n",
              "8518    False\n",
              "8519     True\n",
              "8520    False\n",
              "8521    False\n",
              "8522    False\n",
              "Name: Outlet_Size, Length: 8523, dtype: bool"
            ]
          },
          "metadata": {},
          "execution_count": 32
        }
      ]
    },
    {
      "cell_type": "code",
      "source": [
        "bmdata.loc[miss_values,'Outlet_Size']=bmdata.loc[miss_values,'Outlet_Type'].apply(lambda x: mode_of_Outlet_size[x])"
      ],
      "metadata": {
        "id": "SatGDj7AZOTF"
      },
      "execution_count": 33,
      "outputs": []
    },
    {
      "cell_type": "code",
      "source": [
        "bmdata.isnull().sum()\n",
        "#Check if all the NA has been filled"
      ],
      "metadata": {
        "colab": {
          "base_uri": "https://localhost:8080/"
        },
        "id": "0cRywoySZe09",
        "outputId": "10267660-5387-4109-848f-698dc933844b"
      },
      "execution_count": 34,
      "outputs": [
        {
          "output_type": "execute_result",
          "data": {
            "text/plain": [
              "Item_Identifier              0\n",
              "Item_Weight                  0\n",
              "Item_Fat_Content             0\n",
              "Item_Visibility              0\n",
              "Item_Type                    0\n",
              "Item_MRP                     0\n",
              "Outlet_Identifier            0\n",
              "Outlet_Establishment_Year    0\n",
              "Outlet_Size                  0\n",
              "Outlet_Location_Type         0\n",
              "Outlet_Type                  0\n",
              "Item_Outlet_Sales            0\n",
              "dtype: int64"
            ]
          },
          "metadata": {},
          "execution_count": 34
        }
      ]
    },
    {
      "cell_type": "markdown",
      "source": [
        "Data Analysis and Visualization with clean data"
      ],
      "metadata": {
        "id": "R1j8vztZZljM"
      }
    },
    {
      "cell_type": "code",
      "source": [
        "bmdata.describe()"
      ],
      "metadata": {
        "colab": {
          "base_uri": "https://localhost:8080/",
          "height": 300
        },
        "id": "GERGE55XZskI",
        "outputId": "3d7839bd-efc2-4d65-aefb-1c47b4032288"
      },
      "execution_count": 35,
      "outputs": [
        {
          "output_type": "execute_result",
          "data": {
            "text/plain": [
              "       Item_Weight  Item_Visibility     Item_MRP  Outlet_Establishment_Year  \\\n",
              "count  8523.000000      8523.000000  8523.000000                8523.000000   \n",
              "mean     12.857645         0.066132   140.992782                1997.831867   \n",
              "std       4.226124         0.051598    62.275067                   8.371760   \n",
              "min       4.555000         0.000000    31.290000                1985.000000   \n",
              "25%       9.310000         0.026989    93.826500                1987.000000   \n",
              "50%      12.857645         0.053931   143.012800                1999.000000   \n",
              "75%      16.000000         0.094585   185.643700                2004.000000   \n",
              "max      21.350000         0.328391   266.888400                2009.000000   \n",
              "\n",
              "       Item_Outlet_Sales  \n",
              "count        8523.000000  \n",
              "mean         2181.288914  \n",
              "std          1706.499616  \n",
              "min            33.290000  \n",
              "25%           834.247400  \n",
              "50%          1794.331000  \n",
              "75%          3101.296400  \n",
              "max         13086.964800  "
            ],
            "text/html": [
              "\n",
              "  <div id=\"df-c56c0127-0557-4eac-a488-1d442628383c\" class=\"colab-df-container\">\n",
              "    <div>\n",
              "<style scoped>\n",
              "    .dataframe tbody tr th:only-of-type {\n",
              "        vertical-align: middle;\n",
              "    }\n",
              "\n",
              "    .dataframe tbody tr th {\n",
              "        vertical-align: top;\n",
              "    }\n",
              "\n",
              "    .dataframe thead th {\n",
              "        text-align: right;\n",
              "    }\n",
              "</style>\n",
              "<table border=\"1\" class=\"dataframe\">\n",
              "  <thead>\n",
              "    <tr style=\"text-align: right;\">\n",
              "      <th></th>\n",
              "      <th>Item_Weight</th>\n",
              "      <th>Item_Visibility</th>\n",
              "      <th>Item_MRP</th>\n",
              "      <th>Outlet_Establishment_Year</th>\n",
              "      <th>Item_Outlet_Sales</th>\n",
              "    </tr>\n",
              "  </thead>\n",
              "  <tbody>\n",
              "    <tr>\n",
              "      <th>count</th>\n",
              "      <td>8523.000000</td>\n",
              "      <td>8523.000000</td>\n",
              "      <td>8523.000000</td>\n",
              "      <td>8523.000000</td>\n",
              "      <td>8523.000000</td>\n",
              "    </tr>\n",
              "    <tr>\n",
              "      <th>mean</th>\n",
              "      <td>12.857645</td>\n",
              "      <td>0.066132</td>\n",
              "      <td>140.992782</td>\n",
              "      <td>1997.831867</td>\n",
              "      <td>2181.288914</td>\n",
              "    </tr>\n",
              "    <tr>\n",
              "      <th>std</th>\n",
              "      <td>4.226124</td>\n",
              "      <td>0.051598</td>\n",
              "      <td>62.275067</td>\n",
              "      <td>8.371760</td>\n",
              "      <td>1706.499616</td>\n",
              "    </tr>\n",
              "    <tr>\n",
              "      <th>min</th>\n",
              "      <td>4.555000</td>\n",
              "      <td>0.000000</td>\n",
              "      <td>31.290000</td>\n",
              "      <td>1985.000000</td>\n",
              "      <td>33.290000</td>\n",
              "    </tr>\n",
              "    <tr>\n",
              "      <th>25%</th>\n",
              "      <td>9.310000</td>\n",
              "      <td>0.026989</td>\n",
              "      <td>93.826500</td>\n",
              "      <td>1987.000000</td>\n",
              "      <td>834.247400</td>\n",
              "    </tr>\n",
              "    <tr>\n",
              "      <th>50%</th>\n",
              "      <td>12.857645</td>\n",
              "      <td>0.053931</td>\n",
              "      <td>143.012800</td>\n",
              "      <td>1999.000000</td>\n",
              "      <td>1794.331000</td>\n",
              "    </tr>\n",
              "    <tr>\n",
              "      <th>75%</th>\n",
              "      <td>16.000000</td>\n",
              "      <td>0.094585</td>\n",
              "      <td>185.643700</td>\n",
              "      <td>2004.000000</td>\n",
              "      <td>3101.296400</td>\n",
              "    </tr>\n",
              "    <tr>\n",
              "      <th>max</th>\n",
              "      <td>21.350000</td>\n",
              "      <td>0.328391</td>\n",
              "      <td>266.888400</td>\n",
              "      <td>2009.000000</td>\n",
              "      <td>13086.964800</td>\n",
              "    </tr>\n",
              "  </tbody>\n",
              "</table>\n",
              "</div>\n",
              "    <div class=\"colab-df-buttons\">\n",
              "\n",
              "  <div class=\"colab-df-container\">\n",
              "    <button class=\"colab-df-convert\" onclick=\"convertToInteractive('df-c56c0127-0557-4eac-a488-1d442628383c')\"\n",
              "            title=\"Convert this dataframe to an interactive table.\"\n",
              "            style=\"display:none;\">\n",
              "\n",
              "  <svg xmlns=\"http://www.w3.org/2000/svg\" height=\"24px\" viewBox=\"0 -960 960 960\">\n",
              "    <path d=\"M120-120v-720h720v720H120Zm60-500h600v-160H180v160Zm220 220h160v-160H400v160Zm0 220h160v-160H400v160ZM180-400h160v-160H180v160Zm440 0h160v-160H620v160ZM180-180h160v-160H180v160Zm440 0h160v-160H620v160Z\"/>\n",
              "  </svg>\n",
              "    </button>\n",
              "\n",
              "  <style>\n",
              "    .colab-df-container {\n",
              "      display:flex;\n",
              "      gap: 12px;\n",
              "    }\n",
              "\n",
              "    .colab-df-convert {\n",
              "      background-color: #E8F0FE;\n",
              "      border: none;\n",
              "      border-radius: 50%;\n",
              "      cursor: pointer;\n",
              "      display: none;\n",
              "      fill: #1967D2;\n",
              "      height: 32px;\n",
              "      padding: 0 0 0 0;\n",
              "      width: 32px;\n",
              "    }\n",
              "\n",
              "    .colab-df-convert:hover {\n",
              "      background-color: #E2EBFA;\n",
              "      box-shadow: 0px 1px 2px rgba(60, 64, 67, 0.3), 0px 1px 3px 1px rgba(60, 64, 67, 0.15);\n",
              "      fill: #174EA6;\n",
              "    }\n",
              "\n",
              "    .colab-df-buttons div {\n",
              "      margin-bottom: 4px;\n",
              "    }\n",
              "\n",
              "    [theme=dark] .colab-df-convert {\n",
              "      background-color: #3B4455;\n",
              "      fill: #D2E3FC;\n",
              "    }\n",
              "\n",
              "    [theme=dark] .colab-df-convert:hover {\n",
              "      background-color: #434B5C;\n",
              "      box-shadow: 0px 1px 3px 1px rgba(0, 0, 0, 0.15);\n",
              "      filter: drop-shadow(0px 1px 2px rgba(0, 0, 0, 0.3));\n",
              "      fill: #FFFFFF;\n",
              "    }\n",
              "  </style>\n",
              "\n",
              "    <script>\n",
              "      const buttonEl =\n",
              "        document.querySelector('#df-c56c0127-0557-4eac-a488-1d442628383c button.colab-df-convert');\n",
              "      buttonEl.style.display =\n",
              "        google.colab.kernel.accessAllowed ? 'block' : 'none';\n",
              "\n",
              "      async function convertToInteractive(key) {\n",
              "        const element = document.querySelector('#df-c56c0127-0557-4eac-a488-1d442628383c');\n",
              "        const dataTable =\n",
              "          await google.colab.kernel.invokeFunction('convertToInteractive',\n",
              "                                                    [key], {});\n",
              "        if (!dataTable) return;\n",
              "\n",
              "        const docLinkHtml = 'Like what you see? Visit the ' +\n",
              "          '<a target=\"_blank\" href=https://colab.research.google.com/notebooks/data_table.ipynb>data table notebook</a>'\n",
              "          + ' to learn more about interactive tables.';\n",
              "        element.innerHTML = '';\n",
              "        dataTable['output_type'] = 'display_data';\n",
              "        await google.colab.output.renderOutput(dataTable, element);\n",
              "        const docLink = document.createElement('div');\n",
              "        docLink.innerHTML = docLinkHtml;\n",
              "        element.appendChild(docLink);\n",
              "      }\n",
              "    </script>\n",
              "  </div>\n",
              "\n",
              "\n",
              "<div id=\"df-6e7f7ace-113e-4053-b3e3-1844778c2f3e\">\n",
              "  <button class=\"colab-df-quickchart\" onclick=\"quickchart('df-6e7f7ace-113e-4053-b3e3-1844778c2f3e')\"\n",
              "            title=\"Suggest charts\"\n",
              "            style=\"display:none;\">\n",
              "\n",
              "<svg xmlns=\"http://www.w3.org/2000/svg\" height=\"24px\"viewBox=\"0 0 24 24\"\n",
              "     width=\"24px\">\n",
              "    <g>\n",
              "        <path d=\"M19 3H5c-1.1 0-2 .9-2 2v14c0 1.1.9 2 2 2h14c1.1 0 2-.9 2-2V5c0-1.1-.9-2-2-2zM9 17H7v-7h2v7zm4 0h-2V7h2v10zm4 0h-2v-4h2v4z\"/>\n",
              "    </g>\n",
              "</svg>\n",
              "  </button>\n",
              "\n",
              "<style>\n",
              "  .colab-df-quickchart {\n",
              "      --bg-color: #E8F0FE;\n",
              "      --fill-color: #1967D2;\n",
              "      --hover-bg-color: #E2EBFA;\n",
              "      --hover-fill-color: #174EA6;\n",
              "      --disabled-fill-color: #AAA;\n",
              "      --disabled-bg-color: #DDD;\n",
              "  }\n",
              "\n",
              "  [theme=dark] .colab-df-quickchart {\n",
              "      --bg-color: #3B4455;\n",
              "      --fill-color: #D2E3FC;\n",
              "      --hover-bg-color: #434B5C;\n",
              "      --hover-fill-color: #FFFFFF;\n",
              "      --disabled-bg-color: #3B4455;\n",
              "      --disabled-fill-color: #666;\n",
              "  }\n",
              "\n",
              "  .colab-df-quickchart {\n",
              "    background-color: var(--bg-color);\n",
              "    border: none;\n",
              "    border-radius: 50%;\n",
              "    cursor: pointer;\n",
              "    display: none;\n",
              "    fill: var(--fill-color);\n",
              "    height: 32px;\n",
              "    padding: 0;\n",
              "    width: 32px;\n",
              "  }\n",
              "\n",
              "  .colab-df-quickchart:hover {\n",
              "    background-color: var(--hover-bg-color);\n",
              "    box-shadow: 0 1px 2px rgba(60, 64, 67, 0.3), 0 1px 3px 1px rgba(60, 64, 67, 0.15);\n",
              "    fill: var(--button-hover-fill-color);\n",
              "  }\n",
              "\n",
              "  .colab-df-quickchart-complete:disabled,\n",
              "  .colab-df-quickchart-complete:disabled:hover {\n",
              "    background-color: var(--disabled-bg-color);\n",
              "    fill: var(--disabled-fill-color);\n",
              "    box-shadow: none;\n",
              "  }\n",
              "\n",
              "  .colab-df-spinner {\n",
              "    border: 2px solid var(--fill-color);\n",
              "    border-color: transparent;\n",
              "    border-bottom-color: var(--fill-color);\n",
              "    animation:\n",
              "      spin 1s steps(1) infinite;\n",
              "  }\n",
              "\n",
              "  @keyframes spin {\n",
              "    0% {\n",
              "      border-color: transparent;\n",
              "      border-bottom-color: var(--fill-color);\n",
              "      border-left-color: var(--fill-color);\n",
              "    }\n",
              "    20% {\n",
              "      border-color: transparent;\n",
              "      border-left-color: var(--fill-color);\n",
              "      border-top-color: var(--fill-color);\n",
              "    }\n",
              "    30% {\n",
              "      border-color: transparent;\n",
              "      border-left-color: var(--fill-color);\n",
              "      border-top-color: var(--fill-color);\n",
              "      border-right-color: var(--fill-color);\n",
              "    }\n",
              "    40% {\n",
              "      border-color: transparent;\n",
              "      border-right-color: var(--fill-color);\n",
              "      border-top-color: var(--fill-color);\n",
              "    }\n",
              "    60% {\n",
              "      border-color: transparent;\n",
              "      border-right-color: var(--fill-color);\n",
              "    }\n",
              "    80% {\n",
              "      border-color: transparent;\n",
              "      border-right-color: var(--fill-color);\n",
              "      border-bottom-color: var(--fill-color);\n",
              "    }\n",
              "    90% {\n",
              "      border-color: transparent;\n",
              "      border-bottom-color: var(--fill-color);\n",
              "    }\n",
              "  }\n",
              "</style>\n",
              "\n",
              "  <script>\n",
              "    async function quickchart(key) {\n",
              "      const quickchartButtonEl =\n",
              "        document.querySelector('#' + key + ' button');\n",
              "      quickchartButtonEl.disabled = true;  // To prevent multiple clicks.\n",
              "      quickchartButtonEl.classList.add('colab-df-spinner');\n",
              "      try {\n",
              "        const charts = await google.colab.kernel.invokeFunction(\n",
              "            'suggestCharts', [key], {});\n",
              "      } catch (error) {\n",
              "        console.error('Error during call to suggestCharts:', error);\n",
              "      }\n",
              "      quickchartButtonEl.classList.remove('colab-df-spinner');\n",
              "      quickchartButtonEl.classList.add('colab-df-quickchart-complete');\n",
              "    }\n",
              "    (() => {\n",
              "      let quickchartButtonEl =\n",
              "        document.querySelector('#df-6e7f7ace-113e-4053-b3e3-1844778c2f3e button');\n",
              "      quickchartButtonEl.style.display =\n",
              "        google.colab.kernel.accessAllowed ? 'block' : 'none';\n",
              "    })();\n",
              "  </script>\n",
              "</div>\n",
              "    </div>\n",
              "  </div>\n"
            ],
            "application/vnd.google.colaboratory.intrinsic+json": {
              "type": "dataframe",
              "summary": "{\n  \"name\": \"bmdata\",\n  \"rows\": 8,\n  \"fields\": [\n    {\n      \"column\": \"Item_Weight\",\n      \"properties\": {\n        \"dtype\": \"number\",\n        \"std\": 3009.2419143853276,\n        \"min\": 4.226123724532989,\n        \"max\": 8523.0,\n        \"samples\": [\n          8523.0,\n          12.857645184135976,\n          16.0\n        ],\n        \"num_unique_values\": 7,\n        \"semantic_type\": \"\",\n        \"description\": \"\"\n      }\n    },\n    {\n      \"column\": \"Item_Visibility\",\n      \"properties\": {\n        \"dtype\": \"number\",\n        \"std\": 3013.304152859587,\n        \"min\": 0.0,\n        \"max\": 8523.0,\n        \"samples\": [\n          0.06613202877895108,\n          0.053930934,\n          8523.0\n        ],\n        \"num_unique_values\": 8,\n        \"semantic_type\": \"\",\n        \"description\": \"\"\n      }\n    },\n    {\n      \"column\": \"Item_MRP\",\n      \"properties\": {\n        \"dtype\": \"number\",\n        \"std\": 2967.5785044087356,\n        \"min\": 31.29,\n        \"max\": 8523.0,\n        \"samples\": [\n          140.9927819781767,\n          143.0128,\n          8523.0\n        ],\n        \"num_unique_values\": 8,\n        \"semantic_type\": \"\",\n        \"description\": \"\"\n      }\n    },\n    {\n      \"column\": \"Outlet_Establishment_Year\",\n      \"properties\": {\n        \"dtype\": \"number\",\n        \"std\": 2506.291593828245,\n        \"min\": 8.371760408092655,\n        \"max\": 8523.0,\n        \"samples\": [\n          1997.8318667135984,\n          1999.0,\n          8523.0\n        ],\n        \"num_unique_values\": 8,\n        \"semantic_type\": \"\",\n        \"description\": \"\"\n      }\n    },\n    {\n      \"column\": \"Item_Outlet_Sales\",\n      \"properties\": {\n        \"dtype\": \"number\",\n        \"std\": 4519.156901462071,\n        \"min\": 33.29,\n        \"max\": 13086.9648,\n        \"samples\": [\n          2181.288913575032,\n          1794.331,\n          8523.0\n        ],\n        \"num_unique_values\": 8,\n        \"semantic_type\": \"\",\n        \"description\": \"\"\n      }\n    }\n  ]\n}"
            }
          },
          "metadata": {},
          "execution_count": 35
        }
      ]
    },
    {
      "cell_type": "code",
      "source": [
        "bmdata.info()"
      ],
      "metadata": {
        "colab": {
          "base_uri": "https://localhost:8080/"
        },
        "id": "PPFPH6HBZuU_",
        "outputId": "f172b2b8-da2f-46ad-c57c-21d95b7785f7"
      },
      "execution_count": 37,
      "outputs": [
        {
          "output_type": "stream",
          "name": "stdout",
          "text": [
            "<class 'pandas.core.frame.DataFrame'>\n",
            "RangeIndex: 8523 entries, 0 to 8522\n",
            "Data columns (total 12 columns):\n",
            " #   Column                     Non-Null Count  Dtype  \n",
            "---  ------                     --------------  -----  \n",
            " 0   Item_Identifier            8523 non-null   object \n",
            " 1   Item_Weight                8523 non-null   float64\n",
            " 2   Item_Fat_Content           8523 non-null   object \n",
            " 3   Item_Visibility            8523 non-null   float64\n",
            " 4   Item_Type                  8523 non-null   object \n",
            " 5   Item_MRP                   8523 non-null   float64\n",
            " 6   Outlet_Identifier          8523 non-null   object \n",
            " 7   Outlet_Establishment_Year  8523 non-null   int64  \n",
            " 8   Outlet_Size                8523 non-null   object \n",
            " 9   Outlet_Location_Type       8523 non-null   object \n",
            " 10  Outlet_Type                8523 non-null   object \n",
            " 11  Item_Outlet_Sales          8523 non-null   float64\n",
            "dtypes: float64(4), int64(1), object(7)\n",
            "memory usage: 799.2+ KB\n"
          ]
        }
      ]
    },
    {
      "cell_type": "code",
      "source": [
        "#Item_Weight Distribution\n",
        "sns.set()\n",
        "plt.figure(figsize=(8,6))\n",
        "sns.displot(bmdata['Item_Weight'])\n",
        "plt.show()"
      ],
      "metadata": {
        "colab": {
          "base_uri": "https://localhost:8080/",
          "height": 518
        },
        "id": "Ys5ktY4IZzbM",
        "outputId": "58d22148-720f-4914-c90d-d3db9a5c31cb"
      },
      "execution_count": 40,
      "outputs": [
        {
          "output_type": "display_data",
          "data": {
            "text/plain": [
              "<Figure size 800x600 with 0 Axes>"
            ]
          },
          "metadata": {}
        },
        {
          "output_type": "display_data",
          "data": {
            "text/plain": [
              "<Figure size 500x500 with 1 Axes>"
            ],
            "image/png": "[encoded data removed]"
          },
          "metadata": {}
        }
      ]
    },
    {
      "cell_type": "code",
      "source": [
        "#Item_Visibility Distribution\n",
        "\n",
        "plt.figure(figsize=(8,6))\n",
        "sns.displot(bmdata['Item_Visibility'])\n",
        "plt.show()"
      ],
      "metadata": {
        "colab": {
          "base_uri": "https://localhost:8080/",
          "height": 518
        },
        "id": "pR8CZDNiaLzm",
        "outputId": "7baf2e56-c6b9-4158-e19b-7ed7189f46f1"
      },
      "execution_count": 42,
      "outputs": [
        {
          "output_type": "display_data",
          "data": {
            "text/plain": [
              "<Figure size 800x600 with 0 Axes>"
            ]
          },
          "metadata": {}
        },
        {
          "output_type": "display_data",
          "data": {
            "text/plain": [
              "<Figure size 500x500 with 1 Axes>"
            ],
            "image/png": "[encoded data removed]"
          },
          "metadata": {}
        }
      ]
    },
    {
      "cell_type": "code",
      "source": [
        "#Item_MRP Distribution\n",
        "plt.figure(figsize=(8,6))\n",
        "sns.histplot(bmdata['Item_MRP'])\n",
        "plt.show()"
      ],
      "metadata": {
        "colab": {
          "base_uri": "https://localhost:8080/",
          "height": 550
        },
        "id": "r1ODZ69xaSkx",
        "outputId": "1e709c6e-d3e2-4567-d633-b80d526cb024"
      },
      "execution_count": 44,
      "outputs": [
        {
          "output_type": "display_data",
          "data": {
            "text/plain": [
              "<Figure size 800x600 with 1 Axes>"
            ],
            "image/png": "[encoded data removed]"
          },
          "metadata": {}
        }
      ]
    },
    {
      "cell_type": "code",
      "source": [
        "#Item_Outlet_Sales Distribution\n",
        "plt.figure(figsize=(8,6))\n",
        "sns.distplot(bmdata['Item_Outlet_Sales'])\n",
        "plt.show()"
      ],
      "metadata": {
        "colab": {
          "base_uri": "https://localhost:8080/",
          "height": 742
        },
        "id": "lpp2hhOFaX9u",
        "outputId": "74c00355-584c-43e2-cf3d-b5c1db92f773"
      },
      "execution_count": 45,
      "outputs": [
        {
          "output_type": "stream",
          "name": "stderr",
          "text": [
            "<ipython-input-45-1decd8ea6e3c>:3: UserWarning: \n",
            "\n",
            "`distplot` is a deprecated function and will be removed in seaborn v0.14.0.\n",
            "\n",
            "Please adapt your code to use either `displot` (a figure-level function with\n",
            "similar flexibility) or `histplot` (an axes-level function for histograms).\n",
            "\n",
            "For a guide to updating your code to use the new functions, please see\n",
            "https://gist.github.com/mwaskom/de44147ed2974457ad6372750bbe5751\n",
            "\n",
            "  sns.distplot(bmdata['Item_Outlet_Sales'])\n"
          ]
        },
        {
          "output_type": "display_data",
          "data": {
            "text/plain": [
              "<Figure size 800x600 with 1 Axes>"
            ],
            "image/png": "[encoded data removed]"
          },
          "metadata": {}
        }
      ]
    },
    {
      "cell_type": "code",
      "source": [
        "#Outlet_Establishment_Year column\n",
        "plt.figure(figsize=(8,6))\n",
        "sns.countplot(x='Outlet_Establishment_Year',data=bmdata)\n",
        "plt.show()"
      ],
      "metadata": {
        "colab": {
          "base_uri": "https://localhost:8080/",
          "height": 551
        },
        "id": "zRO61cufaeAA",
        "outputId": "9cd5b892-6a5e-459f-eadb-b98d4b4bcde4"
      },
      "execution_count": 46,
      "outputs": [
        {
          "output_type": "display_data",
          "data": {
            "text/plain": [
              "<Figure size 800x600 with 1 Axes>"
            ],
            "image/png": "[encoded data removed]"
          },
          "metadata": {}
        }
      ]
    },
    {
      "cell_type": "code",
      "source": [
        "#Item_Fat_Content column\n",
        "plt.figure(figsize=(8,6))\n",
        "sns.countplot(x='Item_Fat_Content',data=bmdata)\n",
        "plt.show()"
      ],
      "metadata": {
        "colab": {
          "base_uri": "https://localhost:8080/",
          "height": 550
        },
        "id": "vwQQXJHAaho8",
        "outputId": "4eecf325-0d9a-451c-fea7-8bf02543b9ec"
      },
      "execution_count": 47,
      "outputs": [
        {
          "output_type": "display_data",
          "data": {
            "text/plain": [
              "<Figure size 800x600 with 1 Axes>"
            ],
            "image/png": "[encoded data removed]"
          },
          "metadata": {}
        }
      ]
    },
    {
      "cell_type": "code",
      "source": [
        "#Outlet_Size column\n",
        "plt.figure(figsize=(8,6))\n",
        "sns.countplot(x='Outlet_Size',data=bmdata)\n",
        "plt.show()"
      ],
      "metadata": {
        "colab": {
          "base_uri": "https://localhost:8080/",
          "height": 553
        },
        "id": "kQVTEx0WakuR",
        "outputId": "64dc3a12-7db1-43cd-b041-0c619d72a9fc"
      },
      "execution_count": 48,
      "outputs": [
        {
          "output_type": "display_data",
          "data": {
            "text/plain": [
              "<Figure size 800x600 with 1 Axes>"
            ],
            "image/png": "[encoded data removed]"
          },
          "metadata": {}
        }
      ]
    },
    {
      "cell_type": "markdown",
      "source": [
        "Data Preprocessing"
      ],
      "metadata": {
        "id": "uMZBV3tzanIc"
      }
    },
    {
      "cell_type": "code",
      "source": [
        "bmdata.head()"
      ],
      "metadata": {
        "colab": {
          "base_uri": "https://localhost:8080/",
          "height": 313
        },
        "id": "QgMN5q26aqP9",
        "outputId": "eb88c298-60ce-4326-93b1-6276eb4d9dca"
      },
      "execution_count": 49,
      "outputs": [
        {
          "output_type": "execute_result",
          "data": {
            "text/plain": [
              "  Item_Identifier  Item_Weight Item_Fat_Content  Item_Visibility  \\\n",
              "0           FDA15         9.30          Low Fat         0.016047   \n",
              "1           DRC01         5.92          Regular         0.019278   \n",
              "2           FDN15        17.50          Low Fat         0.016760   \n",
              "3           FDX07        19.20          Regular         0.000000   \n",
              "4           NCD19         8.93          Low Fat         0.000000   \n",
              "\n",
              "               Item_Type  Item_MRP Outlet_Identifier  \\\n",
              "0                  Dairy  249.8092            OUT049   \n",
              "1            Soft Drinks   48.2692            OUT018   \n",
              "2                   Meat  141.6180            OUT049   \n",
              "3  Fruits and Vegetables  182.0950            OUT010   \n",
              "4              Household   53.8614            OUT013   \n",
              "\n",
              "   Outlet_Establishment_Year Outlet_Size Outlet_Location_Type  \\\n",
              "0                       1999      Medium               Tier 1   \n",
              "1                       2009      Medium               Tier 3   \n",
              "2                       1999      Medium               Tier 1   \n",
              "3                       1998       Small               Tier 3   \n",
              "4                       1987        High               Tier 3   \n",
              "\n",
              "         Outlet_Type  Item_Outlet_Sales  \n",
              "0  Supermarket Type1          3735.1380  \n",
              "1  Supermarket Type2           443.4228  \n",
              "2  Supermarket Type1          2097.2700  \n",
              "3      Grocery Store           732.3800  \n",
              "4  Supermarket Type1           994.7052  "
            ],
            "text/html": [
              "\n",
              "  <div id=\"df-e1cadd41-eca7-44bc-b158-4ddc2a0bdf41\" class=\"colab-df-container\">\n",
              "    <div>\n",
              "<style scoped>\n",
              "    .dataframe tbody tr th:only-of-type {\n",
              "        vertical-align: middle;\n",
              "    }\n",
              "\n",
              "    .dataframe tbody tr th {\n",
              "        vertical-align: top;\n",
              "    }\n",
              "\n",
              "    .dataframe thead th {\n",
              "        text-align: right;\n",
              "    }\n",
              "</style>\n",
              "<table border=\"1\" class=\"dataframe\">\n",
              "  <thead>\n",
              "    <tr style=\"text-align: right;\">\n",
              "      <th></th>\n",
              "      <th>Item_Identifier</th>\n",
              "      <th>Item_Weight</th>\n",
              "      <th>Item_Fat_Content</th>\n",
              "      <th>Item_Visibility</th>\n",
              "      <th>Item_Type</th>\n",
              "      <th>Item_MRP</th>\n",
              "      <th>Outlet_Identifier</th>\n",
              "      <th>Outlet_Establishment_Year</th>\n",
              "      <th>Outlet_Size</th>\n",
              "      <th>Outlet_Location_Type</th>\n",
              "      <th>Outlet_Type</th>\n",
              "      <th>Item_Outlet_Sales</th>\n",
              "    </tr>\n",
              "  </thead>\n",
              "  <tbody>\n",
              "    <tr>\n",
              "      <th>0</th>\n",
              "      <td>FDA15</td>\n",
              "      <td>9.30</td>\n",
              "      <td>Low Fat</td>\n",
              "      <td>0.016047</td>\n",
              "      <td>Dairy</td>\n",
              "      <td>249.8092</td>\n",
              "      <td>OUT049</td>\n",
              "      <td>1999</td>\n",
              "      <td>Medium</td>\n",
              "      <td>Tier 1</td>\n",
              "      <td>Supermarket Type1</td>\n",
              "      <td>3735.1380</td>\n",
              "    </tr>\n",
              "    <tr>\n",
              "      <th>1</th>\n",
              "      <td>DRC01</td>\n",
              "      <td>5.92</td>\n",
              "      <td>Regular</td>\n",
              "      <td>0.019278</td>\n",
              "      <td>Soft Drinks</td>\n",
              "      <td>48.2692</td>\n",
              "      <td>OUT018</td>\n",
              "      <td>2009</td>\n",
              "      <td>Medium</td>\n",
              "      <td>Tier 3</td>\n",
              "      <td>Supermarket Type2</td>\n",
              "      <td>443.4228</td>\n",
              "    </tr>\n",
              "    <tr>\n",
              "      <th>2</th>\n",
              "      <td>FDN15</td>\n",
              "      <td>17.50</td>\n",
              "      <td>Low Fat</td>\n",
              "      <td>0.016760</td>\n",
              "      <td>Meat</td>\n",
              "      <td>141.6180</td>\n",
              "      <td>OUT049</td>\n",
              "      <td>1999</td>\n",
              "      <td>Medium</td>\n",
              "      <td>Tier 1</td>\n",
              "      <td>Supermarket Type1</td>\n",
              "      <td>2097.2700</td>\n",
              "    </tr>\n",
              "    <tr>\n",
              "      <th>3</th>\n",
              "      <td>FDX07</td>\n",
              "      <td>19.20</td>\n",
              "      <td>Regular</td>\n",
              "      <td>0.000000</td>\n",
              "      <td>Fruits and Vegetables</td>\n",
              "      <td>182.0950</td>\n",
              "      <td>OUT010</td>\n",
              "      <td>1998</td>\n",
              "      <td>Small</td>\n",
              "      <td>Tier 3</td>\n",
              "      <td>Grocery Store</td>\n",
              "      <td>732.3800</td>\n",
              "    </tr>\n",
              "    <tr>\n",
              "      <th>4</th>\n",
              "      <td>NCD19</td>\n",
              "      <td>8.93</td>\n",
              "      <td>Low Fat</td>\n",
              "      <td>0.000000</td>\n",
              "      <td>Household</td>\n",
              "      <td>53.8614</td>\n",
              "      <td>OUT013</td>\n",
              "      <td>1987</td>\n",
              "      <td>High</td>\n",
              "      <td>Tier 3</td>\n",
              "      <td>Supermarket Type1</td>\n",
              "      <td>994.7052</td>\n",
              "    </tr>\n",
              "  </tbody>\n",
              "</table>\n",
              "</div>\n",
              "    <div class=\"colab-df-buttons\">\n",
              "\n",
              "  <div class=\"colab-df-container\">\n",
              "    <button class=\"colab-df-convert\" onclick=\"convertToInteractive('df-e1cadd41-eca7-44bc-b158-4ddc2a0bdf41')\"\n",
              "            title=\"Convert this dataframe to an interactive table.\"\n",
              "            style=\"display:none;\">\n",
              "\n",
              "  <svg xmlns=\"http://www.w3.org/2000/svg\" height=\"24px\" viewBox=\"0 -960 960 960\">\n",
              "    <path d=\"M120-120v-720h720v720H120Zm60-500h600v-160H180v160Zm220 220h160v-160H400v160Zm0 220h160v-160H400v160ZM180-400h160v-160H180v160Zm440 0h160v-160H620v160ZM180-180h160v-160H180v160Zm440 0h160v-160H620v160Z\"/>\n",
              "  </svg>\n",
              "    </button>\n",
              "\n",
              "  <style>\n",
              "    .colab-df-container {\n",
              "      display:flex;\n",
              "      gap: 12px;\n",
              "    }\n",
              "\n",
              "    .colab-df-convert {\n",
              "      background-color: #E8F0FE;\n",
              "      border: none;\n",
              "      border-radius: 50%;\n",
              "      cursor: pointer;\n",
              "      display: none;\n",
              "      fill: #1967D2;\n",
              "      height: 32px;\n",
              "      padding: 0 0 0 0;\n",
              "      width: 32px;\n",
              "    }\n",
              "\n",
              "    .colab-df-convert:hover {\n",
              "      background-color: #E2EBFA;\n",
              "      box-shadow: 0px 1px 2px rgba(60, 64, 67, 0.3), 0px 1px 3px 1px rgba(60, 64, 67, 0.15);\n",
              "      fill: #174EA6;\n",
              "    }\n",
              "\n",
              "    .colab-df-buttons div {\n",
              "      margin-bottom: 4px;\n",
              "    }\n",
              "\n",
              "    [theme=dark] .colab-df-convert {\n",
              "      background-color: #3B4455;\n",
              "      fill: #D2E3FC;\n",
              "    }\n",
              "\n",
              "    [theme=dark] .colab-df-convert:hover {\n",
              "      background-color: #434B5C;\n",
              "      box-shadow: 0px 1px 3px 1px rgba(0, 0, 0, 0.15);\n",
              "      filter: drop-shadow(0px 1px 2px rgba(0, 0, 0, 0.3));\n",
              "      fill: #FFFFFF;\n",
              "    }\n",
              "  </style>\n",
              "\n",
              "    <script>\n",
              "      const buttonEl =\n",
              "        document.querySelector('#df-e1cadd41-eca7-44bc-b158-4ddc2a0bdf41 button.colab-df-convert');\n",
              "      buttonEl.style.display =\n",
              "        google.colab.kernel.accessAllowed ? 'block' : 'none';\n",
              "\n",
              "      async function convertToInteractive(key) {\n",
              "        const element = document.querySelector('#df-e1cadd41-eca7-44bc-b158-4ddc2a0bdf41');\n",
              "        const dataTable =\n",
              "          await google.colab.kernel.invokeFunction('convertToInteractive',\n",
              "                                                    [key], {});\n",
              "        if (!dataTable) return;\n",
              "\n",
              "        const docLinkHtml = 'Like what you see? Visit the ' +\n",
              "          '<a target=\"_blank\" href=https://colab.research.google.com/notebooks/data_table.ipynb>data table notebook</a>'\n",
              "          + ' to learn more about interactive tables.';\n",
              "        element.innerHTML = '';\n",
              "        dataTable['output_type'] = 'display_data';\n",
              "        await google.colab.output.renderOutput(dataTable, element);\n",
              "        const docLink = document.createElement('div');\n",
              "        docLink.innerHTML = docLinkHtml;\n",
              "        element.appendChild(docLink);\n",
              "      }\n",
              "    </script>\n",
              "  </div>\n",
              "\n",
              "\n",
              "<div id=\"df-b96d5ca6-f801-40d2-a7d5-360f70e6b967\">\n",
              "  <button class=\"colab-df-quickchart\" onclick=\"quickchart('df-b96d5ca6-f801-40d2-a7d5-360f70e6b967')\"\n",
              "            title=\"Suggest charts\"\n",
              "            style=\"display:none;\">\n",
              "\n",
              "<svg xmlns=\"http://www.w3.org/2000/svg\" height=\"24px\"viewBox=\"0 0 24 24\"\n",
              "     width=\"24px\">\n",
              "    <g>\n",
              "        <path d=\"M19 3H5c-1.1 0-2 .9-2 2v14c0 1.1.9 2 2 2h14c1.1 0 2-.9 2-2V5c0-1.1-.9-2-2-2zM9 17H7v-7h2v7zm4 0h-2V7h2v10zm4 0h-2v-4h2v4z\"/>\n",
              "    </g>\n",
              "</svg>\n",
              "  </button>\n",
              "\n",
              "<style>\n",
              "  .colab-df-quickchart {\n",
              "      --bg-color: #E8F0FE;\n",
              "      --fill-color: #1967D2;\n",
              "      --hover-bg-color: #E2EBFA;\n",
              "      --hover-fill-color: #174EA6;\n",
              "      --disabled-fill-color: #AAA;\n",
              "      --disabled-bg-color: #DDD;\n",
              "  }\n",
              "\n",
              "  [theme=dark] .colab-df-quickchart {\n",
              "      --bg-color: #3B4455;\n",
              "      --fill-color: #D2E3FC;\n",
              "      --hover-bg-color: #434B5C;\n",
              "      --hover-fill-color: #FFFFFF;\n",
              "      --disabled-bg-color: #3B4455;\n",
              "      --disabled-fill-color: #666;\n",
              "  }\n",
              "\n",
              "  .colab-df-quickchart {\n",
              "    background-color: var(--bg-color);\n",
              "    border: none;\n",
              "    border-radius: 50%;\n",
              "    cursor: pointer;\n",
              "    display: none;\n",
              "    fill: var(--fill-color);\n",
              "    height: 32px;\n",
              "    padding: 0;\n",
              "    width: 32px;\n",
              "  }\n",
              "\n",
              "  .colab-df-quickchart:hover {\n",
              "    background-color: var(--hover-bg-color);\n",
              "    box-shadow: 0 1px 2px rgba(60, 64, 67, 0.3), 0 1px 3px 1px rgba(60, 64, 67, 0.15);\n",
              "    fill: var(--button-hover-fill-color);\n",
              "  }\n",
              "\n",
              "  .colab-df-quickchart-complete:disabled,\n",
              "  .colab-df-quickchart-complete:disabled:hover {\n",
              "    background-color: var(--disabled-bg-color);\n",
              "    fill: var(--disabled-fill-color);\n",
              "    box-shadow: none;\n",
              "  }\n",
              "\n",
              "  .colab-df-spinner {\n",
              "    border: 2px solid var(--fill-color);\n",
              "    border-color: transparent;\n",
              "    border-bottom-color: var(--fill-color);\n",
              "    animation:\n",
              "      spin 1s steps(1) infinite;\n",
              "  }\n",
              "\n",
              "  @keyframes spin {\n",
              "    0% {\n",
              "      border-color: transparent;\n",
              "      border-bottom-color: var(--fill-color);\n",
              "      border-left-color: var(--fill-color);\n",
              "    }\n",
              "    20% {\n",
              "      border-color: transparent;\n",
              "      border-left-color: var(--fill-color);\n",
              "      border-top-color: var(--fill-color);\n",
              "    }\n",
              "    30% {\n",
              "      border-color: transparent;\n",
              "      border-left-color: var(--fill-color);\n",
              "      border-top-color: var(--fill-color);\n",
              "      border-right-color: var(--fill-color);\n",
              "    }\n",
              "    40% {\n",
              "      border-color: transparent;\n",
              "      border-right-color: var(--fill-color);\n",
              "      border-top-color: var(--fill-color);\n",
              "    }\n",
              "    60% {\n",
              "      border-color: transparent;\n",
              "      border-right-color: var(--fill-color);\n",
              "    }\n",
              "    80% {\n",
              "      border-color: transparent;\n",
              "      border-right-color: var(--fill-color);\n",
              "      border-bottom-color: var(--fill-color);\n",
              "    }\n",
              "    90% {\n",
              "      border-color: transparent;\n",
              "      border-bottom-color: var(--fill-color);\n",
              "    }\n",
              "  }\n",
              "</style>\n",
              "\n",
              "  <script>\n",
              "    async function quickchart(key) {\n",
              "      const quickchartButtonEl =\n",
              "        document.querySelector('#' + key + ' button');\n",
              "      quickchartButtonEl.disabled = true;  // To prevent multiple clicks.\n",
              "      quickchartButtonEl.classList.add('colab-df-spinner');\n",
              "      try {\n",
              "        const charts = await google.colab.kernel.invokeFunction(\n",
              "            'suggestCharts', [key], {});\n",
              "      } catch (error) {\n",
              "        console.error('Error during call to suggestCharts:', error);\n",
              "      }\n",
              "      quickchartButtonEl.classList.remove('colab-df-spinner');\n",
              "      quickchartButtonEl.classList.add('colab-df-quickchart-complete');\n",
              "    }\n",
              "    (() => {\n",
              "      let quickchartButtonEl =\n",
              "        document.querySelector('#df-b96d5ca6-f801-40d2-a7d5-360f70e6b967 button');\n",
              "      quickchartButtonEl.style.display =\n",
              "        google.colab.kernel.accessAllowed ? 'block' : 'none';\n",
              "    })();\n",
              "  </script>\n",
              "</div>\n",
              "    </div>\n",
              "  </div>\n"
            ],
            "application/vnd.google.colaboratory.intrinsic+json": {
              "type": "dataframe",
              "variable_name": "bmdata",
              "summary": "{\n  \"name\": \"bmdata\",\n  \"rows\": 8523,\n  \"fields\": [\n    {\n      \"column\": \"Item_Identifier\",\n      \"properties\": {\n        \"dtype\": \"category\",\n        \"samples\": [\n          \"FDY01\",\n          \"FDG05\",\n          \"NCJ29\"\n        ],\n        \"num_unique_values\": 1559,\n        \"semantic_type\": \"\",\n        \"description\": \"\"\n      }\n    },\n    {\n      \"column\": \"Item_Weight\",\n      \"properties\": {\n        \"dtype\": \"number\",\n        \"std\": 4.226123724532989,\n        \"min\": 4.555,\n        \"max\": 21.35,\n        \"samples\": [\n          15.0,\n          9.21,\n          6.895\n        ],\n        \"num_unique_values\": 416,\n        \"semantic_type\": \"\",\n        \"description\": \"\"\n      }\n    },\n    {\n      \"column\": \"Item_Fat_Content\",\n      \"properties\": {\n        \"dtype\": \"category\",\n        \"samples\": [\n          \"Regular\",\n          \"reg\",\n          \"low fat\"\n        ],\n        \"num_unique_values\": 5,\n        \"semantic_type\": \"\",\n        \"description\": \"\"\n      }\n    },\n    {\n      \"column\": \"Item_Visibility\",\n      \"properties\": {\n        \"dtype\": \"number\",\n        \"std\": 0.05159782232113512,\n        \"min\": 0.0,\n        \"max\": 0.328390948,\n        \"samples\": [\n          0.224837308,\n          0.046088273,\n          0.0204702\n        ],\n        \"num_unique_values\": 7880,\n        \"semantic_type\": \"\",\n        \"description\": \"\"\n      }\n    },\n    {\n      \"column\": \"Item_Type\",\n      \"properties\": {\n        \"dtype\": \"category\",\n        \"samples\": [\n          \"Dairy\",\n          \"Soft Drinks\",\n          \"Baking Goods\"\n        ],\n        \"num_unique_values\": 16,\n        \"semantic_type\": \"\",\n        \"description\": \"\"\n      }\n    },\n    {\n      \"column\": \"Item_MRP\",\n      \"properties\": {\n        \"dtype\": \"number\",\n        \"std\": 62.27506651219046,\n        \"min\": 31.29,\n        \"max\": 266.8884,\n        \"samples\": [\n          255.9672,\n          93.512,\n          208.3954\n        ],\n        \"num_unique_values\": 5938,\n        \"semantic_type\": \"\",\n        \"description\": \"\"\n      }\n    },\n    {\n      \"column\": \"Outlet_Identifier\",\n      \"properties\": {\n        \"dtype\": \"category\",\n        \"samples\": [\n          \"OUT035\",\n          \"OUT018\",\n          \"OUT045\"\n        ],\n        \"num_unique_values\": 10,\n        \"semantic_type\": \"\",\n        \"description\": \"\"\n      }\n    },\n    {\n      \"column\": \"Outlet_Establishment_Year\",\n      \"properties\": {\n        \"dtype\": \"number\",\n        \"std\": 8,\n        \"min\": 1985,\n        \"max\": 2009,\n        \"samples\": [\n          1997,\n          2009,\n          2002\n        ],\n        \"num_unique_values\": 9,\n        \"semantic_type\": \"\",\n        \"description\": \"\"\n      }\n    },\n    {\n      \"column\": \"Outlet_Size\",\n      \"properties\": {\n        \"dtype\": \"category\",\n        \"samples\": [\n          \"Medium\",\n          \"Small\",\n          \"High\"\n        ],\n        \"num_unique_values\": 3,\n        \"semantic_type\": \"\",\n        \"description\": \"\"\n      }\n    },\n    {\n      \"column\": \"Outlet_Location_Type\",\n      \"properties\": {\n        \"dtype\": \"category\",\n        \"samples\": [\n          \"Tier 1\",\n          \"Tier 3\",\n          \"Tier 2\"\n        ],\n        \"num_unique_values\": 3,\n        \"semantic_type\": \"\",\n        \"description\": \"\"\n      }\n    },\n    {\n      \"column\": \"Outlet_Type\",\n      \"properties\": {\n        \"dtype\": \"category\",\n        \"samples\": [\n          \"Supermarket Type2\",\n          \"Supermarket Type3\",\n          \"Supermarket Type1\"\n        ],\n        \"num_unique_values\": 4,\n        \"semantic_type\": \"\",\n        \"description\": \"\"\n      }\n    },\n    {\n      \"column\": \"Item_Outlet_Sales\",\n      \"properties\": {\n        \"dtype\": \"number\",\n        \"std\": 1706.499615733833,\n        \"min\": 33.29,\n        \"max\": 13086.9648,\n        \"samples\": [\n          5466.8838,\n          8417.7094,\n          5888.3352\n        ],\n        \"num_unique_values\": 3493,\n        \"semantic_type\": \"\",\n        \"description\": \"\"\n      }\n    }\n  ]\n}"
            }
          },
          "metadata": {},
          "execution_count": 49
        }
      ]
    },
    {
      "cell_type": "code",
      "source": [
        "bmdata['Item_Fat_Content'].value_counts()\n",
        "#There should be only low fat and regular, but now there are LF reg lowfat which are essentitally the same type of data."
      ],
      "metadata": {
        "colab": {
          "base_uri": "https://localhost:8080/"
        },
        "id": "5Y82n3-zar0j",
        "outputId": "ccbc53ac-5c5b-4b16-b399-4c04fbf8817b"
      },
      "execution_count": 50,
      "outputs": [
        {
          "output_type": "execute_result",
          "data": {
            "text/plain": [
              "Low Fat    5089\n",
              "Regular    2889\n",
              "LF          316\n",
              "reg         117\n",
              "low fat     112\n",
              "Name: Item_Fat_Content, dtype: int64"
            ]
          },
          "metadata": {},
          "execution_count": 50
        }
      ]
    },
    {
      "cell_type": "code",
      "source": [
        "bmdata.replace({'Item_Fat_Content':{'low fat':'Low FaT','LF':'Low Fat','Low FAT':'Low Fat','reg':'Regular'}},inplace=True)\n",
        "#Out LF reg low fat into Low Fat or Regular\n"
      ],
      "metadata": {
        "id": "hOMfUf6ea1rw"
      },
      "execution_count": 51,
      "outputs": []
    },
    {
      "cell_type": "code",
      "source": [
        "bmdata['Item_Fat_Content'].value_counts()"
      ],
      "metadata": {
        "colab": {
          "base_uri": "https://localhost:8080/"
        },
        "id": "jVGDkL7Wa3sG",
        "outputId": "043a0998-1e95-4a2e-fd49-841037952044"
      },
      "execution_count": 52,
      "outputs": [
        {
          "output_type": "execute_result",
          "data": {
            "text/plain": [
              "Low Fat    5405\n",
              "Regular    3006\n",
              "Low FaT     112\n",
              "Name: Item_Fat_Content, dtype: int64"
            ]
          },
          "metadata": {},
          "execution_count": 52
        }
      ]
    },
    {
      "cell_type": "markdown",
      "source": [
        "Label Encoding\n",
        "Each Column\n",
        "```\n",
        "# This is formatted as code\n",
        "```\n",
        "\n"
      ],
      "metadata": {
        "id": "mBmau_PJbKzj"
      }
    },
    {
      "cell_type": "code",
      "source": [
        "encoder=LabelEncoder()"
      ],
      "metadata": {
        "id": "IB6rIc3zbMsO"
      },
      "execution_count": 53,
      "outputs": []
    },
    {
      "cell_type": "code",
      "source": [
        "#encoding Item_Identifier\n",
        "bmdata['Item_Identifier']=encoder.fit_transform(bmdata['Item_Identifier'])"
      ],
      "metadata": {
        "id": "QLAwGmR9bOY7"
      },
      "execution_count": 54,
      "outputs": []
    },
    {
      "cell_type": "code",
      "source": [
        "#encoding Item_Fat_Content\n",
        "bmdata['Item_Fat_Content']=encoder.fit_transform(bmdata['Item_Fat_Content'])"
      ],
      "metadata": {
        "id": "YL6yWgkRbQSl"
      },
      "execution_count": 55,
      "outputs": []
    },
    {
      "cell_type": "code",
      "source": [
        "#encoding Item_Type\n",
        "bmdata['Item_Type']=encoder.fit_transform(bmdata['Item_Type'])"
      ],
      "metadata": {
        "id": "WGCKiscKbSvq"
      },
      "execution_count": 56,
      "outputs": []
    },
    {
      "cell_type": "code",
      "source": [
        "#encoding Outlet_Identifier\n",
        "bmdata['Outlet_Identifier']=encoder.fit_transform(bmdata['Outlet_Identifier'])"
      ],
      "metadata": {
        "id": "mpHax8C6bXIF"
      },
      "execution_count": 57,
      "outputs": []
    },
    {
      "cell_type": "code",
      "source": [
        "#encoding Outlet_Size\n",
        "bmdata['Outlet_Size']=encoder.fit_transform(bmdata['Outlet_Size'])"
      ],
      "metadata": {
        "id": "Nip5xvHSbYPC"
      },
      "execution_count": 58,
      "outputs": []
    },
    {
      "cell_type": "code",
      "source": [
        "#encoding Outlet_Location_Type\n",
        "bmdata['Outlet_Location_Type']=encoder.fit_transform(bmdata['Outlet_Location_Type'])"
      ],
      "metadata": {
        "id": "xwnZCQcKbZNM"
      },
      "execution_count": 59,
      "outputs": []
    },
    {
      "cell_type": "code",
      "source": [
        "#encoding Outlet_Type\n",
        "bmdata['Outlet_Type']=encoder.fit_transform(bmdata['Outlet_Type'])"
      ],
      "metadata": {
        "id": "mc_CeJPMbag3"
      },
      "execution_count": 60,
      "outputs": []
    },
    {
      "cell_type": "code",
      "source": [
        "bmdata.head()"
      ],
      "metadata": {
        "colab": {
          "base_uri": "https://localhost:8080/",
          "height": 226
        },
        "id": "-HtFv88Nbbia",
        "outputId": "b2f72ebf-98c9-48ee-8568-232562dd8f6c"
      },
      "execution_count": 61,
      "outputs": [
        {
          "output_type": "execute_result",
          "data": {
            "text/plain": [
              "   Item_Identifier  Item_Weight  Item_Fat_Content  Item_Visibility  Item_Type  \\\n",
              "0              156         9.30                 1         0.016047          4   \n",
              "1                8         5.92                 2         0.019278         14   \n",
              "2              662        17.50                 1         0.016760         10   \n",
              "3             1121        19.20                 2         0.000000          6   \n",
              "4             1297         8.93                 1         0.000000          9   \n",
              "\n",
              "   Item_MRP  Outlet_Identifier  Outlet_Establishment_Year  Outlet_Size  \\\n",
              "0  249.8092                  9                       1999            1   \n",
              "1   48.2692                  3                       2009            1   \n",
              "2  141.6180                  9                       1999            1   \n",
              "3  182.0950                  0                       1998            2   \n",
              "4   53.8614                  1                       1987            0   \n",
              "\n",
              "   Outlet_Location_Type  Outlet_Type  Item_Outlet_Sales  \n",
              "0                     0            1          3735.1380  \n",
              "1                     2            2           443.4228  \n",
              "2                     0            1          2097.2700  \n",
              "3                     2            0           732.3800  \n",
              "4                     2            1           994.7052  "
            ],
            "text/html": [
              "\n",
              "  <div id=\"df-6b97a9d4-00a5-4759-8ac9-e63654656b3d\" class=\"colab-df-container\">\n",
              "    <div>\n",
              "<style scoped>\n",
              "    .dataframe tbody tr th:only-of-type {\n",
              "        vertical-align: middle;\n",
              "    }\n",
              "\n",
              "    .dataframe tbody tr th {\n",
              "        vertical-align: top;\n",
              "    }\n",
              "\n",
              "    .dataframe thead th {\n",
              "        text-align: right;\n",
              "    }\n",
              "</style>\n",
              "<table border=\"1\" class=\"dataframe\">\n",
              "  <thead>\n",
              "    <tr style=\"text-align: right;\">\n",
              "      <th></th>\n",
              "      <th>Item_Identifier</th>\n",
              "      <th>Item_Weight</th>\n",
              "      <th>Item_Fat_Content</th>\n",
              "      <th>Item_Visibility</th>\n",
              "      <th>Item_Type</th>\n",
              "      <th>Item_MRP</th>\n",
              "      <th>Outlet_Identifier</th>\n",
              "      <th>Outlet_Establishment_Year</th>\n",
              "      <th>Outlet_Size</th>\n",
              "      <th>Outlet_Location_Type</th>\n",
              "      <th>Outlet_Type</th>\n",
              "      <th>Item_Outlet_Sales</th>\n",
              "    </tr>\n",
              "  </thead>\n",
              "  <tbody>\n",
              "    <tr>\n",
              "      <th>0</th>\n",
              "      <td>156</td>\n",
              "      <td>9.30</td>\n",
              "      <td>1</td>\n",
              "      <td>0.016047</td>\n",
              "      <td>4</td>\n",
              "      <td>249.8092</td>\n",
              "      <td>9</td>\n",
              "      <td>1999</td>\n",
              "      <td>1</td>\n",
              "      <td>0</td>\n",
              "      <td>1</td>\n",
              "      <td>3735.1380</td>\n",
              "    </tr>\n",
              "    <tr>\n",
              "      <th>1</th>\n",
              "      <td>8</td>\n",
              "      <td>5.92</td>\n",
              "      <td>2</td>\n",
              "      <td>0.019278</td>\n",
              "      <td>14</td>\n",
              "      <td>48.2692</td>\n",
              "      <td>3</td>\n",
              "      <td>2009</td>\n",
              "      <td>1</td>\n",
              "      <td>2</td>\n",
              "      <td>2</td>\n",
              "      <td>443.4228</td>\n",
              "    </tr>\n",
              "    <tr>\n",
              "      <th>2</th>\n",
              "      <td>662</td>\n",
              "      <td>17.50</td>\n",
              "      <td>1</td>\n",
              "      <td>0.016760</td>\n",
              "      <td>10</td>\n",
              "      <td>141.6180</td>\n",
              "      <td>9</td>\n",
              "      <td>1999</td>\n",
              "      <td>1</td>\n",
              "      <td>0</td>\n",
              "      <td>1</td>\n",
              "      <td>2097.2700</td>\n",
              "    </tr>\n",
              "    <tr>\n",
              "      <th>3</th>\n",
              "      <td>1121</td>\n",
              "      <td>19.20</td>\n",
              "      <td>2</td>\n",
              "      <td>0.000000</td>\n",
              "      <td>6</td>\n",
              "      <td>182.0950</td>\n",
              "      <td>0</td>\n",
              "      <td>1998</td>\n",
              "      <td>2</td>\n",
              "      <td>2</td>\n",
              "      <td>0</td>\n",
              "      <td>732.3800</td>\n",
              "    </tr>\n",
              "    <tr>\n",
              "      <th>4</th>\n",
              "      <td>1297</td>\n",
              "      <td>8.93</td>\n",
              "      <td>1</td>\n",
              "      <td>0.000000</td>\n",
              "      <td>9</td>\n",
              "      <td>53.8614</td>\n",
              "      <td>1</td>\n",
              "      <td>1987</td>\n",
              "      <td>0</td>\n",
              "      <td>2</td>\n",
              "      <td>1</td>\n",
              "      <td>994.7052</td>\n",
              "    </tr>\n",
              "  </tbody>\n",
              "</table>\n",
              "</div>\n",
              "    <div class=\"colab-df-buttons\">\n",
              "\n",
              "  <div class=\"colab-df-container\">\n",
              "    <button class=\"colab-df-convert\" onclick=\"convertToInteractive('df-6b97a9d4-00a5-4759-8ac9-e63654656b3d')\"\n",
              "            title=\"Convert this dataframe to an interactive table.\"\n",
              "            style=\"display:none;\">\n",
              "\n",
              "  <svg xmlns=\"http://www.w3.org/2000/svg\" height=\"24px\" viewBox=\"0 -960 960 960\">\n",
              "    <path d=\"M120-120v-720h720v720H120Zm60-500h600v-160H180v160Zm220 220h160v-160H400v160Zm0 220h160v-160H400v160ZM180-400h160v-160H180v160Zm440 0h160v-160H620v160ZM180-180h160v-160H180v160Zm440 0h160v-160H620v160Z\"/>\n",
              "  </svg>\n",
              "    </button>\n",
              "\n",
              "  <style>\n",
              "    .colab-df-container {\n",
              "      display:flex;\n",
              "      gap: 12px;\n",
              "    }\n",
              "\n",
              "    .colab-df-convert {\n",
              "      background-color: #E8F0FE;\n",
              "      border: none;\n",
              "      border-radius: 50%;\n",
              "      cursor: pointer;\n",
              "      display: none;\n",
              "      fill: #1967D2;\n",
              "      height: 32px;\n",
              "      padding: 0 0 0 0;\n",
              "      width: 32px;\n",
              "    }\n",
              "\n",
              "    .colab-df-convert:hover {\n",
              "      background-color: #E2EBFA;\n",
              "      box-shadow: 0px 1px 2px rgba(60, 64, 67, 0.3), 0px 1px 3px 1px rgba(60, 64, 67, 0.15);\n",
              "      fill: #174EA6;\n",
              "    }\n",
              "\n",
              "    .colab-df-buttons div {\n",
              "      margin-bottom: 4px;\n",
              "    }\n",
              "\n",
              "    [theme=dark] .colab-df-convert {\n",
              "      background-color: #3B4455;\n",
              "      fill: #D2E3FC;\n",
              "    }\n",
              "\n",
              "    [theme=dark] .colab-df-convert:hover {\n",
              "      background-color: #434B5C;\n",
              "      box-shadow: 0px 1px 3px 1px rgba(0, 0, 0, 0.15);\n",
              "      filter: drop-shadow(0px 1px 2px rgba(0, 0, 0, 0.3));\n",
              "      fill: #FFFFFF;\n",
              "    }\n",
              "  </style>\n",
              "\n",
              "    <script>\n",
              "      const buttonEl =\n",
              "        document.querySelector('#df-6b97a9d4-00a5-4759-8ac9-e63654656b3d button.colab-df-convert');\n",
              "      buttonEl.style.display =\n",
              "        google.colab.kernel.accessAllowed ? 'block' : 'none';\n",
              "\n",
              "      async function convertToInteractive(key) {\n",
              "        const element = document.querySelector('#df-6b97a9d4-00a5-4759-8ac9-e63654656b3d');\n",
              "        const dataTable =\n",
              "          await google.colab.kernel.invokeFunction('convertToInteractive',\n",
              "                                                    [key], {});\n",
              "        if (!dataTable) return;\n",
              "\n",
              "        const docLinkHtml = 'Like what you see? Visit the ' +\n",
              "          '<a target=\"_blank\" href=https://colab.research.google.com/notebooks/data_table.ipynb>data table notebook</a>'\n",
              "          + ' to learn more about interactive tables.';\n",
              "        element.innerHTML = '';\n",
              "        dataTable['output_type'] = 'display_data';\n",
              "        await google.colab.output.renderOutput(dataTable, element);\n",
              "        const docLink = document.createElement('div');\n",
              "        docLink.innerHTML = docLinkHtml;\n",
              "        element.appendChild(docLink);\n",
              "      }\n",
              "    </script>\n",
              "  </div>\n",
              "\n",
              "\n",
              "<div id=\"df-628fcd5b-ef77-4b04-afa8-fa64a5db6c43\">\n",
              "  <button class=\"colab-df-quickchart\" onclick=\"quickchart('df-628fcd5b-ef77-4b04-afa8-fa64a5db6c43')\"\n",
              "            title=\"Suggest charts\"\n",
              "            style=\"display:none;\">\n",
              "\n",
              "<svg xmlns=\"http://www.w3.org/2000/svg\" height=\"24px\"viewBox=\"0 0 24 24\"\n",
              "     width=\"24px\">\n",
              "    <g>\n",
              "        <path d=\"M19 3H5c-1.1 0-2 .9-2 2v14c0 1.1.9 2 2 2h14c1.1 0 2-.9 2-2V5c0-1.1-.9-2-2-2zM9 17H7v-7h2v7zm4 0h-2V7h2v10zm4 0h-2v-4h2v4z\"/>\n",
              "    </g>\n",
              "</svg>\n",
              "  </button>\n",
              "\n",
              "<style>\n",
              "  .colab-df-quickchart {\n",
              "      --bg-color: #E8F0FE;\n",
              "      --fill-color: #1967D2;\n",
              "      --hover-bg-color: #E2EBFA;\n",
              "      --hover-fill-color: #174EA6;\n",
              "      --disabled-fill-color: #AAA;\n",
              "      --disabled-bg-color: #DDD;\n",
              "  }\n",
              "\n",
              "  [theme=dark] .colab-df-quickchart {\n",
              "      --bg-color: #3B4455;\n",
              "      --fill-color: #D2E3FC;\n",
              "      --hover-bg-color: #434B5C;\n",
              "      --hover-fill-color: #FFFFFF;\n",
              "      --disabled-bg-color: #3B4455;\n",
              "      --disabled-fill-color: #666;\n",
              "  }\n",
              "\n",
              "  .colab-df-quickchart {\n",
              "    background-color: var(--bg-color);\n",
              "    border: none;\n",
              "    border-radius: 50%;\n",
              "    cursor: pointer;\n",
              "    display: none;\n",
              "    fill: var(--fill-color);\n",
              "    height: 32px;\n",
              "    padding: 0;\n",
              "    width: 32px;\n",
              "  }\n",
              "\n",
              "  .colab-df-quickchart:hover {\n",
              "    background-color: var(--hover-bg-color);\n",
              "    box-shadow: 0 1px 2px rgba(60, 64, 67, 0.3), 0 1px 3px 1px rgba(60, 64, 67, 0.15);\n",
              "    fill: var(--button-hover-fill-color);\n",
              "  }\n",
              "\n",
              "  .colab-df-quickchart-complete:disabled,\n",
              "  .colab-df-quickchart-complete:disabled:hover {\n",
              "    background-color: var(--disabled-bg-color);\n",
              "    fill: var(--disabled-fill-color);\n",
              "    box-shadow: none;\n",
              "  }\n",
              "\n",
              "  .colab-df-spinner {\n",
              "    border: 2px solid var(--fill-color);\n",
              "    border-color: transparent;\n",
              "    border-bottom-color: var(--fill-color);\n",
              "    animation:\n",
              "      spin 1s steps(1) infinite;\n",
              "  }\n",
              "\n",
              "  @keyframes spin {\n",
              "    0% {\n",
              "      border-color: transparent;\n",
              "      border-bottom-color: var(--fill-color);\n",
              "      border-left-color: var(--fill-color);\n",
              "    }\n",
              "    20% {\n",
              "      border-color: transparent;\n",
              "      border-left-color: var(--fill-color);\n",
              "      border-top-color: var(--fill-color);\n",
              "    }\n",
              "    30% {\n",
              "      border-color: transparent;\n",
              "      border-left-color: var(--fill-color);\n",
              "      border-top-color: var(--fill-color);\n",
              "      border-right-color: var(--fill-color);\n",
              "    }\n",
              "    40% {\n",
              "      border-color: transparent;\n",
              "      border-right-color: var(--fill-color);\n",
              "      border-top-color: var(--fill-color);\n",
              "    }\n",
              "    60% {\n",
              "      border-color: transparent;\n",
              "      border-right-color: var(--fill-color);\n",
              "    }\n",
              "    80% {\n",
              "      border-color: transparent;\n",
              "      border-right-color: var(--fill-color);\n",
              "      border-bottom-color: var(--fill-color);\n",
              "    }\n",
              "    90% {\n",
              "      border-color: transparent;\n",
              "      border-bottom-color: var(--fill-color);\n",
              "    }\n",
              "  }\n",
              "</style>\n",
              "\n",
              "  <script>\n",
              "    async function quickchart(key) {\n",
              "      const quickchartButtonEl =\n",
              "        document.querySelector('#' + key + ' button');\n",
              "      quickchartButtonEl.disabled = true;  // To prevent multiple clicks.\n",
              "      quickchartButtonEl.classList.add('colab-df-spinner');\n",
              "      try {\n",
              "        const charts = await google.colab.kernel.invokeFunction(\n",
              "            'suggestCharts', [key], {});\n",
              "      } catch (error) {\n",
              "        console.error('Error during call to suggestCharts:', error);\n",
              "      }\n",
              "      quickchartButtonEl.classList.remove('colab-df-spinner');\n",
              "      quickchartButtonEl.classList.add('colab-df-quickchart-complete');\n",
              "    }\n",
              "    (() => {\n",
              "      let quickchartButtonEl =\n",
              "        document.querySelector('#df-628fcd5b-ef77-4b04-afa8-fa64a5db6c43 button');\n",
              "      quickchartButtonEl.style.display =\n",
              "        google.colab.kernel.accessAllowed ? 'block' : 'none';\n",
              "    })();\n",
              "  </script>\n",
              "</div>\n",
              "    </div>\n",
              "  </div>\n"
            ],
            "application/vnd.google.colaboratory.intrinsic+json": {
              "type": "dataframe",
              "variable_name": "bmdata",
              "summary": "{\n  \"name\": \"bmdata\",\n  \"rows\": 8523,\n  \"fields\": [\n    {\n      \"column\": \"Item_Identifier\",\n      \"properties\": {\n        \"dtype\": \"number\",\n        \"std\": 449,\n        \"min\": 0,\n        \"max\": 1558,\n        \"samples\": [\n          1167,\n          396,\n          1357\n        ],\n        \"num_unique_values\": 1559,\n        \"semantic_type\": \"\",\n        \"description\": \"\"\n      }\n    },\n    {\n      \"column\": \"Item_Weight\",\n      \"properties\": {\n        \"dtype\": \"number\",\n        \"std\": 4.226123724532989,\n        \"min\": 4.555,\n        \"max\": 21.35,\n        \"samples\": [\n          15.0,\n          9.21,\n          6.895\n        ],\n        \"num_unique_values\": 416,\n        \"semantic_type\": \"\",\n        \"description\": \"\"\n      }\n    },\n    {\n      \"column\": \"Item_Fat_Content\",\n      \"properties\": {\n        \"dtype\": \"number\",\n        \"std\": 0,\n        \"min\": 0,\n        \"max\": 2,\n        \"samples\": [\n          1,\n          2,\n          0\n        ],\n        \"num_unique_values\": 3,\n        \"semantic_type\": \"\",\n        \"description\": \"\"\n      }\n    },\n    {\n      \"column\": \"Item_Visibility\",\n      \"properties\": {\n        \"dtype\": \"number\",\n        \"std\": 0.05159782232113512,\n        \"min\": 0.0,\n        \"max\": 0.328390948,\n        \"samples\": [\n          0.224837308,\n          0.046088273,\n          0.0204702\n        ],\n        \"num_unique_values\": 7880,\n        \"semantic_type\": \"\",\n        \"description\": \"\"\n      }\n    },\n    {\n      \"column\": \"Item_Type\",\n      \"properties\": {\n        \"dtype\": \"number\",\n        \"std\": 4,\n        \"min\": 0,\n        \"max\": 15,\n        \"samples\": [\n          4,\n          14,\n          0\n        ],\n        \"num_unique_values\": 16,\n        \"semantic_type\": \"\",\n        \"description\": \"\"\n      }\n    },\n    {\n      \"column\": \"Item_MRP\",\n      \"properties\": {\n        \"dtype\": \"number\",\n        \"std\": 62.27506651219046,\n        \"min\": 31.29,\n        \"max\": 266.8884,\n        \"samples\": [\n          255.9672,\n          93.512,\n          208.3954\n        ],\n        \"num_unique_values\": 5938,\n        \"semantic_type\": \"\",\n        \"description\": \"\"\n      }\n    },\n    {\n      \"column\": \"Outlet_Identifier\",\n      \"properties\": {\n        \"dtype\": \"number\",\n        \"std\": 2,\n        \"min\": 0,\n        \"max\": 9,\n        \"samples\": [\n          6,\n          3,\n          7\n        ],\n        \"num_unique_values\": 10,\n        \"semantic_type\": \"\",\n        \"description\": \"\"\n      }\n    },\n    {\n      \"column\": \"Outlet_Establishment_Year\",\n      \"properties\": {\n        \"dtype\": \"number\",\n        \"std\": 8,\n        \"min\": 1985,\n        \"max\": 2009,\n        \"samples\": [\n          1997,\n          2009,\n          2002\n        ],\n        \"num_unique_values\": 9,\n        \"semantic_type\": \"\",\n        \"description\": \"\"\n      }\n    },\n    {\n      \"column\": \"Outlet_Size\",\n      \"properties\": {\n        \"dtype\": \"number\",\n        \"std\": 0,\n        \"min\": 0,\n        \"max\": 2,\n        \"samples\": [\n          1,\n          2,\n          0\n        ],\n        \"num_unique_values\": 3,\n        \"semantic_type\": \"\",\n        \"description\": \"\"\n      }\n    },\n    {\n      \"column\": \"Outlet_Location_Type\",\n      \"properties\": {\n        \"dtype\": \"number\",\n        \"std\": 0,\n        \"min\": 0,\n        \"max\": 2,\n        \"samples\": [\n          0,\n          2,\n          1\n        ],\n        \"num_unique_values\": 3,\n        \"semantic_type\": \"\",\n        \"description\": \"\"\n      }\n    },\n    {\n      \"column\": \"Outlet_Type\",\n      \"properties\": {\n        \"dtype\": \"number\",\n        \"std\": 0,\n        \"min\": 0,\n        \"max\": 3,\n        \"samples\": [\n          2,\n          3,\n          1\n        ],\n        \"num_unique_values\": 4,\n        \"semantic_type\": \"\",\n        \"description\": \"\"\n      }\n    },\n    {\n      \"column\": \"Item_Outlet_Sales\",\n      \"properties\": {\n        \"dtype\": \"number\",\n        \"std\": 1706.499615733833,\n        \"min\": 33.29,\n        \"max\": 13086.9648,\n        \"samples\": [\n          5466.8838,\n          8417.7094,\n          5888.3352\n        ],\n        \"num_unique_values\": 3493,\n        \"semantic_type\": \"\",\n        \"description\": \"\"\n      }\n    }\n  ]\n}"
            }
          },
          "metadata": {},
          "execution_count": 61
        }
      ]
    },
    {
      "cell_type": "markdown",
      "source": [
        "Splitting Data into Features and Target"
      ],
      "metadata": {
        "id": "eOfHkJHobgHK"
      }
    },
    {
      "cell_type": "code",
      "source": [
        "X=bmdata.drop(columns='Item_Outlet_Sales',axis=1) #Drop predicting column (the last column usually)\n",
        "Y=bmdata['Item_Outlet_Sales'] #Assign Y to the predicting column"
      ],
      "metadata": {
        "id": "8PFL7su8bjMT"
      },
      "execution_count": 62,
      "outputs": []
    },
    {
      "cell_type": "code",
      "source": [
        "X"
      ],
      "metadata": {
        "colab": {
          "base_uri": "https://localhost:8080/",
          "height": 443
        },
        "id": "MZ4DkVuCbrdB",
        "outputId": "1ebec7c7-c6f2-4b11-9cb0-7f6ff66aed86"
      },
      "execution_count": 63,
      "outputs": [
        {
          "output_type": "execute_result",
          "data": {
            "text/plain": [
              "      Item_Identifier  Item_Weight  Item_Fat_Content  Item_Visibility  \\\n",
              "0                 156        9.300                 1         0.016047   \n",
              "1                   8        5.920                 2         0.019278   \n",
              "2                 662       17.500                 1         0.016760   \n",
              "3                1121       19.200                 2         0.000000   \n",
              "4                1297        8.930                 1         0.000000   \n",
              "...               ...          ...               ...              ...   \n",
              "8518              370        6.865                 1         0.056783   \n",
              "8519              897        8.380                 2         0.046982   \n",
              "8520             1357       10.600                 1         0.035186   \n",
              "8521              681        7.210                 2         0.145221   \n",
              "8522               50       14.800                 1         0.044878   \n",
              "\n",
              "      Item_Type  Item_MRP  Outlet_Identifier  Outlet_Establishment_Year  \\\n",
              "0             4  249.8092                  9                       1999   \n",
              "1            14   48.2692                  3                       2009   \n",
              "2            10  141.6180                  9                       1999   \n",
              "3             6  182.0950                  0                       1998   \n",
              "4             9   53.8614                  1                       1987   \n",
              "...         ...       ...                ...                        ...   \n",
              "8518         13  214.5218                  1                       1987   \n",
              "8519          0  108.1570                  7                       2002   \n",
              "8520          8   85.1224                  6                       2004   \n",
              "8521         13  103.1332                  3                       2009   \n",
              "8522         14   75.4670                  8                       1997   \n",
              "\n",
              "      Outlet_Size  Outlet_Location_Type  Outlet_Type  \n",
              "0               1                     0            1  \n",
              "1               1                     2            2  \n",
              "2               1                     0            1  \n",
              "3               2                     2            0  \n",
              "4               0                     2            1  \n",
              "...           ...                   ...          ...  \n",
              "8518            0                     2            1  \n",
              "8519            2                     1            1  \n",
              "8520            2                     1            1  \n",
              "8521            1                     2            2  \n",
              "8522            2                     0            1  \n",
              "\n",
              "[8523 rows x 11 columns]"
            ],
            "text/html": [
              "\n",
              "  <div id=\"df-d39dfab8-3ed4-4395-b0e7-a6fb7f9b2097\" class=\"colab-df-container\">\n",
              "    <div>\n",
              "<style scoped>\n",
              "    .dataframe tbody tr th:only-of-type {\n",
              "        vertical-align: middle;\n",
              "    }\n",
              "\n",
              "    .dataframe tbody tr th {\n",
              "        vertical-align: top;\n",
              "    }\n",
              "\n",
              "    .dataframe thead th {\n",
              "        text-align: right;\n",
              "    }\n",
              "</style>\n",
              "<table border=\"1\" class=\"dataframe\">\n",
              "  <thead>\n",
              "    <tr style=\"text-align: right;\">\n",
              "      <th></th>\n",
              "      <th>Item_Identifier</th>\n",
              "      <th>Item_Weight</th>\n",
              "      <th>Item_Fat_Content</th>\n",
              "      <th>Item_Visibility</th>\n",
              "      <th>Item_Type</th>\n",
              "      <th>Item_MRP</th>\n",
              "      <th>Outlet_Identifier</th>\n",
              "      <th>Outlet_Establishment_Year</th>\n",
              "      <th>Outlet_Size</th>\n",
              "      <th>Outlet_Location_Type</th>\n",
              "      <th>Outlet_Type</th>\n",
              "    </tr>\n",
              "  </thead>\n",
              "  <tbody>\n",
              "    <tr>\n",
              "      <th>0</th>\n",
              "      <td>156</td>\n",
              "      <td>9.300</td>\n",
              "      <td>1</td>\n",
              "      <td>0.016047</td>\n",
              "      <td>4</td>\n",
              "      <td>249.8092</td>\n",
              "      <td>9</td>\n",
              "      <td>1999</td>\n",
              "      <td>1</td>\n",
              "      <td>0</td>\n",
              "      <td>1</td>\n",
              "    </tr>\n",
              "    <tr>\n",
              "      <th>1</th>\n",
              "      <td>8</td>\n",
              "      <td>5.920</td>\n",
              "      <td>2</td>\n",
              "      <td>0.019278</td>\n",
              "      <td>14</td>\n",
              "      <td>48.2692</td>\n",
              "      <td>3</td>\n",
              "      <td>2009</td>\n",
              "      <td>1</td>\n",
              "      <td>2</td>\n",
              "      <td>2</td>\n",
              "    </tr>\n",
              "    <tr>\n",
              "      <th>2</th>\n",
              "      <td>662</td>\n",
              "      <td>17.500</td>\n",
              "      <td>1</td>\n",
              "      <td>0.016760</td>\n",
              "      <td>10</td>\n",
              "      <td>141.6180</td>\n",
              "      <td>9</td>\n",
              "      <td>1999</td>\n",
              "      <td>1</td>\n",
              "      <td>0</td>\n",
              "      <td>1</td>\n",
              "    </tr>\n",
              "    <tr>\n",
              "      <th>3</th>\n",
              "      <td>1121</td>\n",
              "      <td>19.200</td>\n",
              "      <td>2</td>\n",
              "      <td>0.000000</td>\n",
              "      <td>6</td>\n",
              "      <td>182.0950</td>\n",
              "      <td>0</td>\n",
              "      <td>1998</td>\n",
              "      <td>2</td>\n",
              "      <td>2</td>\n",
              "      <td>0</td>\n",
              "    </tr>\n",
              "    <tr>\n",
              "      <th>4</th>\n",
              "      <td>1297</td>\n",
              "      <td>8.930</td>\n",
              "      <td>1</td>\n",
              "      <td>0.000000</td>\n",
              "      <td>9</td>\n",
              "      <td>53.8614</td>\n",
              "      <td>1</td>\n",
              "      <td>1987</td>\n",
              "      <td>0</td>\n",
              "      <td>2</td>\n",
              "      <td>1</td>\n",
              "    </tr>\n",
              "    <tr>\n",
              "      <th>...</th>\n",
              "      <td>...</td>\n",
              "      <td>...</td>\n",
              "      <td>...</td>\n",
              "      <td>...</td>\n",
              "      <td>...</td>\n",
              "      <td>...</td>\n",
              "      <td>...</td>\n",
              "      <td>...</td>\n",
              "      <td>...</td>\n",
              "      <td>...</td>\n",
              "      <td>...</td>\n",
              "    </tr>\n",
              "    <tr>\n",
              "      <th>8518</th>\n",
              "      <td>370</td>\n",
              "      <td>6.865</td>\n",
              "      <td>1</td>\n",
              "      <td>0.056783</td>\n",
              "      <td>13</td>\n",
              "      <td>214.5218</td>\n",
              "      <td>1</td>\n",
              "      <td>1987</td>\n",
              "      <td>0</td>\n",
              "      <td>2</td>\n",
              "      <td>1</td>\n",
              "    </tr>\n",
              "    <tr>\n",
              "      <th>8519</th>\n",
              "      <td>897</td>\n",
              "      <td>8.380</td>\n",
              "      <td>2</td>\n",
              "      <td>0.046982</td>\n",
              "      <td>0</td>\n",
              "      <td>108.1570</td>\n",
              "      <td>7</td>\n",
              "      <td>2002</td>\n",
              "      <td>2</td>\n",
              "      <td>1</td>\n",
              "      <td>1</td>\n",
              "    </tr>\n",
              "    <tr>\n",
              "      <th>8520</th>\n",
              "      <td>1357</td>\n",
              "      <td>10.600</td>\n",
              "      <td>1</td>\n",
              "      <td>0.035186</td>\n",
              "      <td>8</td>\n",
              "      <td>85.1224</td>\n",
              "      <td>6</td>\n",
              "      <td>2004</td>\n",
              "      <td>2</td>\n",
              "      <td>1</td>\n",
              "      <td>1</td>\n",
              "    </tr>\n",
              "    <tr>\n",
              "      <th>8521</th>\n",
              "      <td>681</td>\n",
              "      <td>7.210</td>\n",
              "      <td>2</td>\n",
              "      <td>0.145221</td>\n",
              "      <td>13</td>\n",
              "      <td>103.1332</td>\n",
              "      <td>3</td>\n",
              "      <td>2009</td>\n",
              "      <td>1</td>\n",
              "      <td>2</td>\n",
              "      <td>2</td>\n",
              "    </tr>\n",
              "    <tr>\n",
              "      <th>8522</th>\n",
              "      <td>50</td>\n",
              "      <td>14.800</td>\n",
              "      <td>1</td>\n",
              "      <td>0.044878</td>\n",
              "      <td>14</td>\n",
              "      <td>75.4670</td>\n",
              "      <td>8</td>\n",
              "      <td>1997</td>\n",
              "      <td>2</td>\n",
              "      <td>0</td>\n",
              "      <td>1</td>\n",
              "    </tr>\n",
              "  </tbody>\n",
              "</table>\n",
              "<p>8523 rows × 11 columns</p>\n",
              "</div>\n",
              "    <div class=\"colab-df-buttons\">\n",
              "\n",
              "  <div class=\"colab-df-container\">\n",
              "    <button class=\"colab-df-convert\" onclick=\"convertToInteractive('df-d39dfab8-3ed4-4395-b0e7-a6fb7f9b2097')\"\n",
              "            title=\"Convert this dataframe to an interactive table.\"\n",
              "            style=\"display:none;\">\n",
              "\n",
              "  <svg xmlns=\"http://www.w3.org/2000/svg\" height=\"24px\" viewBox=\"0 -960 960 960\">\n",
              "    <path d=\"M120-120v-720h720v720H120Zm60-500h600v-160H180v160Zm220 220h160v-160H400v160Zm0 220h160v-160H400v160ZM180-400h160v-160H180v160Zm440 0h160v-160H620v160ZM180-180h160v-160H180v160Zm440 0h160v-160H620v160Z\"/>\n",
              "  </svg>\n",
              "    </button>\n",
              "\n",
              "  <style>\n",
              "    .colab-df-container {\n",
              "      display:flex;\n",
              "      gap: 12px;\n",
              "    }\n",
              "\n",
              "    .colab-df-convert {\n",
              "      background-color: #E8F0FE;\n",
              "      border: none;\n",
              "      border-radius: 50%;\n",
              "      cursor: pointer;\n",
              "      display: none;\n",
              "      fill: #1967D2;\n",
              "      height: 32px;\n",
              "      padding: 0 0 0 0;\n",
              "      width: 32px;\n",
              "    }\n",
              "\n",
              "    .colab-df-convert:hover {\n",
              "      background-color: #E2EBFA;\n",
              "      box-shadow: 0px 1px 2px rgba(60, 64, 67, 0.3), 0px 1px 3px 1px rgba(60, 64, 67, 0.15);\n",
              "      fill: #174EA6;\n",
              "    }\n",
              "\n",
              "    .colab-df-buttons div {\n",
              "      margin-bottom: 4px;\n",
              "    }\n",
              "\n",
              "    [theme=dark] .colab-df-convert {\n",
              "      background-color: #3B4455;\n",
              "      fill: #D2E3FC;\n",
              "    }\n",
              "\n",
              "    [theme=dark] .colab-df-convert:hover {\n",
              "      background-color: #434B5C;\n",
              "      box-shadow: 0px 1px 3px 1px rgba(0, 0, 0, 0.15);\n",
              "      filter: drop-shadow(0px 1px 2px rgba(0, 0, 0, 0.3));\n",
              "      fill: #FFFFFF;\n",
              "    }\n",
              "  </style>\n",
              "\n",
              "    <script>\n",
              "      const buttonEl =\n",
              "        document.querySelector('#df-d39dfab8-3ed4-4395-b0e7-a6fb7f9b2097 button.colab-df-convert');\n",
              "      buttonEl.style.display =\n",
              "        google.colab.kernel.accessAllowed ? 'block' : 'none';\n",
              "\n",
              "      async function convertToInteractive(key) {\n",
              "        const element = document.querySelector('#df-d39dfab8-3ed4-4395-b0e7-a6fb7f9b2097');\n",
              "        const dataTable =\n",
              "          await google.colab.kernel.invokeFunction('convertToInteractive',\n",
              "                                                    [key], {});\n",
              "        if (!dataTable) return;\n",
              "\n",
              "        const docLinkHtml = 'Like what you see? Visit the ' +\n",
              "          '<a target=\"_blank\" href=https://colab.research.google.com/notebooks/data_table.ipynb>data table notebook</a>'\n",
              "          + ' to learn more about interactive tables.';\n",
              "        element.innerHTML = '';\n",
              "        dataTable['output_type'] = 'display_data';\n",
              "        await google.colab.output.renderOutput(dataTable, element);\n",
              "        const docLink = document.createElement('div');\n",
              "        docLink.innerHTML = docLinkHtml;\n",
              "        element.appendChild(docLink);\n",
              "      }\n",
              "    </script>\n",
              "  </div>\n",
              "\n",
              "\n",
              "<div id=\"df-3e57b747-a3de-45fe-9ed7-9519fc96b6eb\">\n",
              "  <button class=\"colab-df-quickchart\" onclick=\"quickchart('df-3e57b747-a3de-45fe-9ed7-9519fc96b6eb')\"\n",
              "            title=\"Suggest charts\"\n",
              "            style=\"display:none;\">\n",
              "\n",
              "<svg xmlns=\"http://www.w3.org/2000/svg\" height=\"24px\"viewBox=\"0 0 24 24\"\n",
              "     width=\"24px\">\n",
              "    <g>\n",
              "        <path d=\"M19 3H5c-1.1 0-2 .9-2 2v14c0 1.1.9 2 2 2h14c1.1 0 2-.9 2-2V5c0-1.1-.9-2-2-2zM9 17H7v-7h2v7zm4 0h-2V7h2v10zm4 0h-2v-4h2v4z\"/>\n",
              "    </g>\n",
              "</svg>\n",
              "  </button>\n",
              "\n",
              "<style>\n",
              "  .colab-df-quickchart {\n",
              "      --bg-color: #E8F0FE;\n",
              "      --fill-color: #1967D2;\n",
              "      --hover-bg-color: #E2EBFA;\n",
              "      --hover-fill-color: #174EA6;\n",
              "      --disabled-fill-color: #AAA;\n",
              "      --disabled-bg-color: #DDD;\n",
              "  }\n",
              "\n",
              "  [theme=dark] .colab-df-quickchart {\n",
              "      --bg-color: #3B4455;\n",
              "      --fill-color: #D2E3FC;\n",
              "      --hover-bg-color: #434B5C;\n",
              "      --hover-fill-color: #FFFFFF;\n",
              "      --disabled-bg-color: #3B4455;\n",
              "      --disabled-fill-color: #666;\n",
              "  }\n",
              "\n",
              "  .colab-df-quickchart {\n",
              "    background-color: var(--bg-color);\n",
              "    border: none;\n",
              "    border-radius: 50%;\n",
              "    cursor: pointer;\n",
              "    display: none;\n",
              "    fill: var(--fill-color);\n",
              "    height: 32px;\n",
              "    padding: 0;\n",
              "    width: 32px;\n",
              "  }\n",
              "\n",
              "  .colab-df-quickchart:hover {\n",
              "    background-color: var(--hover-bg-color);\n",
              "    box-shadow: 0 1px 2px rgba(60, 64, 67, 0.3), 0 1px 3px 1px rgba(60, 64, 67, 0.15);\n",
              "    fill: var(--button-hover-fill-color);\n",
              "  }\n",
              "\n",
              "  .colab-df-quickchart-complete:disabled,\n",
              "  .colab-df-quickchart-complete:disabled:hover {\n",
              "    background-color: var(--disabled-bg-color);\n",
              "    fill: var(--disabled-fill-color);\n",
              "    box-shadow: none;\n",
              "  }\n",
              "\n",
              "  .colab-df-spinner {\n",
              "    border: 2px solid var(--fill-color);\n",
              "    border-color: transparent;\n",
              "    border-bottom-color: var(--fill-color);\n",
              "    animation:\n",
              "      spin 1s steps(1) infinite;\n",
              "  }\n",
              "\n",
              "  @keyframes spin {\n",
              "    0% {\n",
              "      border-color: transparent;\n",
              "      border-bottom-color: var(--fill-color);\n",
              "      border-left-color: var(--fill-color);\n",
              "    }\n",
              "    20% {\n",
              "      border-color: transparent;\n",
              "      border-left-color: var(--fill-color);\n",
              "      border-top-color: var(--fill-color);\n",
              "    }\n",
              "    30% {\n",
              "      border-color: transparent;\n",
              "      border-left-color: var(--fill-color);\n",
              "      border-top-color: var(--fill-color);\n",
              "      border-right-color: var(--fill-color);\n",
              "    }\n",
              "    40% {\n",
              "      border-color: transparent;\n",
              "      border-right-color: var(--fill-color);\n",
              "      border-top-color: var(--fill-color);\n",
              "    }\n",
              "    60% {\n",
              "      border-color: transparent;\n",
              "      border-right-color: var(--fill-color);\n",
              "    }\n",
              "    80% {\n",
              "      border-color: transparent;\n",
              "      border-right-color: var(--fill-color);\n",
              "      border-bottom-color: var(--fill-color);\n",
              "    }\n",
              "    90% {\n",
              "      border-color: transparent;\n",
              "      border-bottom-color: var(--fill-color);\n",
              "    }\n",
              "  }\n",
              "</style>\n",
              "\n",
              "  <script>\n",
              "    async function quickchart(key) {\n",
              "      const quickchartButtonEl =\n",
              "        document.querySelector('#' + key + ' button');\n",
              "      quickchartButtonEl.disabled = true;  // To prevent multiple clicks.\n",
              "      quickchartButtonEl.classList.add('colab-df-spinner');\n",
              "      try {\n",
              "        const charts = await google.colab.kernel.invokeFunction(\n",
              "            'suggestCharts', [key], {});\n",
              "      } catch (error) {\n",
              "        console.error('Error during call to suggestCharts:', error);\n",
              "      }\n",
              "      quickchartButtonEl.classList.remove('colab-df-spinner');\n",
              "      quickchartButtonEl.classList.add('colab-df-quickchart-complete');\n",
              "    }\n",
              "    (() => {\n",
              "      let quickchartButtonEl =\n",
              "        document.querySelector('#df-3e57b747-a3de-45fe-9ed7-9519fc96b6eb button');\n",
              "      quickchartButtonEl.style.display =\n",
              "        google.colab.kernel.accessAllowed ? 'block' : 'none';\n",
              "    })();\n",
              "  </script>\n",
              "</div>\n",
              "    </div>\n",
              "  </div>\n"
            ],
            "application/vnd.google.colaboratory.intrinsic+json": {
              "type": "dataframe",
              "variable_name": "X",
              "summary": "{\n  \"name\": \"X\",\n  \"rows\": 8523,\n  \"fields\": [\n    {\n      \"column\": \"Item_Identifier\",\n      \"properties\": {\n        \"dtype\": \"number\",\n        \"std\": 449,\n        \"min\": 0,\n        \"max\": 1558,\n        \"samples\": [\n          1167,\n          396,\n          1357\n        ],\n        \"num_unique_values\": 1559,\n        \"semantic_type\": \"\",\n        \"description\": \"\"\n      }\n    },\n    {\n      \"column\": \"Item_Weight\",\n      \"properties\": {\n        \"dtype\": \"number\",\n        \"std\": 4.226123724532989,\n        \"min\": 4.555,\n        \"max\": 21.35,\n        \"samples\": [\n          15.0,\n          9.21,\n          6.895\n        ],\n        \"num_unique_values\": 416,\n        \"semantic_type\": \"\",\n        \"description\": \"\"\n      }\n    },\n    {\n      \"column\": \"Item_Fat_Content\",\n      \"properties\": {\n        \"dtype\": \"number\",\n        \"std\": 0,\n        \"min\": 0,\n        \"max\": 2,\n        \"samples\": [\n          1,\n          2,\n          0\n        ],\n        \"num_unique_values\": 3,\n        \"semantic_type\": \"\",\n        \"description\": \"\"\n      }\n    },\n    {\n      \"column\": \"Item_Visibility\",\n      \"properties\": {\n        \"dtype\": \"number\",\n        \"std\": 0.05159782232113512,\n        \"min\": 0.0,\n        \"max\": 0.328390948,\n        \"samples\": [\n          0.224837308,\n          0.046088273,\n          0.0204702\n        ],\n        \"num_unique_values\": 7880,\n        \"semantic_type\": \"\",\n        \"description\": \"\"\n      }\n    },\n    {\n      \"column\": \"Item_Type\",\n      \"properties\": {\n        \"dtype\": \"number\",\n        \"std\": 4,\n        \"min\": 0,\n        \"max\": 15,\n        \"samples\": [\n          4,\n          14,\n          0\n        ],\n        \"num_unique_values\": 16,\n        \"semantic_type\": \"\",\n        \"description\": \"\"\n      }\n    },\n    {\n      \"column\": \"Item_MRP\",\n      \"properties\": {\n        \"dtype\": \"number\",\n        \"std\": 62.27506651219046,\n        \"min\": 31.29,\n        \"max\": 266.8884,\n        \"samples\": [\n          255.9672,\n          93.512,\n          208.3954\n        ],\n        \"num_unique_values\": 5938,\n        \"semantic_type\": \"\",\n        \"description\": \"\"\n      }\n    },\n    {\n      \"column\": \"Outlet_Identifier\",\n      \"properties\": {\n        \"dtype\": \"number\",\n        \"std\": 2,\n        \"min\": 0,\n        \"max\": 9,\n        \"samples\": [\n          6,\n          3,\n          7\n        ],\n        \"num_unique_values\": 10,\n        \"semantic_type\": \"\",\n        \"description\": \"\"\n      }\n    },\n    {\n      \"column\": \"Outlet_Establishment_Year\",\n      \"properties\": {\n        \"dtype\": \"number\",\n        \"std\": 8,\n        \"min\": 1985,\n        \"max\": 2009,\n        \"samples\": [\n          1997,\n          2009,\n          2002\n        ],\n        \"num_unique_values\": 9,\n        \"semantic_type\": \"\",\n        \"description\": \"\"\n      }\n    },\n    {\n      \"column\": \"Outlet_Size\",\n      \"properties\": {\n        \"dtype\": \"number\",\n        \"std\": 0,\n        \"min\": 0,\n        \"max\": 2,\n        \"samples\": [\n          1,\n          2,\n          0\n        ],\n        \"num_unique_values\": 3,\n        \"semantic_type\": \"\",\n        \"description\": \"\"\n      }\n    },\n    {\n      \"column\": \"Outlet_Location_Type\",\n      \"properties\": {\n        \"dtype\": \"number\",\n        \"std\": 0,\n        \"min\": 0,\n        \"max\": 2,\n        \"samples\": [\n          0,\n          2,\n          1\n        ],\n        \"num_unique_values\": 3,\n        \"semantic_type\": \"\",\n        \"description\": \"\"\n      }\n    },\n    {\n      \"column\": \"Outlet_Type\",\n      \"properties\": {\n        \"dtype\": \"number\",\n        \"std\": 0,\n        \"min\": 0,\n        \"max\": 3,\n        \"samples\": [\n          2,\n          3,\n          1\n        ],\n        \"num_unique_values\": 4,\n        \"semantic_type\": \"\",\n        \"description\": \"\"\n      }\n    }\n  ]\n}"
            }
          },
          "metadata": {},
          "execution_count": 63
        }
      ]
    },
    {
      "cell_type": "code",
      "source": [
        "Y"
      ],
      "metadata": {
        "colab": {
          "base_uri": "https://localhost:8080/"
        },
        "id": "lQnmaq0YbuBQ",
        "outputId": "87975234-609c-4c2f-f48f-55a7b502e7d8"
      },
      "execution_count": 64,
      "outputs": [
        {
          "output_type": "execute_result",
          "data": {
            "text/plain": [
              "0       3735.1380\n",
              "1        443.4228\n",
              "2       2097.2700\n",
              "3        732.3800\n",
              "4        994.7052\n",
              "          ...    \n",
              "8518    2778.3834\n",
              "8519     549.2850\n",
              "8520    1193.1136\n",
              "8521    1845.5976\n",
              "8522     765.6700\n",
              "Name: Item_Outlet_Sales, Length: 8523, dtype: float64"
            ]
          },
          "metadata": {},
          "execution_count": 64
        }
      ]
    },
    {
      "cell_type": "markdown",
      "source": [
        "Splitting Data into Training and Testing Data"
      ],
      "metadata": {
        "id": "jFSQtezCb0z_"
      }
    },
    {
      "cell_type": "code",
      "source": [
        "X_train,X_test,Y_train,Y_test=train_test_split(X,Y,test_size=0.2,random_state=2)"
      ],
      "metadata": {
        "id": "cxS9u314b7e4"
      },
      "execution_count": 65,
      "outputs": []
    },
    {
      "cell_type": "code",
      "source": [
        "X_train, X_val, y_train, y_val = train_test_split(X, Y, test_size=0.2, random_state=42)\n"
      ],
      "metadata": {
        "id": "vrSmUNfDh8qM"
      },
      "execution_count": 111,
      "outputs": []
    },
    {
      "cell_type": "code",
      "source": [
        "print(X_train.shape,X_test.shape)  80/20 train & data size"
      ],
      "metadata": {
        "colab": {
          "base_uri": "https://localhost:8080/"
        },
        "id": "fBau0RjIb8KN",
        "outputId": "9b4312fe-8e7b-4413-c09b-e30e793a16d7"
      },
      "execution_count": 66,
      "outputs": [
        {
          "output_type": "stream",
          "name": "stdout",
          "text": [
            "(6818, 11) (1705, 11)\n"
          ]
        }
      ]
    },
    {
      "cell_type": "markdown",
      "source": [
        "Model Training and Evaluation-XGBoost Regressor"
      ],
      "metadata": {
        "id": "7WT8FSimcBmU"
      }
    },
    {
      "cell_type": "code",
      "source": [
        "model=XGBRegressor()\n",
        "!pip install scikit-learn\n"
      ],
      "metadata": {
        "colab": {
          "base_uri": "https://localhost:8080/"
        },
        "id": "H9cU0T_TcEic",
        "outputId": "3ec8ab29-a651-4c84-8aeb-2ff3f75e57cc"
      },
      "execution_count": 95,
      "outputs": [
        {
          "output_type": "stream",
          "name": "stdout",
          "text": [
            "Requirement already satisfied: scikit-learn in /usr/local/lib/python3.10/dist-packages (1.2.2)\n",
            "Requirement already satisfied: numpy>=1.17.3 in /usr/local/lib/python3.10/dist-packages (from scikit-learn) (1.25.2)\n",
            "Requirement already satisfied: scipy>=1.3.2 in /usr/local/lib/python3.10/dist-packages (from scikit-learn) (1.11.4)\n",
            "Requirement already satisfied: joblib>=1.1.1 in /usr/local/lib/python3.10/dist-packages (from scikit-learn) (1.3.2)\n",
            "Requirement already satisfied: threadpoolctl>=2.0.0 in /usr/local/lib/python3.10/dist-packages (from scikit-learn) (3.2.0)\n"
          ]
        }
      ]
    },
    {
      "cell_type": "code",
      "source": [
        "from sklearn.model_selection import GridSearchCV"
      ],
      "metadata": {
        "id": "iRi_bmIZdRc6"
      },
      "execution_count": 115,
      "outputs": []
    },
    {
      "cell_type": "code",
      "source": [
        "#Using GridSearchCV to finetune the model inoreder to increase accuracy\n",
        "model = XGBRegressor()\n",
        "\n",
        "param_grid = {\n",
        "    'learning_rate': [0.01, 0.1, 1],\n",
        "    'max_depth': [3, 5, 8],\n",
        "    'n_estimators': [100, 500, 1000],\n",
        "    'reg_alpha': [0.1, 1, 10]\n",
        "}\n",
        "\n",
        "# Fit the model using GridSearchCV\n",
        "grid_search = GridSearchCV(estimator=model, param_grid=param_grid, scoring='neg_mean_squared_error', cv=5, refit=True, verbose=2)\n",
        "grid_search.fit(X_train, y_train)\n",
        "\n",
        "# Access the best model and its parameters\n",
        "best_model = grid_search.best_estimator_\n",
        "best_params = grid_search.best_params_\n",
        "\n",
        "# Make predictions using the best model\n",
        "predictions = best_model.predict(X_test)\n",
        "\n",
        "# Evaluate model performance"
      ],
      "metadata": {
        "colab": {
          "base_uri": "https://localhost:8080/"
        },
        "id": "RQohtP1odgAI",
        "outputId": "189fa8a0-7f9b-4c00-db93-1558ddd5ee74"
      },
      "execution_count": 118,
      "outputs": [
        {
          "output_type": "stream",
          "name": "stdout",
          "text": [
            "Fitting 5 folds for each of 81 candidates, totalling 405 fits\n",
            "[CV] END learning_rate=0.01, max_depth=3, n_estimators=100, reg_alpha=0.1; total time=   0.4s\n",
            "[CV] END learning_rate=0.01, max_depth=3, n_estimators=100, reg_alpha=0.1; total time=   0.3s\n",
            "[CV] END learning_rate=0.01, max_depth=3, n_estimators=100, reg_alpha=0.1; total time=   0.2s\n",
            "[CV] END learning_rate=0.01, max_depth=3, n_estimators=100, reg_alpha=0.1; total time=   0.2s\n",
            "[CV] END learning_rate=0.01, max_depth=3, n_estimators=100, reg_alpha=0.1; total time=   0.2s\n",
            "[CV] END learning_rate=0.01, max_depth=3, n_estimators=100, reg_alpha=1; total time=   0.2s\n",
            "[CV] END learning_rate=0.01, max_depth=3, n_estimators=100, reg_alpha=1; total time=   0.2s\n",
            "[CV] END learning_rate=0.01, max_depth=3, n_estimators=100, reg_alpha=1; total time=   0.1s\n",
            "[CV] END learning_rate=0.01, max_depth=3, n_estimators=100, reg_alpha=1; total time=   0.1s\n",
            "[CV] END learning_rate=0.01, max_depth=3, n_estimators=100, reg_alpha=1; total time=   0.1s\n",
            "[CV] END learning_rate=0.01, max_depth=3, n_estimators=100, reg_alpha=10; total time=   0.1s\n",
            "[CV] END learning_rate=0.01, max_depth=3, n_estimators=100, reg_alpha=10; total time=   0.6s\n",
            "[CV] END learning_rate=0.01, max_depth=3, n_estimators=100, reg_alpha=10; total time=   0.8s\n",
            "[CV] END learning_rate=0.01, max_depth=3, n_estimators=100, reg_alpha=10; total time=   0.1s\n",
            "[CV] END learning_rate=0.01, max_depth=3, n_estimators=100, reg_alpha=10; total time=   0.1s\n",
            "[CV] END learning_rate=0.01, max_depth=3, n_estimators=500, reg_alpha=0.1; total time=   0.3s\n",
            "[CV] END learning_rate=0.01, max_depth=3, n_estimators=500, reg_alpha=0.1; total time=   0.3s\n",
            "[CV] END learning_rate=0.01, max_depth=3, n_estimators=500, reg_alpha=0.1; total time=   0.4s\n",
            "[CV] END learning_rate=0.01, max_depth=3, n_estimators=500, reg_alpha=0.1; total time=   0.3s\n",
            "[CV] END learning_rate=0.01, max_depth=3, n_estimators=500, reg_alpha=0.1; total time=   0.3s\n",
            "[CV] END learning_rate=0.01, max_depth=3, n_estimators=500, reg_alpha=1; total time=   0.4s\n",
            "[CV] END learning_rate=0.01, max_depth=3, n_estimators=500, reg_alpha=1; total time=   0.3s\n",
            "[CV] END learning_rate=0.01, max_depth=3, n_estimators=500, reg_alpha=1; total time=   0.3s\n",
            "[CV] END learning_rate=0.01, max_depth=3, n_estimators=500, reg_alpha=1; total time=   0.4s\n",
            "[CV] END learning_rate=0.01, max_depth=3, n_estimators=500, reg_alpha=1; total time=   0.3s\n",
            "[CV] END learning_rate=0.01, max_depth=3, n_estimators=500, reg_alpha=10; total time=   0.3s\n",
            "[CV] END learning_rate=0.01, max_depth=3, n_estimators=500, reg_alpha=10; total time=   0.4s\n",
            "[CV] END learning_rate=0.01, max_depth=3, n_estimators=500, reg_alpha=10; total time=   0.3s\n",
            "[CV] END learning_rate=0.01, max_depth=3, n_estimators=500, reg_alpha=10; total time=   0.3s\n",
            "[CV] END learning_rate=0.01, max_depth=3, n_estimators=500, reg_alpha=10; total time=   0.5s\n",
            "[CV] END learning_rate=0.01, max_depth=3, n_estimators=1000, reg_alpha=0.1; total time=   2.7s\n",
            "[CV] END learning_rate=0.01, max_depth=3, n_estimators=1000, reg_alpha=0.1; total time=   1.1s\n",
            "[CV] END learning_rate=0.01, max_depth=3, n_estimators=1000, reg_alpha=0.1; total time=   0.6s\n",
            "[CV] END learning_rate=0.01, max_depth=3, n_estimators=1000, reg_alpha=0.1; total time=   0.6s\n",
            "[CV] END learning_rate=0.01, max_depth=3, n_estimators=1000, reg_alpha=0.1; total time=   0.6s\n",
            "[CV] END learning_rate=0.01, max_depth=3, n_estimators=1000, reg_alpha=1; total time=   0.7s\n",
            "[CV] END learning_rate=0.01, max_depth=3, n_estimators=1000, reg_alpha=1; total time=   0.6s\n",
            "[CV] END learning_rate=0.01, max_depth=3, n_estimators=1000, reg_alpha=1; total time=   0.6s\n",
            "[CV] END learning_rate=0.01, max_depth=3, n_estimators=1000, reg_alpha=1; total time=   0.6s\n",
            "[CV] END learning_rate=0.01, max_depth=3, n_estimators=1000, reg_alpha=1; total time=   0.6s\n",
            "[CV] END learning_rate=0.01, max_depth=3, n_estimators=1000, reg_alpha=10; total time=   0.6s\n",
            "[CV] END learning_rate=0.01, max_depth=3, n_estimators=1000, reg_alpha=10; total time=   0.6s\n",
            "[CV] END learning_rate=0.01, max_depth=3, n_estimators=1000, reg_alpha=10; total time=   0.6s\n",
            "[CV] END learning_rate=0.01, max_depth=3, n_estimators=1000, reg_alpha=10; total time=   0.6s\n",
            "[CV] END learning_rate=0.01, max_depth=3, n_estimators=1000, reg_alpha=10; total time=   0.6s\n",
            "[CV] END learning_rate=0.01, max_depth=5, n_estimators=100, reg_alpha=0.1; total time=   0.1s\n",
            "[CV] END learning_rate=0.01, max_depth=5, n_estimators=100, reg_alpha=0.1; total time=   0.2s\n",
            "[CV] END learning_rate=0.01, max_depth=5, n_estimators=100, reg_alpha=0.1; total time=   0.1s\n",
            "[CV] END learning_rate=0.01, max_depth=5, n_estimators=100, reg_alpha=0.1; total time=   0.2s\n",
            "[CV] END learning_rate=0.01, max_depth=5, n_estimators=100, reg_alpha=0.1; total time=   0.1s\n",
            "[CV] END learning_rate=0.01, max_depth=5, n_estimators=100, reg_alpha=1; total time=   0.2s\n",
            "[CV] END learning_rate=0.01, max_depth=5, n_estimators=100, reg_alpha=1; total time=   0.1s\n",
            "[CV] END learning_rate=0.01, max_depth=5, n_estimators=100, reg_alpha=1; total time=   0.1s\n",
            "[CV] END learning_rate=0.01, max_depth=5, n_estimators=100, reg_alpha=1; total time=   0.4s\n",
            "[CV] END learning_rate=0.01, max_depth=5, n_estimators=100, reg_alpha=1; total time=   0.6s\n",
            "[CV] END learning_rate=0.01, max_depth=5, n_estimators=100, reg_alpha=10; total time=   0.6s\n",
            "[CV] END learning_rate=0.01, max_depth=5, n_estimators=100, reg_alpha=10; total time=   0.6s\n",
            "[CV] END learning_rate=0.01, max_depth=5, n_estimators=100, reg_alpha=10; total time=   0.7s\n",
            "[CV] END learning_rate=0.01, max_depth=5, n_estimators=100, reg_alpha=10; total time=   0.3s\n",
            "[CV] END learning_rate=0.01, max_depth=5, n_estimators=100, reg_alpha=10; total time=   0.5s\n",
            "[CV] END learning_rate=0.01, max_depth=5, n_estimators=500, reg_alpha=0.1; total time=   0.7s\n",
            "[CV] END learning_rate=0.01, max_depth=5, n_estimators=500, reg_alpha=0.1; total time=   0.6s\n",
            "[CV] END learning_rate=0.01, max_depth=5, n_estimators=500, reg_alpha=0.1; total time=   0.7s\n",
            "[CV] END learning_rate=0.01, max_depth=5, n_estimators=500, reg_alpha=0.1; total time=   0.6s\n",
            "[CV] END learning_rate=0.01, max_depth=5, n_estimators=500, reg_alpha=0.1; total time=   0.6s\n",
            "[CV] END learning_rate=0.01, max_depth=5, n_estimators=500, reg_alpha=1; total time=   0.7s\n",
            "[CV] END learning_rate=0.01, max_depth=5, n_estimators=500, reg_alpha=1; total time=   0.6s\n",
            "[CV] END learning_rate=0.01, max_depth=5, n_estimators=500, reg_alpha=1; total time=   0.7s\n",
            "[CV] END learning_rate=0.01, max_depth=5, n_estimators=500, reg_alpha=1; total time=   0.7s\n",
            "[CV] END learning_rate=0.01, max_depth=5, n_estimators=500, reg_alpha=1; total time=   0.6s\n",
            "[CV] END learning_rate=0.01, max_depth=5, n_estimators=500, reg_alpha=10; total time=   0.7s\n",
            "[CV] END learning_rate=0.01, max_depth=5, n_estimators=500, reg_alpha=10; total time=   0.7s\n",
            "[CV] END learning_rate=0.01, max_depth=5, n_estimators=500, reg_alpha=10; total time=   0.6s\n",
            "[CV] END learning_rate=0.01, max_depth=5, n_estimators=500, reg_alpha=10; total time=   0.7s\n",
            "[CV] END learning_rate=0.01, max_depth=5, n_estimators=500, reg_alpha=10; total time=   0.6s\n",
            "[CV] END learning_rate=0.01, max_depth=5, n_estimators=1000, reg_alpha=0.1; total time=   3.9s\n",
            "[CV] END learning_rate=0.01, max_depth=5, n_estimators=1000, reg_alpha=0.1; total time=   1.2s\n",
            "[CV] END learning_rate=0.01, max_depth=5, n_estimators=1000, reg_alpha=0.1; total time=   1.3s\n",
            "[CV] END learning_rate=0.01, max_depth=5, n_estimators=1000, reg_alpha=0.1; total time=   1.2s\n",
            "[CV] END learning_rate=0.01, max_depth=5, n_estimators=1000, reg_alpha=0.1; total time=   1.2s\n",
            "[CV] END learning_rate=0.01, max_depth=5, n_estimators=1000, reg_alpha=1; total time=   1.2s\n",
            "[CV] END learning_rate=0.01, max_depth=5, n_estimators=1000, reg_alpha=1; total time=   1.2s\n",
            "[CV] END learning_rate=0.01, max_depth=5, n_estimators=1000, reg_alpha=1; total time=   1.3s\n",
            "[CV] END learning_rate=0.01, max_depth=5, n_estimators=1000, reg_alpha=1; total time=   1.3s\n",
            "[CV] END learning_rate=0.01, max_depth=5, n_estimators=1000, reg_alpha=1; total time=   4.0s\n",
            "[CV] END learning_rate=0.01, max_depth=5, n_estimators=1000, reg_alpha=10; total time=   1.2s\n",
            "[CV] END learning_rate=0.01, max_depth=5, n_estimators=1000, reg_alpha=10; total time=   1.2s\n",
            "[CV] END learning_rate=0.01, max_depth=5, n_estimators=1000, reg_alpha=10; total time=   1.2s\n",
            "[CV] END learning_rate=0.01, max_depth=5, n_estimators=1000, reg_alpha=10; total time=   1.2s\n",
            "[CV] END learning_rate=0.01, max_depth=5, n_estimators=1000, reg_alpha=10; total time=   1.3s\n",
            "[CV] END learning_rate=0.01, max_depth=8, n_estimators=100, reg_alpha=0.1; total time=   0.4s\n",
            "[CV] END learning_rate=0.01, max_depth=8, n_estimators=100, reg_alpha=0.1; total time=   0.4s\n",
            "[CV] END learning_rate=0.01, max_depth=8, n_estimators=100, reg_alpha=0.1; total time=   0.4s\n",
            "[CV] END learning_rate=0.01, max_depth=8, n_estimators=100, reg_alpha=0.1; total time=   0.4s\n",
            "[CV] END learning_rate=0.01, max_depth=8, n_estimators=100, reg_alpha=0.1; total time=   0.4s\n",
            "[CV] END learning_rate=0.01, max_depth=8, n_estimators=100, reg_alpha=1; total time=   0.4s\n",
            "[CV] END learning_rate=0.01, max_depth=8, n_estimators=100, reg_alpha=1; total time=   0.4s\n",
            "[CV] END learning_rate=0.01, max_depth=8, n_estimators=100, reg_alpha=1; total time=   0.4s\n",
            "[CV] END learning_rate=0.01, max_depth=8, n_estimators=100, reg_alpha=1; total time=   0.6s\n",
            "[CV] END learning_rate=0.01, max_depth=8, n_estimators=100, reg_alpha=1; total time=   1.8s\n",
            "[CV] END learning_rate=0.01, max_depth=8, n_estimators=100, reg_alpha=10; total time=   1.5s\n",
            "[CV] END learning_rate=0.01, max_depth=8, n_estimators=100, reg_alpha=10; total time=   0.4s\n",
            "[CV] END learning_rate=0.01, max_depth=8, n_estimators=100, reg_alpha=10; total time=   0.4s\n",
            "[CV] END learning_rate=0.01, max_depth=8, n_estimators=100, reg_alpha=10; total time=   0.4s\n",
            "[CV] END learning_rate=0.01, max_depth=8, n_estimators=100, reg_alpha=10; total time=   0.4s\n",
            "[CV] END learning_rate=0.01, max_depth=8, n_estimators=500, reg_alpha=0.1; total time=   2.1s\n",
            "[CV] END learning_rate=0.01, max_depth=8, n_estimators=500, reg_alpha=0.1; total time=   2.2s\n",
            "[CV] END learning_rate=0.01, max_depth=8, n_estimators=500, reg_alpha=0.1; total time=   2.2s\n",
            "[CV] END learning_rate=0.01, max_depth=8, n_estimators=500, reg_alpha=0.1; total time=   3.2s\n",
            "[CV] END learning_rate=0.01, max_depth=8, n_estimators=500, reg_alpha=0.1; total time=   3.7s\n",
            "[CV] END learning_rate=0.01, max_depth=8, n_estimators=500, reg_alpha=1; total time=   2.1s\n",
            "[CV] END learning_rate=0.01, max_depth=8, n_estimators=500, reg_alpha=1; total time=   2.1s\n",
            "[CV] END learning_rate=0.01, max_depth=8, n_estimators=500, reg_alpha=1; total time=   2.1s\n",
            "[CV] END learning_rate=0.01, max_depth=8, n_estimators=500, reg_alpha=1; total time=   2.2s\n",
            "[CV] END learning_rate=0.01, max_depth=8, n_estimators=500, reg_alpha=1; total time=   4.6s\n",
            "[CV] END learning_rate=0.01, max_depth=8, n_estimators=500, reg_alpha=10; total time=   2.1s\n",
            "[CV] END learning_rate=0.01, max_depth=8, n_estimators=500, reg_alpha=10; total time=   2.1s\n",
            "[CV] END learning_rate=0.01, max_depth=8, n_estimators=500, reg_alpha=10; total time=   2.1s\n",
            "[CV] END learning_rate=0.01, max_depth=8, n_estimators=500, reg_alpha=10; total time=   2.2s\n",
            "[CV] END learning_rate=0.01, max_depth=8, n_estimators=500, reg_alpha=10; total time=   4.7s\n",
            "[CV] END learning_rate=0.01, max_depth=8, n_estimators=1000, reg_alpha=0.1; total time=   4.1s\n",
            "[CV] END learning_rate=0.01, max_depth=8, n_estimators=1000, reg_alpha=0.1; total time=   4.1s\n",
            "[CV] END learning_rate=0.01, max_depth=8, n_estimators=1000, reg_alpha=0.1; total time=   6.9s\n",
            "[CV] END learning_rate=0.01, max_depth=8, n_estimators=1000, reg_alpha=0.1; total time=   4.0s\n",
            "[CV] END learning_rate=0.01, max_depth=8, n_estimators=1000, reg_alpha=0.1; total time=   6.3s\n",
            "[CV] END learning_rate=0.01, max_depth=8, n_estimators=1000, reg_alpha=1; total time=   4.5s\n",
            "[CV] END learning_rate=0.01, max_depth=8, n_estimators=1000, reg_alpha=1; total time=   4.0s\n",
            "[CV] END learning_rate=0.01, max_depth=8, n_estimators=1000, reg_alpha=1; total time=   6.9s\n",
            "[CV] END learning_rate=0.01, max_depth=8, n_estimators=1000, reg_alpha=1; total time=   4.1s\n",
            "[CV] END learning_rate=0.01, max_depth=8, n_estimators=1000, reg_alpha=1; total time=   4.1s\n",
            "[CV] END learning_rate=0.01, max_depth=8, n_estimators=1000, reg_alpha=10; total time=   6.7s\n",
            "[CV] END learning_rate=0.01, max_depth=8, n_estimators=1000, reg_alpha=10; total time=   4.0s\n",
            "[CV] END learning_rate=0.01, max_depth=8, n_estimators=1000, reg_alpha=10; total time=   6.3s\n",
            "[CV] END learning_rate=0.01, max_depth=8, n_estimators=1000, reg_alpha=10; total time=   4.6s\n",
            "[CV] END learning_rate=0.01, max_depth=8, n_estimators=1000, reg_alpha=10; total time=   4.1s\n",
            "[CV] END learning_rate=0.1, max_depth=3, n_estimators=100, reg_alpha=0.1; total time=   0.1s\n",
            "[CV] END learning_rate=0.1, max_depth=3, n_estimators=100, reg_alpha=0.1; total time=   0.1s\n",
            "[CV] END learning_rate=0.1, max_depth=3, n_estimators=100, reg_alpha=0.1; total time=   0.1s\n",
            "[CV] END learning_rate=0.1, max_depth=3, n_estimators=100, reg_alpha=0.1; total time=   0.1s\n",
            "[CV] END learning_rate=0.1, max_depth=3, n_estimators=100, reg_alpha=0.1; total time=   0.1s\n",
            "[CV] END learning_rate=0.1, max_depth=3, n_estimators=100, reg_alpha=1; total time=   0.1s\n",
            "[CV] END learning_rate=0.1, max_depth=3, n_estimators=100, reg_alpha=1; total time=   0.1s\n",
            "[CV] END learning_rate=0.1, max_depth=3, n_estimators=100, reg_alpha=1; total time=   0.1s\n",
            "[CV] END learning_rate=0.1, max_depth=3, n_estimators=100, reg_alpha=1; total time=   0.1s\n",
            "[CV] END learning_rate=0.1, max_depth=3, n_estimators=100, reg_alpha=1; total time=   0.1s\n",
            "[CV] END learning_rate=0.1, max_depth=3, n_estimators=100, reg_alpha=10; total time=   0.1s\n",
            "[CV] END learning_rate=0.1, max_depth=3, n_estimators=100, reg_alpha=10; total time=   0.1s\n",
            "[CV] END learning_rate=0.1, max_depth=3, n_estimators=100, reg_alpha=10; total time=   0.1s\n",
            "[CV] END learning_rate=0.1, max_depth=3, n_estimators=100, reg_alpha=10; total time=   0.1s\n",
            "[CV] END learning_rate=0.1, max_depth=3, n_estimators=100, reg_alpha=10; total time=   0.1s\n",
            "[CV] END learning_rate=0.1, max_depth=3, n_estimators=500, reg_alpha=0.1; total time=   0.3s\n",
            "[CV] END learning_rate=0.1, max_depth=3, n_estimators=500, reg_alpha=0.1; total time=   0.4s\n",
            "[CV] END learning_rate=0.1, max_depth=3, n_estimators=500, reg_alpha=0.1; total time=   1.3s\n",
            "[CV] END learning_rate=0.1, max_depth=3, n_estimators=500, reg_alpha=0.1; total time=   1.6s\n",
            "[CV] END learning_rate=0.1, max_depth=3, n_estimators=500, reg_alpha=0.1; total time=   0.7s\n",
            "[CV] END learning_rate=0.1, max_depth=3, n_estimators=500, reg_alpha=1; total time=   0.3s\n",
            "[CV] END learning_rate=0.1, max_depth=3, n_estimators=500, reg_alpha=1; total time=   0.3s\n",
            "[CV] END learning_rate=0.1, max_depth=3, n_estimators=500, reg_alpha=1; total time=   0.3s\n",
            "[CV] END learning_rate=0.1, max_depth=3, n_estimators=500, reg_alpha=1; total time=   0.3s\n",
            "[CV] END learning_rate=0.1, max_depth=3, n_estimators=500, reg_alpha=1; total time=   0.3s\n",
            "[CV] END learning_rate=0.1, max_depth=3, n_estimators=500, reg_alpha=10; total time=   0.3s\n",
            "[CV] END learning_rate=0.1, max_depth=3, n_estimators=500, reg_alpha=10; total time=   0.3s\n",
            "[CV] END learning_rate=0.1, max_depth=3, n_estimators=500, reg_alpha=10; total time=   0.4s\n",
            "[CV] END learning_rate=0.1, max_depth=3, n_estimators=500, reg_alpha=10; total time=   0.3s\n",
            "[CV] END learning_rate=0.1, max_depth=3, n_estimators=500, reg_alpha=10; total time=   0.3s\n",
            "[CV] END learning_rate=0.1, max_depth=3, n_estimators=1000, reg_alpha=0.1; total time=   0.7s\n",
            "[CV] END learning_rate=0.1, max_depth=3, n_estimators=1000, reg_alpha=0.1; total time=   0.6s\n",
            "[CV] END learning_rate=0.1, max_depth=3, n_estimators=1000, reg_alpha=0.1; total time=   0.6s\n",
            "[CV] END learning_rate=0.1, max_depth=3, n_estimators=1000, reg_alpha=0.1; total time=   0.6s\n",
            "[CV] END learning_rate=0.1, max_depth=3, n_estimators=1000, reg_alpha=0.1; total time=   0.6s\n",
            "[CV] END learning_rate=0.1, max_depth=3, n_estimators=1000, reg_alpha=1; total time=   0.6s\n",
            "[CV] END learning_rate=0.1, max_depth=3, n_estimators=1000, reg_alpha=1; total time=   0.6s\n",
            "[CV] END learning_rate=0.1, max_depth=3, n_estimators=1000, reg_alpha=1; total time=   0.6s\n",
            "[CV] END learning_rate=0.1, max_depth=3, n_estimators=1000, reg_alpha=1; total time=   0.6s\n",
            "[CV] END learning_rate=0.1, max_depth=3, n_estimators=1000, reg_alpha=1; total time=   0.6s\n",
            "[CV] END learning_rate=0.1, max_depth=3, n_estimators=1000, reg_alpha=10; total time=   2.4s\n",
            "[CV] END learning_rate=0.1, max_depth=3, n_estimators=1000, reg_alpha=10; total time=   1.4s\n",
            "[CV] END learning_rate=0.1, max_depth=3, n_estimators=1000, reg_alpha=10; total time=   0.7s\n",
            "[CV] END learning_rate=0.1, max_depth=3, n_estimators=1000, reg_alpha=10; total time=   0.6s\n",
            "[CV] END learning_rate=0.1, max_depth=3, n_estimators=1000, reg_alpha=10; total time=   0.6s\n",
            "[CV] END learning_rate=0.1, max_depth=5, n_estimators=100, reg_alpha=0.1; total time=   0.1s\n",
            "[CV] END learning_rate=0.1, max_depth=5, n_estimators=100, reg_alpha=0.1; total time=   0.2s\n",
            "[CV] END learning_rate=0.1, max_depth=5, n_estimators=100, reg_alpha=0.1; total time=   0.1s\n",
            "[CV] END learning_rate=0.1, max_depth=5, n_estimators=100, reg_alpha=0.1; total time=   0.2s\n",
            "[CV] END learning_rate=0.1, max_depth=5, n_estimators=100, reg_alpha=0.1; total time=   0.2s\n",
            "[CV] END learning_rate=0.1, max_depth=5, n_estimators=100, reg_alpha=1; total time=   0.2s\n",
            "[CV] END learning_rate=0.1, max_depth=5, n_estimators=100, reg_alpha=1; total time=   0.1s\n",
            "[CV] END learning_rate=0.1, max_depth=5, n_estimators=100, reg_alpha=1; total time=   0.2s\n",
            "[CV] END learning_rate=0.1, max_depth=5, n_estimators=100, reg_alpha=1; total time=   0.2s\n",
            "[CV] END learning_rate=0.1, max_depth=5, n_estimators=100, reg_alpha=1; total time=   0.2s\n",
            "[CV] END learning_rate=0.1, max_depth=5, n_estimators=100, reg_alpha=10; total time=   0.2s\n",
            "[CV] END learning_rate=0.1, max_depth=5, n_estimators=100, reg_alpha=10; total time=   0.1s\n",
            "[CV] END learning_rate=0.1, max_depth=5, n_estimators=100, reg_alpha=10; total time=   0.1s\n",
            "[CV] END learning_rate=0.1, max_depth=5, n_estimators=100, reg_alpha=10; total time=   0.2s\n",
            "[CV] END learning_rate=0.1, max_depth=5, n_estimators=100, reg_alpha=10; total time=   0.2s\n",
            "[CV] END learning_rate=0.1, max_depth=5, n_estimators=500, reg_alpha=0.1; total time=   0.7s\n",
            "[CV] END learning_rate=0.1, max_depth=5, n_estimators=500, reg_alpha=0.1; total time=   0.7s\n",
            "[CV] END learning_rate=0.1, max_depth=5, n_estimators=500, reg_alpha=0.1; total time=   0.6s\n",
            "[CV] END learning_rate=0.1, max_depth=5, n_estimators=500, reg_alpha=0.1; total time=   0.7s\n",
            "[CV] END learning_rate=0.1, max_depth=5, n_estimators=500, reg_alpha=0.1; total time=   0.6s\n",
            "[CV] END learning_rate=0.1, max_depth=5, n_estimators=500, reg_alpha=1; total time=   0.7s\n",
            "[CV] END learning_rate=0.1, max_depth=5, n_estimators=500, reg_alpha=1; total time=   0.7s\n",
            "[CV] END learning_rate=0.1, max_depth=5, n_estimators=500, reg_alpha=1; total time=   0.6s\n",
            "[CV] END learning_rate=0.1, max_depth=5, n_estimators=500, reg_alpha=1; total time=   2.2s\n",
            "[CV] END learning_rate=0.1, max_depth=5, n_estimators=500, reg_alpha=1; total time=   1.8s\n",
            "[CV] END learning_rate=0.1, max_depth=5, n_estimators=500, reg_alpha=10; total time=   0.7s\n",
            "[CV] END learning_rate=0.1, max_depth=5, n_estimators=500, reg_alpha=10; total time=   0.6s\n",
            "[CV] END learning_rate=0.1, max_depth=5, n_estimators=500, reg_alpha=10; total time=   0.7s\n",
            "[CV] END learning_rate=0.1, max_depth=5, n_estimators=500, reg_alpha=10; total time=   0.7s\n",
            "[CV] END learning_rate=0.1, max_depth=5, n_estimators=500, reg_alpha=10; total time=   0.6s\n",
            "[CV] END learning_rate=0.1, max_depth=5, n_estimators=1000, reg_alpha=0.1; total time=   1.3s\n",
            "[CV] END learning_rate=0.1, max_depth=5, n_estimators=1000, reg_alpha=0.1; total time=   1.3s\n",
            "[CV] END learning_rate=0.1, max_depth=5, n_estimators=1000, reg_alpha=0.1; total time=   1.3s\n",
            "[CV] END learning_rate=0.1, max_depth=5, n_estimators=1000, reg_alpha=0.1; total time=   1.3s\n",
            "[CV] END learning_rate=0.1, max_depth=5, n_estimators=1000, reg_alpha=0.1; total time=   1.3s\n",
            "[CV] END learning_rate=0.1, max_depth=5, n_estimators=1000, reg_alpha=1; total time=   4.0s\n",
            "[CV] END learning_rate=0.1, max_depth=5, n_estimators=1000, reg_alpha=1; total time=   1.3s\n",
            "[CV] END learning_rate=0.1, max_depth=5, n_estimators=1000, reg_alpha=1; total time=   1.3s\n",
            "[CV] END learning_rate=0.1, max_depth=5, n_estimators=1000, reg_alpha=1; total time=   1.3s\n",
            "[CV] END learning_rate=0.1, max_depth=5, n_estimators=1000, reg_alpha=1; total time=   1.3s\n",
            "[CV] END learning_rate=0.1, max_depth=5, n_estimators=1000, reg_alpha=10; total time=   1.3s\n",
            "[CV] END learning_rate=0.1, max_depth=5, n_estimators=1000, reg_alpha=10; total time=   1.3s\n",
            "[CV] END learning_rate=0.1, max_depth=5, n_estimators=1000, reg_alpha=10; total time=   1.3s\n",
            "[CV] END learning_rate=0.1, max_depth=5, n_estimators=1000, reg_alpha=10; total time=   2.4s\n",
            "[CV] END learning_rate=0.1, max_depth=5, n_estimators=1000, reg_alpha=10; total time=   2.8s\n",
            "[CV] END learning_rate=0.1, max_depth=8, n_estimators=100, reg_alpha=0.1; total time=   0.4s\n",
            "[CV] END learning_rate=0.1, max_depth=8, n_estimators=100, reg_alpha=0.1; total time=   0.4s\n",
            "[CV] END learning_rate=0.1, max_depth=8, n_estimators=100, reg_alpha=0.1; total time=   0.5s\n",
            "[CV] END learning_rate=0.1, max_depth=8, n_estimators=100, reg_alpha=0.1; total time=   0.4s\n",
            "[CV] END learning_rate=0.1, max_depth=8, n_estimators=100, reg_alpha=0.1; total time=   0.5s\n",
            "[CV] END learning_rate=0.1, max_depth=8, n_estimators=100, reg_alpha=1; total time=   0.4s\n",
            "[CV] END learning_rate=0.1, max_depth=8, n_estimators=100, reg_alpha=1; total time=   0.5s\n",
            "[CV] END learning_rate=0.1, max_depth=8, n_estimators=100, reg_alpha=1; total time=   0.5s\n",
            "[CV] END learning_rate=0.1, max_depth=8, n_estimators=100, reg_alpha=1; total time=   0.4s\n",
            "[CV] END learning_rate=0.1, max_depth=8, n_estimators=100, reg_alpha=1; total time=   0.5s\n",
            "[CV] END learning_rate=0.1, max_depth=8, n_estimators=100, reg_alpha=10; total time=   0.4s\n",
            "[CV] END learning_rate=0.1, max_depth=8, n_estimators=100, reg_alpha=10; total time=   0.5s\n",
            "[CV] END learning_rate=0.1, max_depth=8, n_estimators=100, reg_alpha=10; total time=   0.4s\n",
            "[CV] END learning_rate=0.1, max_depth=8, n_estimators=100, reg_alpha=10; total time=   0.5s\n",
            "[CV] END learning_rate=0.1, max_depth=8, n_estimators=100, reg_alpha=10; total time=   0.4s\n",
            "[CV] END learning_rate=0.1, max_depth=8, n_estimators=500, reg_alpha=0.1; total time=   2.0s\n",
            "[CV] END learning_rate=0.1, max_depth=8, n_estimators=500, reg_alpha=0.1; total time=   4.7s\n",
            "[CV] END learning_rate=0.1, max_depth=8, n_estimators=500, reg_alpha=0.1; total time=   2.1s\n",
            "[CV] END learning_rate=0.1, max_depth=8, n_estimators=500, reg_alpha=0.1; total time=   2.1s\n",
            "[CV] END learning_rate=0.1, max_depth=8, n_estimators=500, reg_alpha=0.1; total time=   2.0s\n",
            "[CV] END learning_rate=0.1, max_depth=8, n_estimators=500, reg_alpha=1; total time=   2.1s\n",
            "[CV] END learning_rate=0.1, max_depth=8, n_estimators=500, reg_alpha=1; total time=   4.6s\n",
            "[CV] END learning_rate=0.1, max_depth=8, n_estimators=500, reg_alpha=1; total time=   2.2s\n",
            "[CV] END learning_rate=0.1, max_depth=8, n_estimators=500, reg_alpha=1; total time=   2.0s\n",
            "[CV] END learning_rate=0.1, max_depth=8, n_estimators=500, reg_alpha=1; total time=   2.1s\n",
            "[CV] END learning_rate=0.1, max_depth=8, n_estimators=500, reg_alpha=10; total time=   2.1s\n",
            "[CV] END learning_rate=0.1, max_depth=8, n_estimators=500, reg_alpha=10; total time=   2.3s\n",
            "[CV] END learning_rate=0.1, max_depth=8, n_estimators=500, reg_alpha=10; total time=   4.5s\n",
            "[CV] END learning_rate=0.1, max_depth=8, n_estimators=500, reg_alpha=10; total time=   2.1s\n",
            "[CV] END learning_rate=0.1, max_depth=8, n_estimators=500, reg_alpha=10; total time=   2.0s\n",
            "[CV] END learning_rate=0.1, max_depth=8, n_estimators=1000, reg_alpha=0.1; total time=   4.0s\n",
            "[CV] END learning_rate=0.1, max_depth=8, n_estimators=1000, reg_alpha=0.1; total time=   6.8s\n",
            "[CV] END learning_rate=0.1, max_depth=8, n_estimators=1000, reg_alpha=0.1; total time=   4.2s\n",
            "[CV] END learning_rate=0.1, max_depth=8, n_estimators=1000, reg_alpha=0.1; total time=   6.8s\n",
            "[CV] END learning_rate=0.1, max_depth=8, n_estimators=1000, reg_alpha=0.1; total time=   4.1s\n",
            "[CV] END learning_rate=0.1, max_depth=8, n_estimators=1000, reg_alpha=1; total time=   4.1s\n",
            "[CV] END learning_rate=0.1, max_depth=8, n_estimators=1000, reg_alpha=1; total time=   6.8s\n",
            "[CV] END learning_rate=0.1, max_depth=8, n_estimators=1000, reg_alpha=1; total time=   4.1s\n",
            "[CV] END learning_rate=0.1, max_depth=8, n_estimators=1000, reg_alpha=1; total time=   4.1s\n",
            "[CV] END learning_rate=0.1, max_depth=8, n_estimators=1000, reg_alpha=1; total time=   6.7s\n",
            "[CV] END learning_rate=0.1, max_depth=8, n_estimators=1000, reg_alpha=10; total time=   4.2s\n",
            "[CV] END learning_rate=0.1, max_depth=8, n_estimators=1000, reg_alpha=10; total time=   6.7s\n",
            "[CV] END learning_rate=0.1, max_depth=8, n_estimators=1000, reg_alpha=10; total time=   4.1s\n",
            "[CV] END learning_rate=0.1, max_depth=8, n_estimators=1000, reg_alpha=10; total time=   4.2s\n",
            "[CV] END learning_rate=0.1, max_depth=8, n_estimators=1000, reg_alpha=10; total time=   6.8s\n",
            "[CV] END learning_rate=1, max_depth=3, n_estimators=100, reg_alpha=0.1; total time=   0.1s\n",
            "[CV] END learning_rate=1, max_depth=3, n_estimators=100, reg_alpha=0.1; total time=   0.1s\n",
            "[CV] END learning_rate=1, max_depth=3, n_estimators=100, reg_alpha=0.1; total time=   0.1s\n",
            "[CV] END learning_rate=1, max_depth=3, n_estimators=100, reg_alpha=0.1; total time=   0.1s\n",
            "[CV] END learning_rate=1, max_depth=3, n_estimators=100, reg_alpha=0.1; total time=   0.1s\n",
            "[CV] END learning_rate=1, max_depth=3, n_estimators=100, reg_alpha=1; total time=   0.1s\n",
            "[CV] END learning_rate=1, max_depth=3, n_estimators=100, reg_alpha=1; total time=   0.1s\n",
            "[CV] END learning_rate=1, max_depth=3, n_estimators=100, reg_alpha=1; total time=   0.1s\n",
            "[CV] END learning_rate=1, max_depth=3, n_estimators=100, reg_alpha=1; total time=   0.1s\n",
            "[CV] END learning_rate=1, max_depth=3, n_estimators=100, reg_alpha=1; total time=   0.1s\n",
            "[CV] END learning_rate=1, max_depth=3, n_estimators=100, reg_alpha=10; total time=   0.1s\n",
            "[CV] END learning_rate=1, max_depth=3, n_estimators=100, reg_alpha=10; total time=   0.1s\n",
            "[CV] END learning_rate=1, max_depth=3, n_estimators=100, reg_alpha=10; total time=   0.1s\n",
            "[CV] END learning_rate=1, max_depth=3, n_estimators=100, reg_alpha=10; total time=   0.1s\n",
            "[CV] END learning_rate=1, max_depth=3, n_estimators=100, reg_alpha=10; total time=   0.1s\n",
            "[CV] END learning_rate=1, max_depth=3, n_estimators=500, reg_alpha=0.1; total time=   0.3s\n",
            "[CV] END learning_rate=1, max_depth=3, n_estimators=500, reg_alpha=0.1; total time=   0.3s\n",
            "[CV] END learning_rate=1, max_depth=3, n_estimators=500, reg_alpha=0.1; total time=   0.4s\n",
            "[CV] END learning_rate=1, max_depth=3, n_estimators=500, reg_alpha=0.1; total time=   0.3s\n",
            "[CV] END learning_rate=1, max_depth=3, n_estimators=500, reg_alpha=0.1; total time=   0.3s\n",
            "[CV] END learning_rate=1, max_depth=3, n_estimators=500, reg_alpha=1; total time=   0.4s\n",
            "[CV] END learning_rate=1, max_depth=3, n_estimators=500, reg_alpha=1; total time=   0.3s\n",
            "[CV] END learning_rate=1, max_depth=3, n_estimators=500, reg_alpha=1; total time=   0.3s\n",
            "[CV] END learning_rate=1, max_depth=3, n_estimators=500, reg_alpha=1; total time=   0.4s\n",
            "[CV] END learning_rate=1, max_depth=3, n_estimators=500, reg_alpha=1; total time=   0.3s\n",
            "[CV] END learning_rate=1, max_depth=3, n_estimators=500, reg_alpha=10; total time=   0.3s\n",
            "[CV] END learning_rate=1, max_depth=3, n_estimators=500, reg_alpha=10; total time=   0.4s\n",
            "[CV] END learning_rate=1, max_depth=3, n_estimators=500, reg_alpha=10; total time=   0.3s\n",
            "[CV] END learning_rate=1, max_depth=3, n_estimators=500, reg_alpha=10; total time=   0.3s\n",
            "[CV] END learning_rate=1, max_depth=3, n_estimators=500, reg_alpha=10; total time=   0.4s\n",
            "[CV] END learning_rate=1, max_depth=3, n_estimators=1000, reg_alpha=0.1; total time=   0.7s\n",
            "[CV] END learning_rate=1, max_depth=3, n_estimators=1000, reg_alpha=0.1; total time=   0.8s\n",
            "[CV] END learning_rate=1, max_depth=3, n_estimators=1000, reg_alpha=0.1; total time=   2.7s\n",
            "[CV] END learning_rate=1, max_depth=3, n_estimators=1000, reg_alpha=0.1; total time=   1.1s\n",
            "[CV] END learning_rate=1, max_depth=3, n_estimators=1000, reg_alpha=0.1; total time=   0.6s\n",
            "[CV] END learning_rate=1, max_depth=3, n_estimators=1000, reg_alpha=1; total time=   0.6s\n",
            "[CV] END learning_rate=1, max_depth=3, n_estimators=1000, reg_alpha=1; total time=   0.6s\n",
            "[CV] END learning_rate=1, max_depth=3, n_estimators=1000, reg_alpha=1; total time=   0.6s\n",
            "[CV] END learning_rate=1, max_depth=3, n_estimators=1000, reg_alpha=1; total time=   0.6s\n",
            "[CV] END learning_rate=1, max_depth=3, n_estimators=1000, reg_alpha=1; total time=   0.6s\n",
            "[CV] END learning_rate=1, max_depth=3, n_estimators=1000, reg_alpha=10; total time=   0.6s\n",
            "[CV] END learning_rate=1, max_depth=3, n_estimators=1000, reg_alpha=10; total time=   0.7s\n",
            "[CV] END learning_rate=1, max_depth=3, n_estimators=1000, reg_alpha=10; total time=   0.6s\n",
            "[CV] END learning_rate=1, max_depth=3, n_estimators=1000, reg_alpha=10; total time=   0.7s\n",
            "[CV] END learning_rate=1, max_depth=3, n_estimators=1000, reg_alpha=10; total time=   0.6s\n",
            "[CV] END learning_rate=1, max_depth=5, n_estimators=100, reg_alpha=0.1; total time=   0.2s\n",
            "[CV] END learning_rate=1, max_depth=5, n_estimators=100, reg_alpha=0.1; total time=   0.1s\n",
            "[CV] END learning_rate=1, max_depth=5, n_estimators=100, reg_alpha=0.1; total time=   0.1s\n",
            "[CV] END learning_rate=1, max_depth=5, n_estimators=100, reg_alpha=0.1; total time=   0.2s\n",
            "[CV] END learning_rate=1, max_depth=5, n_estimators=100, reg_alpha=0.1; total time=   0.1s\n",
            "[CV] END learning_rate=1, max_depth=5, n_estimators=100, reg_alpha=1; total time=   0.2s\n",
            "[CV] END learning_rate=1, max_depth=5, n_estimators=100, reg_alpha=1; total time=   0.1s\n",
            "[CV] END learning_rate=1, max_depth=5, n_estimators=100, reg_alpha=1; total time=   0.2s\n",
            "[CV] END learning_rate=1, max_depth=5, n_estimators=100, reg_alpha=1; total time=   0.1s\n",
            "[CV] END learning_rate=1, max_depth=5, n_estimators=100, reg_alpha=1; total time=   0.2s\n",
            "[CV] END learning_rate=1, max_depth=5, n_estimators=100, reg_alpha=10; total time=   0.1s\n",
            "[CV] END learning_rate=1, max_depth=5, n_estimators=100, reg_alpha=10; total time=   0.2s\n",
            "[CV] END learning_rate=1, max_depth=5, n_estimators=100, reg_alpha=10; total time=   0.2s\n",
            "[CV] END learning_rate=1, max_depth=5, n_estimators=100, reg_alpha=10; total time=   0.2s\n",
            "[CV] END learning_rate=1, max_depth=5, n_estimators=100, reg_alpha=10; total time=   0.2s\n",
            "[CV] END learning_rate=1, max_depth=5, n_estimators=500, reg_alpha=0.1; total time=   2.8s\n",
            "[CV] END learning_rate=1, max_depth=5, n_estimators=500, reg_alpha=0.1; total time=   1.2s\n",
            "[CV] END learning_rate=1, max_depth=5, n_estimators=500, reg_alpha=0.1; total time=   0.7s\n",
            "[CV] END learning_rate=1, max_depth=5, n_estimators=500, reg_alpha=0.1; total time=   0.7s\n",
            "[CV] END learning_rate=1, max_depth=5, n_estimators=500, reg_alpha=0.1; total time=   0.7s\n",
            "[CV] END learning_rate=1, max_depth=5, n_estimators=500, reg_alpha=1; total time=   0.7s\n",
            "[CV] END learning_rate=1, max_depth=5, n_estimators=500, reg_alpha=1; total time=   0.7s\n",
            "[CV] END learning_rate=1, max_depth=5, n_estimators=500, reg_alpha=1; total time=   0.7s\n",
            "[CV] END learning_rate=1, max_depth=5, n_estimators=500, reg_alpha=1; total time=   0.7s\n",
            "[CV] END learning_rate=1, max_depth=5, n_estimators=500, reg_alpha=1; total time=   0.7s\n",
            "[CV] END learning_rate=1, max_depth=5, n_estimators=500, reg_alpha=10; total time=   0.7s\n",
            "[CV] END learning_rate=1, max_depth=5, n_estimators=500, reg_alpha=10; total time=   0.7s\n",
            "[CV] END learning_rate=1, max_depth=5, n_estimators=500, reg_alpha=10; total time=   0.7s\n",
            "[CV] END learning_rate=1, max_depth=5, n_estimators=500, reg_alpha=10; total time=   0.6s\n",
            "[CV] END learning_rate=1, max_depth=5, n_estimators=500, reg_alpha=10; total time=   0.7s\n",
            "[CV] END learning_rate=1, max_depth=5, n_estimators=1000, reg_alpha=0.1; total time=   3.4s\n",
            "[CV] END learning_rate=1, max_depth=5, n_estimators=1000, reg_alpha=0.1; total time=   1.9s\n",
            "[CV] END learning_rate=1, max_depth=5, n_estimators=1000, reg_alpha=0.1; total time=   1.3s\n",
            "[CV] END learning_rate=1, max_depth=5, n_estimators=1000, reg_alpha=0.1; total time=   1.3s\n",
            "[CV] END learning_rate=1, max_depth=5, n_estimators=1000, reg_alpha=0.1; total time=   1.3s\n",
            "[CV] END learning_rate=1, max_depth=5, n_estimators=1000, reg_alpha=1; total time=   1.3s\n",
            "[CV] END learning_rate=1, max_depth=5, n_estimators=1000, reg_alpha=1; total time=   1.3s\n",
            "[CV] END learning_rate=1, max_depth=5, n_estimators=1000, reg_alpha=1; total time=   1.3s\n",
            "[CV] END learning_rate=1, max_depth=5, n_estimators=1000, reg_alpha=1; total time=   1.7s\n",
            "[CV] END learning_rate=1, max_depth=5, n_estimators=1000, reg_alpha=1; total time=   3.6s\n",
            "[CV] END learning_rate=1, max_depth=5, n_estimators=1000, reg_alpha=10; total time=   1.3s\n",
            "[CV] END learning_rate=1, max_depth=5, n_estimators=1000, reg_alpha=10; total time=   1.3s\n",
            "[CV] END learning_rate=1, max_depth=5, n_estimators=1000, reg_alpha=10; total time=   1.4s\n",
            "[CV] END learning_rate=1, max_depth=5, n_estimators=1000, reg_alpha=10; total time=   1.3s\n",
            "[CV] END learning_rate=1, max_depth=5, n_estimators=1000, reg_alpha=10; total time=   1.3s\n",
            "[CV] END learning_rate=1, max_depth=8, n_estimators=100, reg_alpha=0.1; total time=   0.5s\n",
            "[CV] END learning_rate=1, max_depth=8, n_estimators=100, reg_alpha=0.1; total time=   0.5s\n",
            "[CV] END learning_rate=1, max_depth=8, n_estimators=100, reg_alpha=0.1; total time=   0.5s\n",
            "[CV] END learning_rate=1, max_depth=8, n_estimators=100, reg_alpha=0.1; total time=   0.5s\n",
            "[CV] END learning_rate=1, max_depth=8, n_estimators=100, reg_alpha=0.1; total time=   0.5s\n",
            "[CV] END learning_rate=1, max_depth=8, n_estimators=100, reg_alpha=1; total time=   1.3s\n",
            "[CV] END learning_rate=1, max_depth=8, n_estimators=100, reg_alpha=1; total time=   1.9s\n",
            "[CV] END learning_rate=1, max_depth=8, n_estimators=100, reg_alpha=1; total time=   0.9s\n",
            "[CV] END learning_rate=1, max_depth=8, n_estimators=100, reg_alpha=1; total time=   0.5s\n",
            "[CV] END learning_rate=1, max_depth=8, n_estimators=100, reg_alpha=1; total time=   0.5s\n",
            "[CV] END learning_rate=1, max_depth=8, n_estimators=100, reg_alpha=10; total time=   0.5s\n",
            "[CV] END learning_rate=1, max_depth=8, n_estimators=100, reg_alpha=10; total time=   0.5s\n",
            "[CV] END learning_rate=1, max_depth=8, n_estimators=100, reg_alpha=10; total time=   0.5s\n",
            "[CV] END learning_rate=1, max_depth=8, n_estimators=100, reg_alpha=10; total time=   0.5s\n",
            "[CV] END learning_rate=1, max_depth=8, n_estimators=100, reg_alpha=10; total time=   0.5s\n",
            "[CV] END learning_rate=1, max_depth=8, n_estimators=500, reg_alpha=0.1; total time=   1.8s\n",
            "[CV] END learning_rate=1, max_depth=8, n_estimators=500, reg_alpha=0.1; total time=   1.8s\n",
            "[CV] END learning_rate=1, max_depth=8, n_estimators=500, reg_alpha=0.1; total time=   1.8s\n",
            "[CV] END learning_rate=1, max_depth=8, n_estimators=500, reg_alpha=0.1; total time=   4.4s\n",
            "[CV] END learning_rate=1, max_depth=8, n_estimators=500, reg_alpha=0.1; total time=   1.8s\n",
            "[CV] END learning_rate=1, max_depth=8, n_estimators=500, reg_alpha=1; total time=   1.6s\n",
            "[CV] END learning_rate=1, max_depth=8, n_estimators=500, reg_alpha=1; total time=   1.7s\n",
            "[CV] END learning_rate=1, max_depth=8, n_estimators=500, reg_alpha=1; total time=   1.7s\n",
            "[CV] END learning_rate=1, max_depth=8, n_estimators=500, reg_alpha=1; total time=   1.6s\n",
            "[CV] END learning_rate=1, max_depth=8, n_estimators=500, reg_alpha=1; total time=   2.5s\n",
            "[CV] END learning_rate=1, max_depth=8, n_estimators=500, reg_alpha=10; total time=   3.2s\n",
            "[CV] END learning_rate=1, max_depth=8, n_estimators=500, reg_alpha=10; total time=   1.3s\n",
            "[CV] END learning_rate=1, max_depth=8, n_estimators=500, reg_alpha=10; total time=   1.4s\n",
            "[CV] END learning_rate=1, max_depth=8, n_estimators=500, reg_alpha=10; total time=   1.4s\n",
            "[CV] END learning_rate=1, max_depth=8, n_estimators=500, reg_alpha=10; total time=   1.3s\n",
            "[CV] END learning_rate=1, max_depth=8, n_estimators=1000, reg_alpha=0.1; total time=   1.9s\n",
            "[CV] END learning_rate=1, max_depth=8, n_estimators=1000, reg_alpha=0.1; total time=   1.9s\n",
            "[CV] END learning_rate=1, max_depth=8, n_estimators=1000, reg_alpha=0.1; total time=   4.6s\n",
            "[CV] END learning_rate=1, max_depth=8, n_estimators=1000, reg_alpha=0.1; total time=   1.9s\n",
            "[CV] END learning_rate=1, max_depth=8, n_estimators=1000, reg_alpha=0.1; total time=   1.8s\n",
            "[CV] END learning_rate=1, max_depth=8, n_estimators=1000, reg_alpha=1; total time=   1.8s\n",
            "[CV] END learning_rate=1, max_depth=8, n_estimators=1000, reg_alpha=1; total time=   1.8s\n",
            "[CV] END learning_rate=1, max_depth=8, n_estimators=1000, reg_alpha=1; total time=   1.8s\n",
            "[CV] END learning_rate=1, max_depth=8, n_estimators=1000, reg_alpha=1; total time=   4.4s\n",
            "[CV] END learning_rate=1, max_depth=8, n_estimators=1000, reg_alpha=1; total time=   1.7s\n",
            "[CV] END learning_rate=1, max_depth=8, n_estimators=1000, reg_alpha=10; total time=   1.5s\n",
            "[CV] END learning_rate=1, max_depth=8, n_estimators=1000, reg_alpha=10; total time=   1.4s\n",
            "[CV] END learning_rate=1, max_depth=8, n_estimators=1000, reg_alpha=10; total time=   1.5s\n",
            "[CV] END learning_rate=1, max_depth=8, n_estimators=1000, reg_alpha=10; total time=   1.5s\n",
            "[CV] END learning_rate=1, max_depth=8, n_estimators=1000, reg_alpha=10; total time=   1.5s\n"
          ]
        }
      ]
    },
    {
      "cell_type": "code",
      "source": [
        "from sklearn.metrics import mean_squared_error\n",
        "\n",
        "mse = mean_squared_error(Y_test, predictions)\n",
        "print(\"Mean Squared Error:\", mse)\n"
      ],
      "metadata": {
        "colab": {
          "base_uri": "https://localhost:8080/"
        },
        "id": "YdsbDW6rpTUn",
        "outputId": "a97308da-e1ec-43a0-c601-d73a2c42d1d1"
      },
      "execution_count": 120,
      "outputs": [
        {
          "output_type": "stream",
          "name": "stdout",
          "text": [
            "Mean Squared Error: 1177404.4525110638\n"
          ]
        }
      ]
    },
    {
      "cell_type": "code",
      "source": [
        "from math import sqrt\n",
        "\n",
        "rmse = sqrt(mse)\n",
        "print(\"Root Mean Squared Error:\", rmse)\n"
      ],
      "metadata": {
        "colab": {
          "base_uri": "https://localhost:8080/"
        },
        "id": "2VQyRnNEpO9_",
        "outputId": "9fb5ed2c-80fd-4dcb-f5f2-68259f5b9996"
      },
      "execution_count": 121,
      "outputs": [
        {
          "output_type": "stream",
          "name": "stdout",
          "text": [
            "Root Mean Squared Error: 1085.0826938584285\n"
          ]
        }
      ]
    },
    {
      "cell_type": "code",
      "source": [
        "from sklearn.metrics import r2_score\n",
        "\n",
        "r2 = r2_score(Y_test, predictions)\n",
        "print(\"R-squared:\", r2)\n"
      ],
      "metadata": {
        "colab": {
          "base_uri": "https://localhost:8080/"
        },
        "id": "kWRaS9JTpbHo",
        "outputId": "20c9ba5d-60aa-4f0e-93d9-388bd934e49e"
      },
      "execution_count": 124,
      "outputs": [
        {
          "output_type": "stream",
          "name": "stdout",
          "text": [
            "R-squared: 0.6186018924259471\n"
          ]
        }
      ]
    },
    {
      "cell_type": "code",
      "source": [
        "from sklearn.metrics import mean_absolute_error\n",
        "\n",
        "mae = mean_absolute_error(Y_test, predictions)\n",
        "print(\"Mean Absolute Error:\", mae)\n",
        "\n"
      ],
      "metadata": {
        "colab": {
          "base_uri": "https://localhost:8080/"
        },
        "id": "GLcm19LupfQO",
        "outputId": "d717f69e-1de4-4869-86be-08fd2330dc36"
      },
      "execution_count": 127,
      "outputs": [
        {
          "output_type": "stream",
          "name": "stdout",
          "text": [
            "Mean Absolute Error: 762.4923443868693\n"
          ]
        }
      ]
    },
    {
      "cell_type": "code",
      "source": [
        "r2_test=metrics.r2_score(Y_test,predictions)\n",
        "r2_test"
      ],
      "metadata": {
        "colab": {
          "base_uri": "https://localhost:8080/"
        },
        "id": "aU2J4JrTprAw",
        "outputId": "13784130-c770-44a5-b57e-d3e81f9e37a8"
      },
      "execution_count": 130,
      "outputs": [
        {
          "output_type": "execute_result",
          "data": {
            "text/plain": [
              "0.6186018924259471"
            ]
          },
          "metadata": {},
          "execution_count": 130
        }
      ]
    },
    {
      "cell_type": "code",
      "source": [
        "actual_values = Y_test\n",
        "predicted_values = predictions"
      ],
      "metadata": {
        "id": "DWDTqDpPrQAu"
      },
      "execution_count": null,
      "outputs": []
    },
    {
      "cell_type": "code",
      "source": [
        "import matplotlib.pyplot as plt\n",
        "\n",
        "plt.figure(figsize=(8, 6))  # Adjust figure size as needed\n",
        "\n",
        "# Separate actual and predicted values for clarity\n",
        "actual_values = Y_test\n",
        "predicted_values = predictions\n",
        "\n",
        "# Plot actual values with blue color and 'o' marker\n",
        "plt.plot(actual_values, actual_values, marker='o', color='blue', label='Actual Values')\n",
        "\n",
        "# Plot predicted values with red color and 'x' marker\n",
        "plt.plot(predicted_values, predicted_values, marker='x', color='red', label='Predicted Values')\n",
        "\n",
        "plt.xlabel(\"Values\")\n",
        "plt.ylabel(\"Values\")\n",
        "plt.title(\"Predicted vs. Actual Values\")\n",
        "plt.legend()\n",
        "plt.grid(True)\n",
        "plt.show()\n"
      ],
      "metadata": {
        "colab": {
          "base_uri": "https://localhost:8080/",
          "height": 573
        },
        "id": "HQ-JX7dOqNy5",
        "outputId": "fd3dd925-380a-4c73-b95a-db9bb36d35e8"
      },
      "execution_count": 138,
      "outputs": [
        {
          "output_type": "display_data",
          "data": {
            "text/plain": [
              "<Figure size 800x600 with 1 Axes>"
            ],
            "image/png": "[encoded data removed]"
          },
          "metadata": {}
        }
      ]
    },
    {
      "cell_type": "markdown",
      "source": [
        "This basic visualization plots the predicted values on the x-axis and the actual values on the y-axis. It allows you to visually assess how well the model's predictions align with the true values."
      ],
      "metadata": {
        "id": "fIlu0huSq4Jd"
      }
    },
    {
      "cell_type": "code",
      "source": [
        "import matplotlib.pyplot as plt\n",
        "\n",
        "plt.figure(figsize=(8, 6))\n",
        "\n",
        "plt.scatter(predictions, Y_test - predictions, c='blue', marker='o', label='Residuals')\n",
        "plt.xlabel(\"Predicted Values\")\n",
        "plt.ylabel(\"Residuals\")\n",
        "plt.title(\"Residual Plot\")\n",
        "plt.grid(True)\n",
        "plt.legend()\n",
        "plt.show()\n"
      ],
      "metadata": {
        "colab": {
          "base_uri": "https://localhost:8080/",
          "height": 573
        },
        "id": "dXeZxAn7qSZI",
        "outputId": "2931b5cc-4ab0-4898-de89-a2654fbdaf07"
      },
      "execution_count": 139,
      "outputs": [
        {
          "output_type": "display_data",
          "data": {
            "text/plain": [
              "<Figure size 800x600 with 1 Axes>"
            ],
            "image/png": "[encoded data removed]"
          },
          "metadata": {}
        }
      ]
    },
    {
      "cell_type": "markdown",
      "source": [
        "This plot displays the difference between the predicted and actual values (residuals) on the y-axis and the predicted values on the x-axis. It can help identify potential patterns in the errors, such as bias or heteroscedasticity."
      ],
      "metadata": {
        "id": "A6O7HAB_q8Fh"
      }
    },
    {
      "cell_type": "code",
      "source": [
        "import xgboost\n",
        "\n",
        "importance = xgboost.plot_importance(best_model)\n",
        "plt.show()\n"
      ],
      "metadata": {
        "colab": {
          "base_uri": "https://localhost:8080/",
          "height": 480
        },
        "id": "fFfNFICoqYim",
        "outputId": "b4000fcc-ab1f-4fbe-fd65-d7d392beef34"
      },
      "execution_count": 142,
      "outputs": [
        {
          "output_type": "display_data",
          "data": {
            "text/plain": [
              "<Figure size 640x480 with 1 Axes>"
            ],
            "image/png": "[encoded data removed]"
          },
          "metadata": {}
        }
      ]
    },
    {
      "cell_type": "markdown",
      "source": [
        "Feature Importance:\n",
        "\n",
        "XGBoost provides built-in functionality to calculate feature importance, which indicates the relative contribution of each feature to the model's predictions. Visualizing feature importance using bar charts or heatmaps can help you understand which features are most influential in making predictions."
      ],
      "metadata": {
        "id": "dQDKnVUcrF7F"
      }
    },
    {
      "cell_type": "code",
      "source": [
        "import matplotlib.pyplot as plt\n",
        "\n",
        "plt.figure(figsize=(8, 6))\n",
        "\n",
        "plt.hist(predictions, bins=20, color='green', edgecolor='black')\n",
        "plt.xlabel(\"Predicted Values\")\n",
        "plt.ylabel(\"Frequency\")\n",
        "plt.title(\"Distribution of Predictions\")\n",
        "plt.grid(True)\n",
        "plt.show()\n",
        "\n"
      ],
      "metadata": {
        "colab": {
          "base_uri": "https://localhost:8080/",
          "height": 573
        },
        "id": "MjanJquEqeGj",
        "outputId": "06a8007c-012c-49a3-d8a9-5c3612686388"
      },
      "execution_count": 143,
      "outputs": [
        {
          "output_type": "display_data",
          "data": {
            "text/plain": [
              "<Figure size 800x600 with 1 Axes>"
            ],
            "image/png": "[encoded data removed]"
          },
          "metadata": {}
        }
      ]
    },
    {
      "cell_type": "markdown",
      "source": [
        "Distribution of Predictions:\n",
        "\n",
        "Plotting the distribution of your predictions can reveal potential issues like skewness or outliers."
      ],
      "metadata": {
        "id": "kwA4YyFQrB37"
      }
    },
    {
      "cell_type": "code",
      "source": [
        "model.fit(X_train,Y_train)"
      ],
      "metadata": {
        "colab": {
          "base_uri": "https://localhost:8080/",
          "height": 248
        },
        "id": "XujEBEFdcGQH",
        "outputId": "e54e70f3-5fec-46d1-9d87-0d238669d342"
      },
      "execution_count": 68,
      "outputs": [
        {
          "output_type": "execute_result",
          "data": {
            "text/plain": [
              "XGBRegressor(base_score=None, booster=None, callbacks=None,\n",
              "             colsample_bylevel=None, colsample_bynode=None,\n",
              "             colsample_bytree=None, device=None, early_stopping_rounds=None,\n",
              "             enable_categorical=False, eval_metric=None, feature_types=None,\n",
              "             gamma=None, grow_policy=None, importance_type=None,\n",
              "             interaction_constraints=None, learning_rate=None, max_bin=None,\n",
              "             max_cat_threshold=None, max_cat_to_onehot=None,\n",
              "             max_delta_step=None, max_depth=None, max_leaves=None,\n",
              "             min_child_weight=None, missing=nan, monotone_constraints=None,\n",
              "             multi_strategy=None, n_estimators=None, n_jobs=None,\n",
              "             num_parallel_tree=None, random_state=None, ...)"
            ],
            "text/html": [
              "<style>#sk-container-id-1 {color: black;background-color: white;}#sk-container-id-1 pre{padding: 0;}#sk-container-id-1 div.sk-toggleable {background-color: white;}#sk-container-id-1 label.sk-toggleable__label {cursor: pointer;display: block;width: 100%;margin-bottom: 0;padding: 0.3em;box-sizing: border-box;text-align: center;}#sk-container-id-1 label.sk-toggleable__label-arrow:before {content: \"▸\";float: left;margin-right: 0.25em;color: #696969;}#sk-container-id-1 label.sk-toggleable__label-arrow:hover:before {color: black;}#sk-container-id-1 div.sk-estimator:hover label.sk-toggleable__label-arrow:before {color: black;}#sk-container-id-1 div.sk-toggleable__content {max-height: 0;max-width: 0;overflow: hidden;text-align: left;background-color: #f0f8ff;}#sk-container-id-1 div.sk-toggleable__content pre {margin: 0.2em;color: black;border-radius: 0.25em;background-color: #f0f8ff;}#sk-container-id-1 input.sk-toggleable__control:checked~div.sk-toggleable__content {max-height: 200px;max-width: 100%;overflow: auto;}#sk-container-id-1 input.sk-toggleable__control:checked~label.sk-toggleable__label-arrow:before {content: \"▾\";}#sk-container-id-1 div.sk-estimator input.sk-toggleable__control:checked~label.sk-toggleable__label {background-color: #d4ebff;}#sk-container-id-1 div.sk-label input.sk-toggleable__control:checked~label.sk-toggleable__label {background-color: #d4ebff;}#sk-container-id-1 input.sk-hidden--visually {border: 0;clip: rect(1px 1px 1px 1px);clip: rect(1px, 1px, 1px, 1px);height: 1px;margin: -1px;overflow: hidden;padding: 0;position: absolute;width: 1px;}#sk-container-id-1 div.sk-estimator {font-family: monospace;background-color: #f0f8ff;border: 1px dotted black;border-radius: 0.25em;box-sizing: border-box;margin-bottom: 0.5em;}#sk-container-id-1 div.sk-estimator:hover {background-color: #d4ebff;}#sk-container-id-1 div.sk-parallel-item::after {content: \"\";width: 100%;border-bottom: 1px solid gray;flex-grow: 1;}#sk-container-id-1 div.sk-label:hover label.sk-toggleable__label {background-color: #d4ebff;}#sk-container-id-1 div.sk-serial::before {content: \"\";position: absolute;border-left: 1px solid gray;box-sizing: border-box;top: 0;bottom: 0;left: 50%;z-index: 0;}#sk-container-id-1 div.sk-serial {display: flex;flex-direction: column;align-items: center;background-color: white;padding-right: 0.2em;padding-left: 0.2em;position: relative;}#sk-container-id-1 div.sk-item {position: relative;z-index: 1;}#sk-container-id-1 div.sk-parallel {display: flex;align-items: stretch;justify-content: center;background-color: white;position: relative;}#sk-container-id-1 div.sk-item::before, #sk-container-id-1 div.sk-parallel-item::before {content: \"\";position: absolute;border-left: 1px solid gray;box-sizing: border-box;top: 0;bottom: 0;left: 50%;z-index: -1;}#sk-container-id-1 div.sk-parallel-item {display: flex;flex-direction: column;z-index: 1;position: relative;background-color: white;}#sk-container-id-1 div.sk-parallel-item:first-child::after {align-self: flex-end;width: 50%;}#sk-container-id-1 div.sk-parallel-item:last-child::after {align-self: flex-start;width: 50%;}#sk-container-id-1 div.sk-parallel-item:only-child::after {width: 0;}#sk-container-id-1 div.sk-dashed-wrapped {border: 1px dashed gray;margin: 0 0.4em 0.5em 0.4em;box-sizing: border-box;padding-bottom: 0.4em;background-color: white;}#sk-container-id-1 div.sk-label label {font-family: monospace;font-weight: bold;display: inline-block;line-height: 1.2em;}#sk-container-id-1 div.sk-label-container {text-align: center;}#sk-container-id-1 div.sk-container {/* jupyter's `normalize.less` sets `[hidden] { display: none; }` but bootstrap.min.css set `[hidden] { display: none !important; }` so we also need the `!important` here to be able to override the default hidden behavior on the sphinx rendered scikit-learn.org. See: https://github.com/scikit-learn/scikit-learn/issues/21755 */display: inline-block !important;position: relative;}#sk-container-id-1 div.sk-text-repr-fallback {display: none;}</style><div id=\"sk-container-id-1\" class=\"sk-top-container\"><div class=\"sk-text-repr-fallback\"><pre>XGBRegressor(base_score=None, booster=None, callbacks=None,\n",
              "             colsample_bylevel=None, colsample_bynode=None,\n",
              "             colsample_bytree=None, device=None, early_stopping_rounds=None,\n",
              "             enable_categorical=False, eval_metric=None, feature_types=None,\n",
              "             gamma=None, grow_policy=None, importance_type=None,\n",
              "             interaction_constraints=None, learning_rate=None, max_bin=None,\n",
              "             max_cat_threshold=None, max_cat_to_onehot=None,\n",
              "             max_delta_step=None, max_depth=None, max_leaves=None,\n",
              "             min_child_weight=None, missing=nan, monotone_constraints=None,\n",
              "             multi_strategy=None, n_estimators=None, n_jobs=None,\n",
              "             num_parallel_tree=None, random_state=None, ...)</pre><b>In a Jupyter environment, please rerun this cell to show the HTML representation or trust the notebook. <br />On GitHub, the HTML representation is unable to render, please try loading this page with nbviewer.org.</b></div><div class=\"sk-container\" hidden><div class=\"sk-item\"><div class=\"sk-estimator sk-toggleable\"><input class=\"sk-toggleable__control sk-hidden--visually\" id=\"sk-estimator-id-1\" type=\"checkbox\" checked><label for=\"sk-estimator-id-1\" class=\"sk-toggleable__label sk-toggleable__label-arrow\">XGBRegressor</label><div class=\"sk-toggleable__content\"><pre>XGBRegressor(base_score=None, booster=None, callbacks=None,\n",
              "             colsample_bylevel=None, colsample_bynode=None,\n",
              "             colsample_bytree=None, device=None, early_stopping_rounds=None,\n",
              "             enable_categorical=False, eval_metric=None, feature_types=None,\n",
              "             gamma=None, grow_policy=None, importance_type=None,\n",
              "             interaction_constraints=None, learning_rate=None, max_bin=None,\n",
              "             max_cat_threshold=None, max_cat_to_onehot=None,\n",
              "             max_delta_step=None, max_depth=None, max_leaves=None,\n",
              "             min_child_weight=None, missing=nan, monotone_constraints=None,\n",
              "             multi_strategy=None, n_estimators=None, n_jobs=None,\n",
              "             num_parallel_tree=None, random_state=None, ...)</pre></div></div></div></div></div>"
            ]
          },
          "metadata": {},
          "execution_count": 68
        }
      ]
    },
    {
      "cell_type": "code",
      "source": [
        "#predicting\n",
        "train_data_predict=model.predict(X_train)"
      ],
      "metadata": {
        "id": "vWNZA4QwcHWo"
      },
      "execution_count": 69,
      "outputs": []
    },
    {
      "cell_type": "code",
      "source": [
        "#RSquared value\n",
        "r2_train=metrics.r2_score(Y_train,train_data_predict)"
      ],
      "metadata": {
        "id": "7xZIat2PcIj0"
      },
      "execution_count": 70,
      "outputs": []
    },
    {
      "cell_type": "code",
      "source": [
        "r2_train"
      ],
      "metadata": {
        "colab": {
          "base_uri": "https://localhost:8080/"
        },
        "id": "Ba6vxccbcJa0",
        "outputId": "357d6bb3-118c-4f61-88ce-8d6b8daab8cd"
      },
      "execution_count": 71,
      "outputs": [
        {
          "output_type": "execute_result",
          "data": {
            "text/plain": [
              "0.8770496039559836"
            ]
          },
          "metadata": {},
          "execution_count": 71
        }
      ]
    },
    {
      "cell_type": "code",
      "source": [
        "test_data_predict=model.predict(X_test)"
      ],
      "metadata": {
        "id": "_5cTBzQ3cKh8"
      },
      "execution_count": 72,
      "outputs": []
    },
    {
      "cell_type": "code",
      "source": [
        "r2_test=metrics.r2_score(Y_test,test_data_predict)"
      ],
      "metadata": {
        "id": "vEY6hZyicLe9"
      },
      "execution_count": 73,
      "outputs": []
    },
    {
      "cell_type": "code",
      "source": [
        "r2_test"
      ],
      "metadata": {
        "colab": {
          "base_uri": "https://localhost:8080/"
        },
        "id": "wEbCAFQBcNGp",
        "outputId": "8620e909-1965-409a-f61c-6bf06a557fcd"
      },
      "execution_count": 74,
      "outputs": [
        {
          "output_type": "execute_result",
          "data": {
            "text/plain": [
              "0.5034484891150831"
            ]
          },
          "metadata": {},
          "execution_count": 74
        }
      ]
    },
    {
      "cell_type": "code",
      "source": [
        "#new_prediction = model.predict(Insert new data here)"
      ],
      "metadata": {
        "id": "mPwnzXpKcPhS"
      },
      "execution_count": null,
      "outputs": []
    }
  ]
}